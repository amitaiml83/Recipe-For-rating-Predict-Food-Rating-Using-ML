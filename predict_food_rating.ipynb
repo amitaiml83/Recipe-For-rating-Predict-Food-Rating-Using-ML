{
 "cells": [
  {
   "cell_type": "code",
   "execution_count": 1,
   "id": "8be114f7",
   "metadata": {
    "_cell_guid": "b1076dfc-b9ad-4769-8c92-a6c4dae69d19",
    "_uuid": "8f2839f25d086af736a60e9eeb907d3b93b6e0e5",
    "execution": {
     "iopub.execute_input": "2024-04-20T11:57:59.180396Z",
     "iopub.status.busy": "2024-04-20T11:57:59.179655Z",
     "iopub.status.idle": "2024-04-20T11:58:00.169213Z",
     "shell.execute_reply": "2024-04-20T11:58:00.167724Z"
    },
    "papermill": {
     "duration": 1.021834,
     "end_time": "2024-04-20T11:58:00.171947",
     "exception": false,
     "start_time": "2024-04-20T11:57:59.150113",
     "status": "completed"
    },
    "tags": []
   },
   "outputs": [
    {
     "name": "stdout",
     "output_type": "stream",
     "text": [
      "/kaggle/input/recipe-for-rating-predict-food-ratings-using-ml/sample.csv\n",
      "/kaggle/input/recipe-for-rating-predict-food-ratings-using-ml/train.csv\n",
      "/kaggle/input/recipe-for-rating-predict-food-ratings-using-ml/test.csv\n"
     ]
    }
   ],
   "source": [
    "# This Python 3 environment comes with many helpful analytics libraries installed\n",
    "# It is defined by the kaggle/python Docker image: https://github.com/kaggle/docker-python\n",
    "# For example, here's several helpful packages to load\n",
    "\n",
    "import numpy as np # linear algebra\n",
    "import pandas as pd # data processing, CSV file I/O (e.g. pd.read_csv)\n",
    "\n",
    "# Input data files are available in the read-only \"../input/\" directory\n",
    "# For example, running this (by clicking run or pressing Shift+Enter) will list all files under the input directory\n",
    "\n",
    "import os\n",
    "for dirname, _, filenames in os.walk('/kaggle/input'):\n",
    "    for filename in filenames:\n",
    "        print(os.path.join(dirname, filename))\n",
    "\n",
    "# You can write up to 20GB to the current directory (/kaggle/working/) that gets preserved as output when you create a version using \"Save & Run All\" \n",
    "# You can also write temporary files to /kaggle/temp/, but they won't be saved outside of the current session"
   ]
  },
  {
   "cell_type": "markdown",
   "id": "1262c4b2",
   "metadata": {
    "papermill": {
     "duration": 0.027419,
     "end_time": "2024-04-20T11:58:00.229043",
     "exception": false,
     "start_time": "2024-04-20T11:58:00.201624",
     "status": "completed"
    },
    "tags": []
   },
   "source": [
    "## Machine Learning Project by 21f3002445\n",
    "\n",
    "**Step in ML Projects**\n",
    "1. **look at the data for big picture.**\n",
    "2. **UnderStand the data and gain insight from data through Explotery data analysis and plot.**\n",
    "3. **Data Clening and Preprocessing**\n",
    "4. **Select the useful features for Build the Machine learning Model.**\n",
    "5. **Select a model to train it**\n",
    "6. **Hypertune the model to get best results.**\n",
    "7. **Present the Model accuarcy for diffrent diffrent algorithm**"
   ]
  },
  {
   "cell_type": "markdown",
   "id": "7655317d",
   "metadata": {
    "papermill": {
     "duration": 0.026933,
     "end_time": "2024-04-20T11:58:00.283099",
     "exception": false,
     "start_time": "2024-04-20T11:58:00.256166",
     "status": "completed"
    },
    "tags": []
   },
   "source": [
    "## Get the data\n",
    "with help of pandas data frame we are acess the train and test data."
   ]
  },
  {
   "cell_type": "code",
   "execution_count": 2,
   "id": "9ed7f77c",
   "metadata": {
    "execution": {
     "iopub.execute_input": "2024-04-20T11:58:00.339719Z",
     "iopub.status.busy": "2024-04-20T11:58:00.339184Z",
     "iopub.status.idle": "2024-04-20T11:58:00.624169Z",
     "shell.execute_reply": "2024-04-20T11:58:00.623362Z"
    },
    "papermill": {
     "duration": 0.316186,
     "end_time": "2024-04-20T11:58:00.626890",
     "exception": false,
     "start_time": "2024-04-20T11:58:00.310704",
     "status": "completed"
    },
    "tags": []
   },
   "outputs": [
    {
     "name": "stdout",
     "output_type": "stream",
     "text": [
      "Train data information:\n",
      "<class 'pandas.core.frame.DataFrame'>\n",
      "RangeIndex: 13636 entries, 0 to 13635\n",
      "Data columns (total 15 columns):\n",
      " #   Column             Non-Null Count  Dtype \n",
      "---  ------             --------------  ----- \n",
      " 0   ID                 13636 non-null  int64 \n",
      " 1   RecipeNumber       13636 non-null  int64 \n",
      " 2   RecipeCode         13636 non-null  int64 \n",
      " 3   RecipeName         13636 non-null  object\n",
      " 4   CommentID          13636 non-null  object\n",
      " 5   UserID             13636 non-null  object\n",
      " 6   UserName           13636 non-null  object\n",
      " 7   UserReputation     13636 non-null  int64 \n",
      " 8   CreationTimestamp  13636 non-null  int64 \n",
      " 9   ReplyCount         13636 non-null  int64 \n",
      " 10  ThumbsUpCount      13636 non-null  int64 \n",
      " 11  ThumbsDownCount    13636 non-null  int64 \n",
      " 12  Rating             13636 non-null  int64 \n",
      " 13  BestScore          13636 non-null  int64 \n",
      " 14  Recipe_Review      13634 non-null  object\n",
      "dtypes: int64(10), object(5)\n",
      "memory usage: 1.6+ MB\n",
      "None\n",
      "----------------------------------------------------------------------------------------\n",
      "test data information\n",
      "<class 'pandas.core.frame.DataFrame'>\n",
      "RangeIndex: 4546 entries, 0 to 4545\n",
      "Data columns (total 14 columns):\n",
      " #   Column             Non-Null Count  Dtype \n",
      "---  ------             --------------  ----- \n",
      " 0   ID                 4546 non-null   int64 \n",
      " 1   RecipeNumber       4546 non-null   int64 \n",
      " 2   RecipeCode         4546 non-null   int64 \n",
      " 3   RecipeName         4546 non-null   object\n",
      " 4   CommentID          4546 non-null   object\n",
      " 5   UserID             4546 non-null   object\n",
      " 6   UserName           4546 non-null   object\n",
      " 7   UserReputation     4546 non-null   int64 \n",
      " 8   CreationTimestamp  4546 non-null   int64 \n",
      " 9   ReplyCount         4546 non-null   int64 \n",
      " 10  ThumbsUpCount      4546 non-null   int64 \n",
      " 11  ThumbsDownCount    4546 non-null   int64 \n",
      " 12  BestScore          4546 non-null   int64 \n",
      " 13  Recipe_Review      4546 non-null   object\n",
      "dtypes: int64(9), object(5)\n",
      "memory usage: 497.3+ KB\n",
      "None\n"
     ]
    }
   ],
   "source": [
    "## access the train data\n",
    "df_train = pd.read_csv('/kaggle/input/recipe-for-rating-predict-food-ratings-using-ml/train.csv')\n",
    "print('Train data information:')\n",
    "print(df_train.info())\n",
    "        \n",
    "## acess the test data\n",
    "df_test = pd.read_csv('/kaggle/input/recipe-for-rating-predict-food-ratings-using-ml/test.csv')\n",
    "print('----------------------------------------------------------------------------------------')\n",
    "print('test data information')\n",
    "print(df_test.info())"
   ]
  },
  {
   "cell_type": "markdown",
   "id": "fd23651f",
   "metadata": {
    "papermill": {
     "duration": 0.027131,
     "end_time": "2024-04-20T11:58:00.681879",
     "exception": false,
     "start_time": "2024-04-20T11:58:00.654748",
     "status": "completed"
    },
    "tags": []
   },
   "source": [
    "**Check the missing value for train ans test data**"
   ]
  },
  {
   "cell_type": "code",
   "execution_count": 3,
   "id": "4e2ab6f8",
   "metadata": {
    "execution": {
     "iopub.execute_input": "2024-04-20T11:58:00.739394Z",
     "iopub.status.busy": "2024-04-20T11:58:00.738664Z",
     "iopub.status.idle": "2024-04-20T11:58:00.757523Z",
     "shell.execute_reply": "2024-04-20T11:58:00.756362Z"
    },
    "papermill": {
     "duration": 0.050523,
     "end_time": "2024-04-20T11:58:00.760343",
     "exception": false,
     "start_time": "2024-04-20T11:58:00.709820",
     "status": "completed"
    },
    "tags": []
   },
   "outputs": [
    {
     "data": {
      "text/plain": [
       "ID                   0\n",
       "RecipeNumber         0\n",
       "RecipeCode           0\n",
       "RecipeName           0\n",
       "CommentID            0\n",
       "UserID               0\n",
       "UserName             0\n",
       "UserReputation       0\n",
       "CreationTimestamp    0\n",
       "ReplyCount           0\n",
       "ThumbsUpCount        0\n",
       "ThumbsDownCount      0\n",
       "Rating               0\n",
       "BestScore            0\n",
       "Recipe_Review        2\n",
       "dtype: int64"
      ]
     },
     "execution_count": 3,
     "metadata": {},
     "output_type": "execute_result"
    }
   ],
   "source": [
    "df_train.isnull().sum()"
   ]
  },
  {
   "cell_type": "code",
   "execution_count": 4,
   "id": "a4e23fc2",
   "metadata": {
    "execution": {
     "iopub.execute_input": "2024-04-20T11:58:00.817485Z",
     "iopub.status.busy": "2024-04-20T11:58:00.817054Z",
     "iopub.status.idle": "2024-04-20T11:58:00.829179Z",
     "shell.execute_reply": "2024-04-20T11:58:00.828075Z"
    },
    "papermill": {
     "duration": 0.043481,
     "end_time": "2024-04-20T11:58:00.831435",
     "exception": false,
     "start_time": "2024-04-20T11:58:00.787954",
     "status": "completed"
    },
    "tags": []
   },
   "outputs": [
    {
     "data": {
      "text/plain": [
       "ID                   0\n",
       "RecipeNumber         0\n",
       "RecipeCode           0\n",
       "RecipeName           0\n",
       "CommentID            0\n",
       "UserID               0\n",
       "UserName             0\n",
       "UserReputation       0\n",
       "CreationTimestamp    0\n",
       "ReplyCount           0\n",
       "ThumbsUpCount        0\n",
       "ThumbsDownCount      0\n",
       "BestScore            0\n",
       "Recipe_Review        0\n",
       "dtype: int64"
      ]
     },
     "execution_count": 4,
     "metadata": {},
     "output_type": "execute_result"
    }
   ],
   "source": [
    "df_test.isnull().sum()"
   ]
  },
  {
   "cell_type": "markdown",
   "id": "2cd46c5c",
   "metadata": {
    "papermill": {
     "duration": 0.02781,
     "end_time": "2024-04-20T11:58:00.887900",
     "exception": false,
     "start_time": "2024-04-20T11:58:00.860090",
     "status": "completed"
    },
    "tags": []
   },
   "source": [
    "## Data Cleaning \n",
    "\n",
    "**Here We got Two missing values for Recipe Review in train data and zero in test data**"
   ]
  },
  {
   "cell_type": "code",
   "execution_count": 5,
   "id": "510103c2",
   "metadata": {
    "execution": {
     "iopub.execute_input": "2024-04-20T11:58:00.944836Z",
     "iopub.status.busy": "2024-04-20T11:58:00.944436Z",
     "iopub.status.idle": "2024-04-20T11:58:00.957515Z",
     "shell.execute_reply": "2024-04-20T11:58:00.956531Z"
    },
    "papermill": {
     "duration": 0.044419,
     "end_time": "2024-04-20T11:58:00.959877",
     "exception": false,
     "start_time": "2024-04-20T11:58:00.915458",
     "status": "completed"
    },
    "tags": []
   },
   "outputs": [
    {
     "data": {
      "text/plain": [
       "array(['great recipe! I have made them just as written, wonderfull, moist, delicate flavor...then the next time, I did not have sour cream so used vanilla yogurt and added toffee pieces- still good.  I have made them as cupcakes and they rise very nicely and stay moist.',\n",
       "       'This is an easy and quick recipe that is great for the fall cool weather. I only made substitutions for things I did not have on hand such as making my own ranch dressing mix, replacing stewed tomatoes with diced tomatoes with onion powder, and using chili hot beans instead of the drained pinto beans and can of green chilies. If I had all of the ingredients on hand, I wouldn&#39;t have changed anything.',\n",
       "       'I think I was looking for something extra special in this soup, but it wasn&#39;t there--quite a bit of work for something that tasted merely average.',\n",
       "       ...,\n",
       "       'I made this pie for my family and they loved it.  I froze the other half and then made it for a work potluck and everyone wanted the recipe.  I did change it a bit, instead of peas I put in frozen broccolli and made it with a homemade crust instead of store bought.  Absoultely a keeper recipe.',\n",
       "       'I have made this numerous times.  It&#39;s so good &amp; easy!',\n",
       "       'Super. I added 1/2 lb chopped bacon to mine. Have some xtra chicken broth in case you want it more soupy. Great recipe....will make many times over!'],\n",
       "      dtype=object)"
      ]
     },
     "execution_count": 5,
     "metadata": {},
     "output_type": "execute_result"
    }
   ],
   "source": [
    "df_train['Recipe_Review'].unique()"
   ]
  },
  {
   "cell_type": "code",
   "execution_count": 6,
   "id": "7456f797",
   "metadata": {
    "execution": {
     "iopub.execute_input": "2024-04-20T11:58:01.018934Z",
     "iopub.status.busy": "2024-04-20T11:58:01.018534Z",
     "iopub.status.idle": "2024-04-20T11:58:01.038089Z",
     "shell.execute_reply": "2024-04-20T11:58:01.036783Z"
    },
    "papermill": {
     "duration": 0.05254,
     "end_time": "2024-04-20T11:58:01.040783",
     "exception": false,
     "start_time": "2024-04-20T11:58:00.988243",
     "status": "completed"
    },
    "tags": []
   },
   "outputs": [],
   "source": [
    "# drop the missing value with function of dropna. and store in same dataframe by doing inplace=True\n",
    "df_train.dropna(inplace=True)"
   ]
  },
  {
   "cell_type": "markdown",
   "id": "de8d79b9",
   "metadata": {
    "papermill": {
     "duration": 0.088528,
     "end_time": "2024-04-20T11:58:01.158462",
     "exception": false,
     "start_time": "2024-04-20T11:58:01.069934",
     "status": "completed"
    },
    "tags": []
   },
   "source": [
    "## Explonatry Data analysis for train data\n",
    "**Importing Required Libraries**"
   ]
  },
  {
   "cell_type": "code",
   "execution_count": 7,
   "id": "f7e93e13",
   "metadata": {
    "execution": {
     "iopub.execute_input": "2024-04-20T11:58:01.218057Z",
     "iopub.status.busy": "2024-04-20T11:58:01.217219Z",
     "iopub.status.idle": "2024-04-20T11:58:02.756258Z",
     "shell.execute_reply": "2024-04-20T11:58:02.754950Z"
    },
    "papermill": {
     "duration": 1.572348,
     "end_time": "2024-04-20T11:58:02.759097",
     "exception": false,
     "start_time": "2024-04-20T11:58:01.186749",
     "status": "completed"
    },
    "tags": []
   },
   "outputs": [],
   "source": [
    "## importing visualization api\n",
    "import matplotlib.pyplot as plt\n",
    "import seaborn as sns"
   ]
  },
  {
   "cell_type": "code",
   "execution_count": 8,
   "id": "4cdd177e",
   "metadata": {
    "execution": {
     "iopub.execute_input": "2024-04-20T11:58:02.816901Z",
     "iopub.status.busy": "2024-04-20T11:58:02.816060Z",
     "iopub.status.idle": "2024-04-20T11:58:02.872633Z",
     "shell.execute_reply": "2024-04-20T11:58:02.870862Z"
    },
    "papermill": {
     "duration": 0.088868,
     "end_time": "2024-04-20T11:58:02.875711",
     "exception": false,
     "start_time": "2024-04-20T11:58:02.786843",
     "status": "completed"
    },
    "tags": []
   },
   "outputs": [
    {
     "name": "stdout",
     "output_type": "stream",
     "text": [
      "Train data shape: (13634, 15)\n",
      "Test data shae: (4546, 14)\n"
     ]
    },
    {
     "data": {
      "text/html": [
       "<div>\n",
       "<style scoped>\n",
       "    .dataframe tbody tr th:only-of-type {\n",
       "        vertical-align: middle;\n",
       "    }\n",
       "\n",
       "    .dataframe tbody tr th {\n",
       "        vertical-align: top;\n",
       "    }\n",
       "\n",
       "    .dataframe thead th {\n",
       "        text-align: right;\n",
       "    }\n",
       "</style>\n",
       "<table border=\"1\" class=\"dataframe\">\n",
       "  <thead>\n",
       "    <tr style=\"text-align: right;\">\n",
       "      <th></th>\n",
       "      <th>count</th>\n",
       "      <th>mean</th>\n",
       "      <th>std</th>\n",
       "      <th>min</th>\n",
       "      <th>25%</th>\n",
       "      <th>50%</th>\n",
       "      <th>75%</th>\n",
       "      <th>max</th>\n",
       "    </tr>\n",
       "  </thead>\n",
       "  <tbody>\n",
       "    <tr>\n",
       "      <th>ID</th>\n",
       "      <td>13634.0</td>\n",
       "      <td>1.210559e+02</td>\n",
       "      <td>1.169787e+02</td>\n",
       "      <td>0.000000e+00</td>\n",
       "      <td>4.500000e+01</td>\n",
       "      <td>9.100000e+01</td>\n",
       "      <td>1.480000e+02</td>\n",
       "      <td>7.240000e+02</td>\n",
       "    </tr>\n",
       "    <tr>\n",
       "      <th>RecipeNumber</th>\n",
       "      <td>13634.0</td>\n",
       "      <td>3.862938e+01</td>\n",
       "      <td>2.967164e+01</td>\n",
       "      <td>1.000000e+00</td>\n",
       "      <td>1.200000e+01</td>\n",
       "      <td>3.300000e+01</td>\n",
       "      <td>6.300000e+01</td>\n",
       "      <td>1.000000e+02</td>\n",
       "    </tr>\n",
       "    <tr>\n",
       "      <th>RecipeCode</th>\n",
       "      <td>13634.0</td>\n",
       "      <td>2.178741e+04</td>\n",
       "      <td>2.388439e+04</td>\n",
       "      <td>3.860000e+02</td>\n",
       "      <td>6.504000e+03</td>\n",
       "      <td>1.460000e+04</td>\n",
       "      <td>3.312100e+04</td>\n",
       "      <td>1.917750e+05</td>\n",
       "    </tr>\n",
       "    <tr>\n",
       "      <th>UserReputation</th>\n",
       "      <td>13634.0</td>\n",
       "      <td>2.160481e+00</td>\n",
       "      <td>1.008715e+01</td>\n",
       "      <td>0.000000e+00</td>\n",
       "      <td>1.000000e+00</td>\n",
       "      <td>1.000000e+00</td>\n",
       "      <td>1.000000e+00</td>\n",
       "      <td>5.100000e+02</td>\n",
       "    </tr>\n",
       "    <tr>\n",
       "      <th>CreationTimestamp</th>\n",
       "      <td>13634.0</td>\n",
       "      <td>1.623714e+09</td>\n",
       "      <td>5.444406e+06</td>\n",
       "      <td>1.613035e+09</td>\n",
       "      <td>1.622717e+09</td>\n",
       "      <td>1.622718e+09</td>\n",
       "      <td>1.622718e+09</td>\n",
       "      <td>1.665756e+09</td>\n",
       "    </tr>\n",
       "    <tr>\n",
       "      <th>ReplyCount</th>\n",
       "      <td>13634.0</td>\n",
       "      <td>1.452252e-02</td>\n",
       "      <td>1.373334e-01</td>\n",
       "      <td>0.000000e+00</td>\n",
       "      <td>0.000000e+00</td>\n",
       "      <td>0.000000e+00</td>\n",
       "      <td>0.000000e+00</td>\n",
       "      <td>3.000000e+00</td>\n",
       "    </tr>\n",
       "    <tr>\n",
       "      <th>ThumbsUpCount</th>\n",
       "      <td>13634.0</td>\n",
       "      <td>1.098430e+00</td>\n",
       "      <td>4.166771e+00</td>\n",
       "      <td>0.000000e+00</td>\n",
       "      <td>0.000000e+00</td>\n",
       "      <td>0.000000e+00</td>\n",
       "      <td>0.000000e+00</td>\n",
       "      <td>8.000000e+01</td>\n",
       "    </tr>\n",
       "    <tr>\n",
       "      <th>ThumbsDownCount</th>\n",
       "      <td>13634.0</td>\n",
       "      <td>5.437876e-01</td>\n",
       "      <td>3.265893e+00</td>\n",
       "      <td>0.000000e+00</td>\n",
       "      <td>0.000000e+00</td>\n",
       "      <td>0.000000e+00</td>\n",
       "      <td>0.000000e+00</td>\n",
       "      <td>1.260000e+02</td>\n",
       "    </tr>\n",
       "    <tr>\n",
       "      <th>Rating</th>\n",
       "      <td>13634.0</td>\n",
       "      <td>4.288617e+00</td>\n",
       "      <td>1.544928e+00</td>\n",
       "      <td>0.000000e+00</td>\n",
       "      <td>5.000000e+00</td>\n",
       "      <td>5.000000e+00</td>\n",
       "      <td>5.000000e+00</td>\n",
       "      <td>5.000000e+00</td>\n",
       "    </tr>\n",
       "    <tr>\n",
       "      <th>BestScore</th>\n",
       "      <td>13634.0</td>\n",
       "      <td>1.531357e+02</td>\n",
       "      <td>1.409958e+02</td>\n",
       "      <td>0.000000e+00</td>\n",
       "      <td>1.000000e+02</td>\n",
       "      <td>1.000000e+02</td>\n",
       "      <td>1.000000e+02</td>\n",
       "      <td>9.460000e+02</td>\n",
       "    </tr>\n",
       "  </tbody>\n",
       "</table>\n",
       "</div>"
      ],
      "text/plain": [
       "                     count          mean           std           min  \\\n",
       "ID                 13634.0  1.210559e+02  1.169787e+02  0.000000e+00   \n",
       "RecipeNumber       13634.0  3.862938e+01  2.967164e+01  1.000000e+00   \n",
       "RecipeCode         13634.0  2.178741e+04  2.388439e+04  3.860000e+02   \n",
       "UserReputation     13634.0  2.160481e+00  1.008715e+01  0.000000e+00   \n",
       "CreationTimestamp  13634.0  1.623714e+09  5.444406e+06  1.613035e+09   \n",
       "ReplyCount         13634.0  1.452252e-02  1.373334e-01  0.000000e+00   \n",
       "ThumbsUpCount      13634.0  1.098430e+00  4.166771e+00  0.000000e+00   \n",
       "ThumbsDownCount    13634.0  5.437876e-01  3.265893e+00  0.000000e+00   \n",
       "Rating             13634.0  4.288617e+00  1.544928e+00  0.000000e+00   \n",
       "BestScore          13634.0  1.531357e+02  1.409958e+02  0.000000e+00   \n",
       "\n",
       "                            25%           50%           75%           max  \n",
       "ID                 4.500000e+01  9.100000e+01  1.480000e+02  7.240000e+02  \n",
       "RecipeNumber       1.200000e+01  3.300000e+01  6.300000e+01  1.000000e+02  \n",
       "RecipeCode         6.504000e+03  1.460000e+04  3.312100e+04  1.917750e+05  \n",
       "UserReputation     1.000000e+00  1.000000e+00  1.000000e+00  5.100000e+02  \n",
       "CreationTimestamp  1.622717e+09  1.622718e+09  1.622718e+09  1.665756e+09  \n",
       "ReplyCount         0.000000e+00  0.000000e+00  0.000000e+00  3.000000e+00  \n",
       "ThumbsUpCount      0.000000e+00  0.000000e+00  0.000000e+00  8.000000e+01  \n",
       "ThumbsDownCount    0.000000e+00  0.000000e+00  0.000000e+00  1.260000e+02  \n",
       "Rating             5.000000e+00  5.000000e+00  5.000000e+00  5.000000e+00  \n",
       "BestScore          1.000000e+02  1.000000e+02  1.000000e+02  9.460000e+02  "
      ]
     },
     "execution_count": 8,
     "metadata": {},
     "output_type": "execute_result"
    }
   ],
   "source": [
    "print('Train data shape:',df_train.shape)\n",
    "print('Test data shae:',df_test.shape)     ## one column is less due to missing of target feaures in test.\n",
    "df_train.describe().T"
   ]
  },
  {
   "cell_type": "markdown",
   "id": "afb6f45a",
   "metadata": {
    "papermill": {
     "duration": 0.029233,
     "end_time": "2024-04-20T11:58:02.934996",
     "exception": false,
     "start_time": "2024-04-20T11:58:02.905763",
     "status": "completed"
    },
    "tags": []
   },
   "source": [
    "**Count of unique food items supplied in recipe**"
   ]
  },
  {
   "cell_type": "code",
   "execution_count": 9,
   "id": "f755d79b",
   "metadata": {
    "execution": {
     "iopub.execute_input": "2024-04-20T11:58:02.993783Z",
     "iopub.status.busy": "2024-04-20T11:58:02.993388Z",
     "iopub.status.idle": "2024-04-20T11:58:03.002315Z",
     "shell.execute_reply": "2024-04-20T11:58:03.001082Z"
    },
    "papermill": {
     "duration": 0.041385,
     "end_time": "2024-04-20T11:58:03.005017",
     "exception": false,
     "start_time": "2024-04-20T11:58:02.963632",
     "status": "completed"
    },
    "tags": []
   },
   "outputs": [
    {
     "data": {
      "text/plain": [
       "(100,)"
      ]
     },
     "execution_count": 9,
     "metadata": {},
     "output_type": "execute_result"
    }
   ],
   "source": [
    "df_train['RecipeNumber'].unique().shape"
   ]
  },
  {
   "cell_type": "markdown",
   "id": "180deaa0",
   "metadata": {
    "papermill": {
     "duration": 0.031013,
     "end_time": "2024-04-20T11:58:03.065643",
     "exception": false,
     "start_time": "2024-04-20T11:58:03.034630",
     "status": "completed"
    },
    "tags": []
   },
   "source": [
    "Recipe code is unique number for every Recipe."
   ]
  },
  {
   "cell_type": "code",
   "execution_count": 10,
   "id": "b5091f25",
   "metadata": {
    "execution": {
     "iopub.execute_input": "2024-04-20T11:58:03.124924Z",
     "iopub.status.busy": "2024-04-20T11:58:03.123837Z",
     "iopub.status.idle": "2024-04-20T11:58:03.130974Z",
     "shell.execute_reply": "2024-04-20T11:58:03.129966Z"
    },
    "papermill": {
     "duration": 0.039669,
     "end_time": "2024-04-20T11:58:03.133630",
     "exception": false,
     "start_time": "2024-04-20T11:58:03.093961",
     "status": "completed"
    },
    "tags": []
   },
   "outputs": [
    {
     "name": "stdout",
     "output_type": "stream",
     "text": [
      "(100,)\n",
      "0     12259\n",
      "1      8202\n",
      "2      2832\n",
      "3    100276\n",
      "4     19731\n",
      "Name: RecipeCode, dtype: int64\n"
     ]
    }
   ],
   "source": [
    "print(df_train['RecipeCode'].unique().shape)\n",
    "print(df_train['RecipeCode'][:5])"
   ]
  },
  {
   "cell_type": "code",
   "execution_count": 11,
   "id": "7a840390",
   "metadata": {
    "execution": {
     "iopub.execute_input": "2024-04-20T11:58:03.194775Z",
     "iopub.status.busy": "2024-04-20T11:58:03.193687Z",
     "iopub.status.idle": "2024-04-20T11:58:03.204644Z",
     "shell.execute_reply": "2024-04-20T11:58:03.202929Z"
    },
    "papermill": {
     "duration": 0.044252,
     "end_time": "2024-04-20T11:58:03.207307",
     "exception": false,
     "start_time": "2024-04-20T11:58:03.163055",
     "status": "completed"
    },
    "tags": []
   },
   "outputs": [
    {
     "name": "stdout",
     "output_type": "stream",
     "text": [
      "unique number of food recipe: (100,)\n",
      "check the name of food recipe:\n",
      " 0    Banana Bars with Cream Cheese Frosting\n",
      "1                          Simple Taco Soup\n",
      "2                         Cheeseburger Soup\n",
      "3                 Grilled Huli Huli Chicken\n",
      "4                          Cauliflower Soup\n",
      "Name: RecipeName, dtype: object\n"
     ]
    }
   ],
   "source": [
    "print('unique number of food recipe:',df_train['RecipeName'].unique().shape)\n",
    "print('check the name of food recipe:\\n',df_train['RecipeName'][:5])"
   ]
  },
  {
   "cell_type": "code",
   "execution_count": 12,
   "id": "37857281",
   "metadata": {
    "execution": {
     "iopub.execute_input": "2024-04-20T11:58:03.268737Z",
     "iopub.status.busy": "2024-04-20T11:58:03.268305Z",
     "iopub.status.idle": "2024-04-20T11:58:03.289087Z",
     "shell.execute_reply": "2024-04-20T11:58:03.287945Z"
    },
    "papermill": {
     "duration": 0.054792,
     "end_time": "2024-04-20T11:58:03.291700",
     "exception": false,
     "start_time": "2024-04-20T11:58:03.236908",
     "status": "completed"
    },
    "tags": []
   },
   "outputs": [
    {
     "data": {
      "text/html": [
       "<div>\n",
       "<style scoped>\n",
       "    .dataframe tbody tr th:only-of-type {\n",
       "        vertical-align: middle;\n",
       "    }\n",
       "\n",
       "    .dataframe tbody tr th {\n",
       "        vertical-align: top;\n",
       "    }\n",
       "\n",
       "    .dataframe thead th {\n",
       "        text-align: right;\n",
       "    }\n",
       "</style>\n",
       "<table border=\"1\" class=\"dataframe\">\n",
       "  <thead>\n",
       "    <tr style=\"text-align: right;\">\n",
       "      <th></th>\n",
       "      <th>ID</th>\n",
       "      <th>RecipeNumber</th>\n",
       "      <th>RecipeCode</th>\n",
       "      <th>RecipeName</th>\n",
       "      <th>CommentID</th>\n",
       "      <th>UserID</th>\n",
       "      <th>UserName</th>\n",
       "      <th>UserReputation</th>\n",
       "      <th>CreationTimestamp</th>\n",
       "      <th>ReplyCount</th>\n",
       "      <th>ThumbsUpCount</th>\n",
       "      <th>ThumbsDownCount</th>\n",
       "      <th>Rating</th>\n",
       "      <th>BestScore</th>\n",
       "      <th>Recipe_Review</th>\n",
       "    </tr>\n",
       "  </thead>\n",
       "  <tbody>\n",
       "    <tr>\n",
       "      <th>0</th>\n",
       "      <td>70</td>\n",
       "      <td>71</td>\n",
       "      <td>12259</td>\n",
       "      <td>Banana Bars with Cream Cheese Frosting</td>\n",
       "      <td>sp_aUSaElGf_12259_c_149978</td>\n",
       "      <td>u_1oKVaBmiEKwAFyiHrDLoWpbel0J</td>\n",
       "      <td>misscoffeepot</td>\n",
       "      <td>20</td>\n",
       "      <td>1622717078</td>\n",
       "      <td>0</td>\n",
       "      <td>0</td>\n",
       "      <td>0</td>\n",
       "      <td>5</td>\n",
       "      <td>100</td>\n",
       "      <td>great recipe! I have made them just as written...</td>\n",
       "    </tr>\n",
       "    <tr>\n",
       "      <th>172</th>\n",
       "      <td>4</td>\n",
       "      <td>71</td>\n",
       "      <td>12259</td>\n",
       "      <td>Banana Bars with Cream Cheese Frosting</td>\n",
       "      <td>sp_aUSaElGf_12259_c_432323</td>\n",
       "      <td>u_1tOHuoHsIKxNgRRS2s1MxNt9jg6</td>\n",
       "      <td>GoldApple</td>\n",
       "      <td>0</td>\n",
       "      <td>1622648873</td>\n",
       "      <td>0</td>\n",
       "      <td>2</td>\n",
       "      <td>2</td>\n",
       "      <td>5</td>\n",
       "      <td>167</td>\n",
       "      <td>Just made these banana bars for Easter. They w...</td>\n",
       "    </tr>\n",
       "    <tr>\n",
       "      <th>617</th>\n",
       "      <td>124</td>\n",
       "      <td>71</td>\n",
       "      <td>12259</td>\n",
       "      <td>Banana Bars with Cream Cheese Frosting</td>\n",
       "      <td>sp_aUSaElGf_12259_c_318162</td>\n",
       "      <td>u_1oKVvQbJjVuvKHTFaOOplRwvy5F</td>\n",
       "      <td>jillgingras</td>\n",
       "      <td>1</td>\n",
       "      <td>1622717934</td>\n",
       "      <td>0</td>\n",
       "      <td>0</td>\n",
       "      <td>0</td>\n",
       "      <td>0</td>\n",
       "      <td>100</td>\n",
       "      <td>This is the best banana bar recipe. It is a fa...</td>\n",
       "    </tr>\n",
       "    <tr>\n",
       "      <th>720</th>\n",
       "      <td>37</td>\n",
       "      <td>71</td>\n",
       "      <td>12259</td>\n",
       "      <td>Banana Bars with Cream Cheese Frosting</td>\n",
       "      <td>sp_aUSaElGf_12259_c_292137</td>\n",
       "      <td>u_1oKVZkwou43a0PL7Aw0NCrDXTLL</td>\n",
       "      <td>Debglass11</td>\n",
       "      <td>30</td>\n",
       "      <td>1622717807</td>\n",
       "      <td>0</td>\n",
       "      <td>0</td>\n",
       "      <td>0</td>\n",
       "      <td>5</td>\n",
       "      <td>100</td>\n",
       "      <td>These are wonderful!  Made exactly as written....</td>\n",
       "    </tr>\n",
       "    <tr>\n",
       "      <th>796</th>\n",
       "      <td>73</td>\n",
       "      <td>71</td>\n",
       "      <td>12259</td>\n",
       "      <td>Banana Bars with Cream Cheese Frosting</td>\n",
       "      <td>sp_aUSaElGf_12259_c_373766</td>\n",
       "      <td>u_1oKVeUN8Xkh7FxowgzAvZdnEl7Y</td>\n",
       "      <td>oeg1kallee</td>\n",
       "      <td>1</td>\n",
       "      <td>1622718153</td>\n",
       "      <td>0</td>\n",
       "      <td>0</td>\n",
       "      <td>0</td>\n",
       "      <td>5</td>\n",
       "      <td>100</td>\n",
       "      <td>wow- I have a new go-to recipe for my ripe ban...</td>\n",
       "    </tr>\n",
       "  </tbody>\n",
       "</table>\n",
       "</div>"
      ],
      "text/plain": [
       "      ID  RecipeNumber  RecipeCode                              RecipeName  \\\n",
       "0     70            71       12259  Banana Bars with Cream Cheese Frosting   \n",
       "172    4            71       12259  Banana Bars with Cream Cheese Frosting   \n",
       "617  124            71       12259  Banana Bars with Cream Cheese Frosting   \n",
       "720   37            71       12259  Banana Bars with Cream Cheese Frosting   \n",
       "796   73            71       12259  Banana Bars with Cream Cheese Frosting   \n",
       "\n",
       "                      CommentID                         UserID       UserName  \\\n",
       "0    sp_aUSaElGf_12259_c_149978  u_1oKVaBmiEKwAFyiHrDLoWpbel0J  misscoffeepot   \n",
       "172  sp_aUSaElGf_12259_c_432323  u_1tOHuoHsIKxNgRRS2s1MxNt9jg6      GoldApple   \n",
       "617  sp_aUSaElGf_12259_c_318162  u_1oKVvQbJjVuvKHTFaOOplRwvy5F    jillgingras   \n",
       "720  sp_aUSaElGf_12259_c_292137  u_1oKVZkwou43a0PL7Aw0NCrDXTLL     Debglass11   \n",
       "796  sp_aUSaElGf_12259_c_373766  u_1oKVeUN8Xkh7FxowgzAvZdnEl7Y     oeg1kallee   \n",
       "\n",
       "     UserReputation  CreationTimestamp  ReplyCount  ThumbsUpCount  \\\n",
       "0                20         1622717078           0              0   \n",
       "172               0         1622648873           0              2   \n",
       "617               1         1622717934           0              0   \n",
       "720              30         1622717807           0              0   \n",
       "796               1         1622718153           0              0   \n",
       "\n",
       "     ThumbsDownCount  Rating  BestScore  \\\n",
       "0                  0       5        100   \n",
       "172                2       5        167   \n",
       "617                0       0        100   \n",
       "720                0       5        100   \n",
       "796                0       5        100   \n",
       "\n",
       "                                         Recipe_Review  \n",
       "0    great recipe! I have made them just as written...  \n",
       "172  Just made these banana bars for Easter. They w...  \n",
       "617  This is the best banana bar recipe. It is a fa...  \n",
       "720  These are wonderful!  Made exactly as written....  \n",
       "796  wow- I have a new go-to recipe for my ripe ban...  "
      ]
     },
     "execution_count": 12,
     "metadata": {},
     "output_type": "execute_result"
    }
   ],
   "source": [
    "df_train.loc[df_train['RecipeName']=='Banana Bars with Cream Cheese Frosting'].head()"
   ]
  },
  {
   "cell_type": "markdown",
   "id": "8ebc41e7",
   "metadata": {
    "papermill": {
     "duration": 0.030206,
     "end_time": "2024-04-20T11:58:03.352042",
     "exception": false,
     "start_time": "2024-04-20T11:58:03.321836",
     "status": "completed"
    },
    "tags": []
   },
   "source": [
    "**Here we can identify the recipe name through Recipe code or recipe number.these three feature are corelated each other.so dropped two feature preocessed with RecipeName**"
   ]
  },
  {
   "cell_type": "markdown",
   "id": "65305697",
   "metadata": {
    "papermill": {
     "duration": 0.029096,
     "end_time": "2024-04-20T11:58:03.410197",
     "exception": false,
     "start_time": "2024-04-20T11:58:03.381101",
     "status": "completed"
    },
    "tags": []
   },
   "source": [
    "**checking the Other Categorical Features for gain the userful insight from data**"
   ]
  },
  {
   "cell_type": "code",
   "execution_count": 13,
   "id": "a5726a34",
   "metadata": {
    "execution": {
     "iopub.execute_input": "2024-04-20T11:58:03.470570Z",
     "iopub.status.busy": "2024-04-20T11:58:03.469780Z",
     "iopub.status.idle": "2024-04-20T11:58:03.480113Z",
     "shell.execute_reply": "2024-04-20T11:58:03.478371Z"
    },
    "papermill": {
     "duration": 0.043214,
     "end_time": "2024-04-20T11:58:03.482463",
     "exception": false,
     "start_time": "2024-04-20T11:58:03.439249",
     "status": "completed"
    },
    "tags": []
   },
   "outputs": [
    {
     "name": "stdout",
     "output_type": "stream",
     "text": [
      "0     sp_aUSaElGf_12259_c_149978\n",
      "1      sp_aUSaElGf_8202_c_310332\n",
      "2      sp_aUSaElGf_2832_c_206522\n",
      "3    sp_aUSaElGf_100276_c_434088\n",
      "4     sp_aUSaElGf_19731_c_387011\n",
      "Name: CommentID, dtype: object\n",
      "------------------------------------\n",
      "0    u_1oKVaBmiEKwAFyiHrDLoWpbel0J\n",
      "1    u_1oKZeRIXYzGNhGW8OMR3O4lX1ih\n",
      "2    u_1oKYHUtdaD48KJCDYq5wfpAUxWz\n",
      "3    u_1oKZCQcKQZdQhDVBS7oISc216VA\n",
      "4    u_1oKd4sudZQPgu6YALiC7bW7mKMs\n",
      "Name: UserID, dtype: object\n",
      "-------------------------------------\n",
      "0     misscoffeepot\n",
      "1    MichelleMalone\n",
      "2         jeannem32\n",
      "3             ds422\n",
      "4       SusanHoward\n",
      "Name: UserName, dtype: object\n"
     ]
    }
   ],
   "source": [
    "print(df_train['CommentID'][:5])       # first five comment in train data sets\n",
    "print('------------------------------------')   \n",
    "print(df_train['UserID'][:5])                 # first five username in train data sets\n",
    "print('-------------------------------------')\n",
    "print(df_train['UserName'][:5])               # first five username in train data sets"
   ]
  },
  {
   "cell_type": "code",
   "execution_count": 14,
   "id": "0af86bee",
   "metadata": {
    "execution": {
     "iopub.execute_input": "2024-04-20T11:58:03.545657Z",
     "iopub.status.busy": "2024-04-20T11:58:03.544894Z",
     "iopub.status.idle": "2024-04-20T11:58:03.557066Z",
     "shell.execute_reply": "2024-04-20T11:58:03.555947Z"
    },
    "papermill": {
     "duration": 0.046284,
     "end_time": "2024-04-20T11:58:03.559469",
     "exception": false,
     "start_time": "2024-04-20T11:58:03.513185",
     "status": "completed"
    },
    "tags": []
   },
   "outputs": [
    {
     "data": {
      "text/plain": [
       "0        misscoffeepot\n",
       "4188     misscoffeepot\n",
       "5132     misscoffeepot\n",
       "5329     misscoffeepot\n",
       "8081     misscoffeepot\n",
       "12803    misscoffeepot\n",
       "Name: UserName, dtype: object"
      ]
     },
     "execution_count": 14,
     "metadata": {},
     "output_type": "execute_result"
    }
   ],
   "source": [
    "df_train.loc[df_train['UserID']=='u_1oKVaBmiEKwAFyiHrDLoWpbel0J']['UserName']"
   ]
  },
  {
   "cell_type": "markdown",
   "id": "cf3707c5",
   "metadata": {
    "papermill": {
     "duration": 0.029798,
     "end_time": "2024-04-20T11:58:03.619921",
     "exception": false,
     "start_time": "2024-04-20T11:58:03.590123",
     "status": "completed"
    },
    "tags": []
   },
   "source": [
    "**Here commentid has alphanumric character.they are not gives any insight.but with userid or username we can find each other.so i dropeed UserID and proceed with UserName**"
   ]
  },
  {
   "cell_type": "markdown",
   "id": "49683630",
   "metadata": {
    "papermill": {
     "duration": 0.029343,
     "end_time": "2024-04-20T11:58:03.678940",
     "exception": false,
     "start_time": "2024-04-20T11:58:03.649597",
     "status": "completed"
    },
    "tags": []
   },
   "source": [
    "**Top Five Food recipe according to rating average**"
   ]
  },
  {
   "cell_type": "code",
   "execution_count": 15,
   "id": "1e31064f",
   "metadata": {
    "execution": {
     "iopub.execute_input": "2024-04-20T11:58:03.741188Z",
     "iopub.status.busy": "2024-04-20T11:58:03.740542Z",
     "iopub.status.idle": "2024-04-20T11:58:03.754148Z",
     "shell.execute_reply": "2024-04-20T11:58:03.752992Z"
    },
    "papermill": {
     "duration": 0.047899,
     "end_time": "2024-04-20T11:58:03.756978",
     "exception": false,
     "start_time": "2024-04-20T11:58:03.709079",
     "status": "completed"
    },
    "tags": []
   },
   "outputs": [
    {
     "data": {
      "text/plain": [
       "RecipeName\n",
       "Rustic Italian Tortellini Soup    4.739336\n",
       "Corn Pudding                      4.692308\n",
       "Zucchini Pizza Casserole          4.657371\n",
       "Comforting Chicken Noodle Soup    4.654321\n",
       "Special Banana Nut Bread          4.648936\n",
       "Name: Rating, dtype: float64"
      ]
     },
     "execution_count": 15,
     "metadata": {},
     "output_type": "execute_result"
    }
   ],
   "source": [
    "df_train.groupby(['RecipeName'])['Rating'].mean().sort_values(ascending=False)[:5]"
   ]
  },
  {
   "cell_type": "markdown",
   "id": "eaebaaab",
   "metadata": {
    "papermill": {
     "duration": 0.029211,
     "end_time": "2024-04-20T11:58:03.815846",
     "exception": false,
     "start_time": "2024-04-20T11:58:03.786635",
     "status": "completed"
    },
    "tags": []
   },
   "source": [
    "## Feature Engineering"
   ]
  },
  {
   "cell_type": "code",
   "execution_count": 16,
   "id": "341a42fa",
   "metadata": {
    "execution": {
     "iopub.execute_input": "2024-04-20T11:58:03.877081Z",
     "iopub.status.busy": "2024-04-20T11:58:03.876377Z",
     "iopub.status.idle": "2024-04-20T11:58:03.884633Z",
     "shell.execute_reply": "2024-04-20T11:58:03.883771Z"
    },
    "papermill": {
     "duration": 0.041609,
     "end_time": "2024-04-20T11:58:03.887061",
     "exception": false,
     "start_time": "2024-04-20T11:58:03.845452",
     "status": "completed"
    },
    "tags": []
   },
   "outputs": [],
   "source": [
    "df_train['CreationTimestamp']= pd.to_datetime(df_train['CreationTimestamp'],unit='s')"
   ]
  },
  {
   "cell_type": "markdown",
   "id": "db3defde",
   "metadata": {
    "papermill": {
     "duration": 0.02918,
     "end_time": "2024-04-20T11:58:03.945724",
     "exception": false,
     "start_time": "2024-04-20T11:58:03.916544",
     "status": "completed"
    },
    "tags": []
   },
   "source": [
    "## Visualization of Features Using Heatmap"
   ]
  },
  {
   "cell_type": "code",
   "execution_count": 17,
   "id": "88dc1e03",
   "metadata": {
    "execution": {
     "iopub.execute_input": "2024-04-20T11:58:04.010823Z",
     "iopub.status.busy": "2024-04-20T11:58:04.009738Z",
     "iopub.status.idle": "2024-04-20T11:58:04.613089Z",
     "shell.execute_reply": "2024-04-20T11:58:04.612044Z"
    },
    "papermill": {
     "duration": 0.639202,
     "end_time": "2024-04-20T11:58:04.615399",
     "exception": false,
     "start_time": "2024-04-20T11:58:03.976197",
     "status": "completed"
    },
    "tags": []
   },
   "outputs": [
    {
     "data": {
      "text/plain": [
       "<Axes: >"
      ]
     },
     "execution_count": 17,
     "metadata": {},
     "output_type": "execute_result"
    },
    {
     "data": {
      "image/png": "[encoded data removed]",
      "text/plain": [
       "<Figure size 800x600 with 2 Axes>"
      ]
     },
     "metadata": {},
     "output_type": "display_data"
    }
   ],
   "source": [
    "corr = df_train[['UserReputation', 'CreationTimestamp', 'ReplyCount','ThumbsUpCount', 'ThumbsDownCount',  'BestScore']].corr()\n",
    "plt.figure(figsize=(8,6))\n",
    "sns.heatmap(corr,annot=True)"
   ]
  },
  {
   "cell_type": "markdown",
   "id": "9d2429d5",
   "metadata": {
    "papermill": {
     "duration": 0.03096,
     "end_time": "2024-04-20T11:58:04.677296",
     "exception": false,
     "start_time": "2024-04-20T11:58:04.646336",
     "status": "completed"
    },
    "tags": []
   },
   "source": [
    "**An analysis of the correlation matrix via heatmap reveals that best score much related with creationtime stumps and thumbsUpCount. exhibit high correlation with the Best score. Consequently, I've opted to exclude this column**"
   ]
  },
  {
   "cell_type": "markdown",
   "id": "71d24538",
   "metadata": {
    "papermill": {
     "duration": 0.030141,
     "end_time": "2024-04-20T11:58:04.738617",
     "exception": false,
     "start_time": "2024-04-20T11:58:04.708476",
     "status": "completed"
    },
    "tags": []
   },
   "source": [
    "Effect on Rating with remaing numrical features"
   ]
  },
  {
   "cell_type": "code",
   "execution_count": 18,
   "id": "8e761182",
   "metadata": {
    "execution": {
     "iopub.execute_input": "2024-04-20T11:58:04.806206Z",
     "iopub.status.busy": "2024-04-20T11:58:04.804876Z",
     "iopub.status.idle": "2024-04-20T11:58:05.966864Z",
     "shell.execute_reply": "2024-04-20T11:58:05.965698Z"
    },
    "papermill": {
     "duration": 1.200143,
     "end_time": "2024-04-20T11:58:05.969429",
     "exception": false,
     "start_time": "2024-04-20T11:58:04.769286",
     "status": "completed"
    },
    "tags": []
   },
   "outputs": [
    {
     "data": {
      "image/png": "[encoded data removed]",
      "text/plain": [
       "<Figure size 1200x800 with 4 Axes>"
      ]
     },
     "metadata": {},
     "output_type": "display_data"
    }
   ],
   "source": [
    "numric_c = ['UserReputation', 'ReplyCount', 'ThumbsDownCount', 'BestScore']\n",
    "num_rows = len(numric_c) // 2\n",
    "num_cols = 2\n",
    "# Create subplots\n",
    "fig, axes = plt.subplots(num_rows, num_cols, figsize=(12, 8))\n",
    "\n",
    "# Flatten the axes if necessary\n",
    "axes = axes.flatten()\n",
    "\n",
    "# Plot each numeric column against 'Rating'\n",
    "for i, c in enumerate(numric_c):\n",
    "    sns.scatterplot(x=c, y='Rating', data=df_train, ax=axes[i])\n",
    "    axes[i].set_title(f'{c} vs Rating')\n",
    "    axes[i].set_xlabel(c)\n",
    "    axes[i].set_ylabel('Rating')\n",
    "\n",
    "# Adjust layout\n",
    "plt.tight_layout()\n",
    "plt.show()\n",
    "\n"
   ]
  },
  {
   "cell_type": "markdown",
   "id": "f02d6479",
   "metadata": {
    "papermill": {
     "duration": 0.032358,
     "end_time": "2024-04-20T11:58:06.033539",
     "exception": false,
     "start_time": "2024-04-20T11:58:06.001181",
     "status": "completed"
    },
    "tags": []
   },
   "source": [
    "We can clearly see these features not much affect the rating.so i have dropeed these. and proceed with only categorical features."
   ]
  },
  {
   "cell_type": "markdown",
   "id": "a06da88a",
   "metadata": {
    "papermill": {
     "duration": 0.031804,
     "end_time": "2024-04-20T11:58:06.100714",
     "exception": false,
     "start_time": "2024-04-20T11:58:06.068910",
     "status": "completed"
    },
    "tags": []
   },
   "source": [
    "**Visualization of all Rating on histogram plot**"
   ]
  },
  {
   "cell_type": "code",
   "execution_count": 19,
   "id": "e24d91a8",
   "metadata": {
    "execution": {
     "iopub.execute_input": "2024-04-20T11:58:06.166888Z",
     "iopub.status.busy": "2024-04-20T11:58:06.166468Z",
     "iopub.status.idle": "2024-04-20T11:58:06.398980Z",
     "shell.execute_reply": "2024-04-20T11:58:06.397860Z"
    },
    "papermill": {
     "duration": 0.270215,
     "end_time": "2024-04-20T11:58:06.402839",
     "exception": false,
     "start_time": "2024-04-20T11:58:06.132624",
     "status": "completed"
    },
    "tags": []
   },
   "outputs": [
    {
     "name": "stderr",
     "output_type": "stream",
     "text": [
      "/opt/conda/lib/python3.10/site-packages/seaborn/_oldcore.py:1119: FutureWarning: use_inf_as_na option is deprecated and will be removed in a future version. Convert inf values to NaN before operating instead.\n",
      "  with pd.option_context('mode.use_inf_as_na', True):\n"
     ]
    },
    {
     "data": {
      "image/png": "[encoded data removed]",
      "text/plain": [
       "<Figure size 400x300 with 1 Axes>"
      ]
     },
     "metadata": {},
     "output_type": "display_data"
    }
   ],
   "source": [
    "plt.figure(figsize=(4,3))\n",
    "sns.histplot(df_train['Rating'])\n",
    "plt.show()"
   ]
  },
  {
   "cell_type": "code",
   "execution_count": 20,
   "id": "90110109",
   "metadata": {
    "execution": {
     "iopub.execute_input": "2024-04-20T11:58:06.471007Z",
     "iopub.status.busy": "2024-04-20T11:58:06.470022Z",
     "iopub.status.idle": "2024-04-20T11:58:06.479532Z",
     "shell.execute_reply": "2024-04-20T11:58:06.478710Z"
    },
    "papermill": {
     "duration": 0.046194,
     "end_time": "2024-04-20T11:58:06.481768",
     "exception": false,
     "start_time": "2024-04-20T11:58:06.435574",
     "status": "completed"
    },
    "tags": []
   },
   "outputs": [
    {
     "data": {
      "text/plain": [
       "Rating\n",
       "5    10369\n",
       "0     1272\n",
       "4     1241\n",
       "3      368\n",
       "1      210\n",
       "2      174\n",
       "Name: count, dtype: int64"
      ]
     },
     "execution_count": 20,
     "metadata": {},
     "output_type": "execute_result"
    }
   ],
   "source": [
    "df_train['Rating'].value_counts()"
   ]
  },
  {
   "cell_type": "markdown",
   "id": "aaeb74c4",
   "metadata": {
    "papermill": {
     "duration": 0.032516,
     "end_time": "2024-04-20T11:58:06.546754",
     "exception": false,
     "start_time": "2024-04-20T11:58:06.514238",
     "status": "completed"
    },
    "tags": []
   },
   "source": [
    "**Here we cleary the rating histogram plot.and conclude that data is imbalced.before building the model first we need to balance the that through using SMOTE or RandomSampler i have tried with balancing the  data but it did not give good accuracy results.**"
   ]
  },
  {
   "cell_type": "markdown",
   "id": "646242b1",
   "metadata": {
    "papermill": {
     "duration": 0.032471,
     "end_time": "2024-04-20T11:58:06.611980",
     "exception": false,
     "start_time": "2024-04-20T11:58:06.579509",
     "status": "completed"
    },
    "tags": []
   },
   "source": [
    "## Data Preprocessing.\n",
    "**Import all the required api for Preprocessing from scikit learn.**"
   ]
  },
  {
   "cell_type": "code",
   "execution_count": 21,
   "id": "86ac70e3",
   "metadata": {
    "execution": {
     "iopub.execute_input": "2024-04-20T11:58:06.679911Z",
     "iopub.status.busy": "2024-04-20T11:58:06.678948Z",
     "iopub.status.idle": "2024-04-20T11:58:07.223249Z",
     "shell.execute_reply": "2024-04-20T11:58:07.222126Z"
    },
    "papermill": {
     "duration": 0.581348,
     "end_time": "2024-04-20T11:58:07.226009",
     "exception": false,
     "start_time": "2024-04-20T11:58:06.644661",
     "status": "completed"
    },
    "tags": []
   },
   "outputs": [],
   "source": [
    "from sklearn.pipeline import Pipeline\n",
    "from sklearn.compose import ColumnTransformer\n",
    "\n",
    "# transforming the data through this api\n",
    "from sklearn.preprocessing import MinMaxScaler,OneHotEncoder,MaxAbsScaler,PolynomialFeatures\n",
    "from sklearn.preprocessing import StandardScaler\n",
    "\n",
    "from sklearn.feature_extraction.text import TfidfVectorizer\n",
    "from sklearn.feature_extraction.text import CountVectorizer\n",
    "\n",
    "from sklearn.model_selection import train_test_split,GridSearchCV,ShuffleSplit, cross_validate\n",
    "\n",
    "from sklearn.feature_selection import SelectKBest, VarianceThreshold\n",
    "from sklearn.impute import SimpleImputer\n"
   ]
  },
  {
   "cell_type": "markdown",
   "id": "5a601254",
   "metadata": {
    "papermill": {
     "duration": 0.033128,
     "end_time": "2024-04-20T11:58:07.292941",
     "exception": false,
     "start_time": "2024-04-20T11:58:07.259813",
     "status": "completed"
    },
    "tags": []
   },
   "source": [
    "**Removing features from both the test and train datasets that demonstrate weak correlations with the labels rating, as indicated by heatmap analysis and exploratory data exploration (EDA).**"
   ]
  },
  {
   "cell_type": "code",
   "execution_count": 22,
   "id": "4e69a303",
   "metadata": {
    "execution": {
     "iopub.execute_input": "2024-04-20T11:58:07.363102Z",
     "iopub.status.busy": "2024-04-20T11:58:07.362364Z",
     "iopub.status.idle": "2024-04-20T11:58:07.377397Z",
     "shell.execute_reply": "2024-04-20T11:58:07.376214Z"
    },
    "papermill": {
     "duration": 0.052407,
     "end_time": "2024-04-20T11:58:07.379862",
     "exception": false,
     "start_time": "2024-04-20T11:58:07.327455",
     "status": "completed"
    },
    "tags": []
   },
   "outputs": [
    {
     "name": "stdout",
     "output_type": "stream",
     "text": [
      "Index(['RecipeName', 'UserName', 'Rating', 'Recipe_Review'], dtype='object')\n",
      "Index(['RecipeName', 'UserName', 'Recipe_Review'], dtype='object')\n"
     ]
    }
   ],
   "source": [
    "#drop the all the features in train data has low correletion with ratings\n",
    "df_train.drop(['ID', 'RecipeNumber', 'RecipeCode', 'CommentID', 'UserID','UserReputation', 'CreationTimestamp', 'ReplyCount',\n",
    "       'ThumbsUpCount', 'ThumbsDownCount', 'BestScore'],inplace=True,axis=1)\n",
    "\n",
    "#drop the all the features in test data has low correletion with ratings\n",
    "df_test.drop(['ID', 'RecipeNumber', 'RecipeCode', 'CommentID', 'UserID','UserReputation', 'CreationTimestamp', 'ReplyCount',\n",
    "       'ThumbsUpCount', 'ThumbsDownCount', 'BestScore'],inplace=True,axis=1)\n",
    "\n",
    "print(df_train.columns)   #in the train data we got rating as target variable\n",
    "print(df_test.columns)"
   ]
  },
  {
   "cell_type": "code",
   "execution_count": 23,
   "id": "3a5e923f",
   "metadata": {
    "execution": {
     "iopub.execute_input": "2024-04-20T11:58:07.450232Z",
     "iopub.status.busy": "2024-04-20T11:58:07.447816Z",
     "iopub.status.idle": "2024-04-20T11:58:07.456061Z",
     "shell.execute_reply": "2024-04-20T11:58:07.455186Z"
    },
    "papermill": {
     "duration": 0.044701,
     "end_time": "2024-04-20T11:58:07.458365",
     "exception": false,
     "start_time": "2024-04-20T11:58:07.413664",
     "status": "completed"
    },
    "tags": []
   },
   "outputs": [
    {
     "data": {
      "text/plain": [
       "((13634, 4), (4546, 3))"
      ]
     },
     "execution_count": 23,
     "metadata": {},
     "output_type": "execute_result"
    }
   ],
   "source": [
    "df_train.shape,df_test.shape"
   ]
  },
  {
   "cell_type": "markdown",
   "id": "40c25e67",
   "metadata": {
    "papermill": {
     "duration": 0.032682,
     "end_time": "2024-04-20T11:58:07.525823",
     "exception": false,
     "start_time": "2024-04-20T11:58:07.493141",
     "status": "completed"
    },
    "tags": []
   },
   "source": [
    "**Excluding the target variable from the training data to proceed with further data transformation steps.**"
   ]
  },
  {
   "cell_type": "code",
   "execution_count": 24,
   "id": "12cc646f",
   "metadata": {
    "execution": {
     "iopub.execute_input": "2024-04-20T11:58:07.594211Z",
     "iopub.status.busy": "2024-04-20T11:58:07.593827Z",
     "iopub.status.idle": "2024-04-20T11:58:07.602380Z",
     "shell.execute_reply": "2024-04-20T11:58:07.601125Z"
    },
    "papermill": {
     "duration": 0.045992,
     "end_time": "2024-04-20T11:58:07.604796",
     "exception": false,
     "start_time": "2024-04-20T11:58:07.558804",
     "status": "completed"
    },
    "tags": []
   },
   "outputs": [
    {
     "name": "stdout",
     "output_type": "stream",
     "text": [
      "(13634, 3) (13634,)\n"
     ]
    }
   ],
   "source": [
    "X_train = df_train.drop(['Rating'],axis=1)\n",
    "Y_train = df_train['Rating']\n",
    "print(X_train.shape,Y_train.shape)"
   ]
  },
  {
   "cell_type": "markdown",
   "id": "e1284c8d",
   "metadata": {
    "papermill": {
     "duration": 0.033269,
     "end_time": "2024-04-20T11:58:07.671528",
     "exception": false,
     "start_time": "2024-04-20T11:58:07.638259",
     "status": "completed"
    },
    "tags": []
   },
   "source": [
    "## Feature Transformation \n",
    "**`Count Vectorization` for UserName and RecipeName, `TfidfVectorizer` for Recipe Review\"**"
   ]
  },
  {
   "cell_type": "markdown",
   "id": "deb013ce",
   "metadata": {
    "papermill": {
     "duration": 0.032615,
     "end_time": "2024-04-20T11:58:07.737615",
     "exception": false,
     "start_time": "2024-04-20T11:58:07.705000",
     "status": "completed"
    },
    "tags": []
   },
   "source": [
    "**Count Vectorizer**\n",
    "Convert a collection of text documents to a matrix of token counts.\n",
    "This implementation produces a sparse representation of the counts using scipy.sparse.csr_matrix.\n",
    "\n",
    "**TfidfVectorizer** \n",
    "Transform a count matrix to a normalized tf or tf-idf representation.\n",
    "\n",
    "Tf means term-frequency while tf-idf means term-frequency times inverse document-frequency. This is a common term weighting scheme in information retrieval, that has also found good use in document classification."
   ]
  },
  {
   "cell_type": "markdown",
   "id": "f0e8545f",
   "metadata": {
    "papermill": {
     "duration": 0.032742,
     "end_time": "2024-04-20T11:58:07.803529",
     "exception": false,
     "start_time": "2024-04-20T11:58:07.770787",
     "status": "completed"
    },
    "tags": []
   },
   "source": [
    "# Pipeline and Columntransformer"
   ]
  },
  {
   "cell_type": "code",
   "execution_count": 25,
   "id": "677e6c83",
   "metadata": {
    "execution": {
     "iopub.execute_input": "2024-04-20T11:58:07.872169Z",
     "iopub.status.busy": "2024-04-20T11:58:07.871074Z",
     "iopub.status.idle": "2024-04-20T11:58:07.976472Z",
     "shell.execute_reply": "2024-04-20T11:58:07.975082Z"
    },
    "papermill": {
     "duration": 0.143829,
     "end_time": "2024-04-20T11:58:07.980506",
     "exception": false,
     "start_time": "2024-04-20T11:58:07.836677",
     "status": "completed"
    },
    "tags": []
   },
   "outputs": [
    {
     "data": {
      "text/html": [
       "<style>#sk-container-id-1 {color: black;background-color: white;}#sk-container-id-1 pre{padding: 0;}#sk-container-id-1 div.sk-toggleable {background-color: white;}#sk-container-id-1 label.sk-toggleable__label {cursor: pointer;display: block;width: 100%;margin-bottom: 0;padding: 0.3em;box-sizing: border-box;text-align: center;}#sk-container-id-1 label.sk-toggleable__label-arrow:before {content: \"▸\";float: left;margin-right: 0.25em;color: #696969;}#sk-container-id-1 label.sk-toggleable__label-arrow:hover:before {color: black;}#sk-container-id-1 div.sk-estimator:hover label.sk-toggleable__label-arrow:before {color: black;}#sk-container-id-1 div.sk-toggleable__content {max-height: 0;max-width: 0;overflow: hidden;text-align: left;background-color: #f0f8ff;}#sk-container-id-1 div.sk-toggleable__content pre {margin: 0.2em;color: black;border-radius: 0.25em;background-color: #f0f8ff;}#sk-container-id-1 input.sk-toggleable__control:checked~div.sk-toggleable__content {max-height: 200px;max-width: 100%;overflow: auto;}#sk-container-id-1 input.sk-toggleable__control:checked~label.sk-toggleable__label-arrow:before {content: \"▾\";}#sk-container-id-1 div.sk-estimator input.sk-toggleable__control:checked~label.sk-toggleable__label {background-color: #d4ebff;}#sk-container-id-1 div.sk-label input.sk-toggleable__control:checked~label.sk-toggleable__label {background-color: #d4ebff;}#sk-container-id-1 input.sk-hidden--visually {border: 0;clip: rect(1px 1px 1px 1px);clip: rect(1px, 1px, 1px, 1px);height: 1px;margin: -1px;overflow: hidden;padding: 0;position: absolute;width: 1px;}#sk-container-id-1 div.sk-estimator {font-family: monospace;background-color: #f0f8ff;border: 1px dotted black;border-radius: 0.25em;box-sizing: border-box;margin-bottom: 0.5em;}#sk-container-id-1 div.sk-estimator:hover {background-color: #d4ebff;}#sk-container-id-1 div.sk-parallel-item::after {content: \"\";width: 100%;border-bottom: 1px solid gray;flex-grow: 1;}#sk-container-id-1 div.sk-label:hover label.sk-toggleable__label {background-color: #d4ebff;}#sk-container-id-1 div.sk-serial::before {content: \"\";position: absolute;border-left: 1px solid gray;box-sizing: border-box;top: 0;bottom: 0;left: 50%;z-index: 0;}#sk-container-id-1 div.sk-serial {display: flex;flex-direction: column;align-items: center;background-color: white;padding-right: 0.2em;padding-left: 0.2em;position: relative;}#sk-container-id-1 div.sk-item {position: relative;z-index: 1;}#sk-container-id-1 div.sk-parallel {display: flex;align-items: stretch;justify-content: center;background-color: white;position: relative;}#sk-container-id-1 div.sk-item::before, #sk-container-id-1 div.sk-parallel-item::before {content: \"\";position: absolute;border-left: 1px solid gray;box-sizing: border-box;top: 0;bottom: 0;left: 50%;z-index: -1;}#sk-container-id-1 div.sk-parallel-item {display: flex;flex-direction: column;z-index: 1;position: relative;background-color: white;}#sk-container-id-1 div.sk-parallel-item:first-child::after {align-self: flex-end;width: 50%;}#sk-container-id-1 div.sk-parallel-item:last-child::after {align-self: flex-start;width: 50%;}#sk-container-id-1 div.sk-parallel-item:only-child::after {width: 0;}#sk-container-id-1 div.sk-dashed-wrapped {border: 1px dashed gray;margin: 0 0.4em 0.5em 0.4em;box-sizing: border-box;padding-bottom: 0.4em;background-color: white;}#sk-container-id-1 div.sk-label label {font-family: monospace;font-weight: bold;display: inline-block;line-height: 1.2em;}#sk-container-id-1 div.sk-label-container {text-align: center;}#sk-container-id-1 div.sk-container {/* jupyter's `normalize.less` sets `[hidden] { display: none; }` but bootstrap.min.css set `[hidden] { display: none !important; }` so we also need the `!important` here to be able to override the default hidden behavior on the sphinx rendered scikit-learn.org. See: https://github.com/scikit-learn/scikit-learn/issues/21755 */display: inline-block !important;position: relative;}#sk-container-id-1 div.sk-text-repr-fallback {display: none;}</style><div id=\"sk-container-id-1\" class=\"sk-top-container\"><div class=\"sk-text-repr-fallback\"><pre>Pipeline(steps=[(&#x27;column_trf&#x27;,\n",
       "                 ColumnTransformer(transformers=[(&#x27;pipe1&#x27;,\n",
       "                                                  Pipeline(steps=[(&#x27;count_vec&#x27;,\n",
       "                                                                   CountVectorizer())]),\n",
       "                                                  [&#x27;UserName&#x27;, &#x27;RecipeName&#x27;]),\n",
       "                                                 (&#x27;pipe2&#x27;,\n",
       "                                                  Pipeline(steps=[(&#x27;tfid_vec&#x27;,\n",
       "                                                                   TfidfVectorizer(max_features=10000,\n",
       "                                                                                   min_df=5,\n",
       "                                                                                   ngram_range=(1,\n",
       "                                                                                                4)))]),\n",
       "                                                  [&#x27;Recipe_Review&#x27;])],\n",
       "                                   verbose_feature_names_out=False))])</pre><b>In a Jupyter environment, please rerun this cell to show the HTML representation or trust the notebook. <br />On GitHub, the HTML representation is unable to render, please try loading this page with nbviewer.org.</b></div><div class=\"sk-container\" hidden><div class=\"sk-item sk-dashed-wrapped\"><div class=\"sk-label-container\"><div class=\"sk-label sk-toggleable\"><input class=\"sk-toggleable__control sk-hidden--visually\" id=\"sk-estimator-id-1\" type=\"checkbox\" ><label for=\"sk-estimator-id-1\" class=\"sk-toggleable__label sk-toggleable__label-arrow\">Pipeline</label><div class=\"sk-toggleable__content\"><pre>Pipeline(steps=[(&#x27;column_trf&#x27;,\n",
       "                 ColumnTransformer(transformers=[(&#x27;pipe1&#x27;,\n",
       "                                                  Pipeline(steps=[(&#x27;count_vec&#x27;,\n",
       "                                                                   CountVectorizer())]),\n",
       "                                                  [&#x27;UserName&#x27;, &#x27;RecipeName&#x27;]),\n",
       "                                                 (&#x27;pipe2&#x27;,\n",
       "                                                  Pipeline(steps=[(&#x27;tfid_vec&#x27;,\n",
       "                                                                   TfidfVectorizer(max_features=10000,\n",
       "                                                                                   min_df=5,\n",
       "                                                                                   ngram_range=(1,\n",
       "                                                                                                4)))]),\n",
       "                                                  [&#x27;Recipe_Review&#x27;])],\n",
       "                                   verbose_feature_names_out=False))])</pre></div></div></div><div class=\"sk-serial\"><div class=\"sk-item sk-dashed-wrapped\"><div class=\"sk-label-container\"><div class=\"sk-label sk-toggleable\"><input class=\"sk-toggleable__control sk-hidden--visually\" id=\"sk-estimator-id-2\" type=\"checkbox\" ><label for=\"sk-estimator-id-2\" class=\"sk-toggleable__label sk-toggleable__label-arrow\">column_trf: ColumnTransformer</label><div class=\"sk-toggleable__content\"><pre>ColumnTransformer(transformers=[(&#x27;pipe1&#x27;,\n",
       "                                 Pipeline(steps=[(&#x27;count_vec&#x27;,\n",
       "                                                  CountVectorizer())]),\n",
       "                                 [&#x27;UserName&#x27;, &#x27;RecipeName&#x27;]),\n",
       "                                (&#x27;pipe2&#x27;,\n",
       "                                 Pipeline(steps=[(&#x27;tfid_vec&#x27;,\n",
       "                                                  TfidfVectorizer(max_features=10000,\n",
       "                                                                  min_df=5,\n",
       "                                                                  ngram_range=(1,\n",
       "                                                                               4)))]),\n",
       "                                 [&#x27;Recipe_Review&#x27;])],\n",
       "                  verbose_feature_names_out=False)</pre></div></div></div><div class=\"sk-parallel\"><div class=\"sk-parallel-item\"><div class=\"sk-item\"><div class=\"sk-label-container\"><div class=\"sk-label sk-toggleable\"><input class=\"sk-toggleable__control sk-hidden--visually\" id=\"sk-estimator-id-3\" type=\"checkbox\" ><label for=\"sk-estimator-id-3\" class=\"sk-toggleable__label sk-toggleable__label-arrow\">pipe1</label><div class=\"sk-toggleable__content\"><pre>[&#x27;UserName&#x27;, &#x27;RecipeName&#x27;]</pre></div></div></div><div class=\"sk-serial\"><div class=\"sk-item\"><div class=\"sk-serial\"><div class=\"sk-item\"><div class=\"sk-estimator sk-toggleable\"><input class=\"sk-toggleable__control sk-hidden--visually\" id=\"sk-estimator-id-4\" type=\"checkbox\" ><label for=\"sk-estimator-id-4\" class=\"sk-toggleable__label sk-toggleable__label-arrow\">CountVectorizer</label><div class=\"sk-toggleable__content\"><pre>CountVectorizer()</pre></div></div></div></div></div></div></div></div><div class=\"sk-parallel-item\"><div class=\"sk-item\"><div class=\"sk-label-container\"><div class=\"sk-label sk-toggleable\"><input class=\"sk-toggleable__control sk-hidden--visually\" id=\"sk-estimator-id-5\" type=\"checkbox\" ><label for=\"sk-estimator-id-5\" class=\"sk-toggleable__label sk-toggleable__label-arrow\">pipe2</label><div class=\"sk-toggleable__content\"><pre>[&#x27;Recipe_Review&#x27;]</pre></div></div></div><div class=\"sk-serial\"><div class=\"sk-item\"><div class=\"sk-serial\"><div class=\"sk-item\"><div class=\"sk-estimator sk-toggleable\"><input class=\"sk-toggleable__control sk-hidden--visually\" id=\"sk-estimator-id-6\" type=\"checkbox\" ><label for=\"sk-estimator-id-6\" class=\"sk-toggleable__label sk-toggleable__label-arrow\">TfidfVectorizer</label><div class=\"sk-toggleable__content\"><pre>TfidfVectorizer(max_features=10000, min_df=5, ngram_range=(1, 4))</pre></div></div></div></div></div></div></div></div></div></div></div></div></div></div>"
      ],
      "text/plain": [
       "Pipeline(steps=[('column_trf',\n",
       "                 ColumnTransformer(transformers=[('pipe1',\n",
       "                                                  Pipeline(steps=[('count_vec',\n",
       "                                                                   CountVectorizer())]),\n",
       "                                                  ['UserName', 'RecipeName']),\n",
       "                                                 ('pipe2',\n",
       "                                                  Pipeline(steps=[('tfid_vec',\n",
       "                                                                   TfidfVectorizer(max_features=10000,\n",
       "                                                                                   min_df=5,\n",
       "                                                                                   ngram_range=(1,\n",
       "                                                                                                4)))]),\n",
       "                                                  ['Recipe_Review'])],\n",
       "                                   verbose_feature_names_out=False))])"
      ]
     },
     "execution_count": 25,
     "metadata": {},
     "output_type": "execute_result"
    }
   ],
   "source": [
    "pipe1=Pipeline([(\"count_vec\",CountVectorizer())])\n",
    "pipe2 = Pipeline([(\"tfid_vec\",TfidfVectorizer(min_df=5,ngram_range=(1,4), max_features=10000))])\n",
    "\n",
    "trf = [(\"pipe1\",pipe1,['UserName','RecipeName']),\n",
    "      (\"pipe2\",pipe2,['Recipe_Review'])]\n",
    "\n",
    "column_trf = ColumnTransformer(trf,remainder='drop',verbose_feature_names_out=False)\n",
    "\n",
    "pipe_trf = Pipeline([(\"column_trf\",column_trf)])\n",
    "pipe_trf\n",
    "# transform_data = pipe_trf.fit(X_train).set_output(transform=\"pandas\")"
   ]
  },
  {
   "cell_type": "code",
   "execution_count": 26,
   "id": "769a2ab9",
   "metadata": {
    "execution": {
     "iopub.execute_input": "2024-04-20T11:58:08.051595Z",
     "iopub.status.busy": "2024-04-20T11:58:08.051169Z",
     "iopub.status.idle": "2024-04-20T11:58:18.266028Z",
     "shell.execute_reply": "2024-04-20T11:58:18.264770Z"
    },
    "papermill": {
     "duration": 10.253904,
     "end_time": "2024-04-20T11:58:18.269018",
     "exception": false,
     "start_time": "2024-04-20T11:58:08.015114",
     "status": "completed"
    },
    "tags": []
   },
   "outputs": [],
   "source": [
    "#intializing the count vectorizer Obejct \n",
    "count_transform = CountVectorizer()\n",
    "\n",
    "##count Vectorizer transformation for UserName and Recipe name in train and test data\n",
    "username_vect = count_transform.fit(X_train['UserName'].values) \n",
    "\n",
    "# applying Learned parameter to tranform the features.\n",
    "x_train_username = username_vect.transform(X_train['UserName'].values)   \n",
    "df_test_username = username_vect.transform(df_test['UserName'].values)\n",
    "\n",
    "recipename_vect = count_transform.fit(X_train['RecipeName'].values)    \n",
    "\n",
    "x_train_recipename = recipename_vect.transform(X_train['RecipeName'].values)\n",
    "df_test_recipename = recipename_vect.transform(df_test['RecipeName'].values)\n",
    "\n",
    "#intializing the Tfidf vectorizer Obejct \n",
    "tfid = TfidfVectorizer(min_df=5,ngram_range=(1,4), max_features=10000)\n",
    "\n",
    "tfid.fit(X_train['Recipe_Review'].values)\n",
    "\n",
    "X_train_text = tfid.transform(X_train['Recipe_Review'].values)\n",
    "df_test_text = tfid.transform(df_test['Recipe_Review'].values)\n"
   ]
  },
  {
   "cell_type": "markdown",
   "id": "2f317881",
   "metadata": {
    "papermill": {
     "duration": 0.034073,
     "end_time": "2024-04-20T11:58:18.336984",
     "exception": false,
     "start_time": "2024-04-20T11:58:18.302911",
     "status": "completed"
    },
    "tags": []
   },
   "source": [
    "## Now we here combining all the three transform features into scipy.sparse._csr.csr_matrix format."
   ]
  },
  {
   "cell_type": "code",
   "execution_count": 27,
   "id": "91027293",
   "metadata": {
    "execution": {
     "iopub.execute_input": "2024-04-20T11:58:18.406385Z",
     "iopub.status.busy": "2024-04-20T11:58:18.405922Z",
     "iopub.status.idle": "2024-04-20T11:58:18.430090Z",
     "shell.execute_reply": "2024-04-20T11:58:18.428842Z"
    },
    "papermill": {
     "duration": 0.062397,
     "end_time": "2024-04-20T11:58:18.432905",
     "exception": false,
     "start_time": "2024-04-20T11:58:18.370508",
     "status": "completed"
    },
    "tags": []
   },
   "outputs": [],
   "source": [
    "from scipy.sparse import hstack\n",
    "\n",
    "X_train_transform = hstack((x_train_username, x_train_recipename, X_train_text))\n",
    "df_test_transform = hstack((df_test_username, df_test_recipename, df_test_text))"
   ]
  },
  {
   "cell_type": "code",
   "execution_count": 28,
   "id": "8893f570",
   "metadata": {
    "execution": {
     "iopub.execute_input": "2024-04-20T11:58:18.503676Z",
     "iopub.status.busy": "2024-04-20T11:58:18.503211Z",
     "iopub.status.idle": "2024-04-20T11:58:18.510637Z",
     "shell.execute_reply": "2024-04-20T11:58:18.509478Z"
    },
    "papermill": {
     "duration": 0.045476,
     "end_time": "2024-04-20T11:58:18.513226",
     "exception": false,
     "start_time": "2024-04-20T11:58:18.467750",
     "status": "completed"
    },
    "tags": []
   },
   "outputs": [
    {
     "data": {
      "text/plain": [
       "((13634, 21038), (4546, 21038))"
      ]
     },
     "execution_count": 28,
     "metadata": {},
     "output_type": "execute_result"
    }
   ],
   "source": [
    "X_train_transform.shape,df_test_transform.shape"
   ]
  },
  {
   "cell_type": "markdown",
   "id": "2f3796ed",
   "metadata": {
    "papermill": {
     "duration": 0.033799,
     "end_time": "2024-04-20T11:58:18.581663",
     "exception": false,
     "start_time": "2024-04-20T11:58:18.547864",
     "status": "completed"
    },
    "tags": []
   },
   "source": [
    "## Spliting the train data into x_train,x_test,y_train ,y_test using train-test methods."
   ]
  },
  {
   "cell_type": "code",
   "execution_count": 29,
   "id": "9f999e4f",
   "metadata": {
    "execution": {
     "iopub.execute_input": "2024-04-20T11:58:18.652359Z",
     "iopub.status.busy": "2024-04-20T11:58:18.651834Z",
     "iopub.status.idle": "2024-04-20T11:58:18.664784Z",
     "shell.execute_reply": "2024-04-20T11:58:18.663487Z"
    },
    "papermill": {
     "duration": 0.051554,
     "end_time": "2024-04-20T11:58:18.667439",
     "exception": false,
     "start_time": "2024-04-20T11:58:18.615885",
     "status": "completed"
    },
    "tags": []
   },
   "outputs": [
    {
     "name": "stdout",
     "output_type": "stream",
     "text": [
      "(10907, 21038) (2727, 21038)\n"
     ]
    }
   ],
   "source": [
    "x_train,x_test,y_train,y_test = train_test_split(X_train_transform,Y_train,test_size=0.2,random_state=42)\n",
    "print(x_train.shape,x_test.shape)"
   ]
  },
  {
   "cell_type": "markdown",
   "id": "a930fd8f",
   "metadata": {
    "papermill": {
     "duration": 0.033625,
     "end_time": "2024-04-20T11:58:18.736075",
     "exception": false,
     "start_time": "2024-04-20T11:58:18.702450",
     "status": "completed"
    },
    "tags": []
   },
   "source": [
    "## Model Building and training .\n",
    "Here first imported all the applied best model and metrics liabray"
   ]
  },
  {
   "cell_type": "code",
   "execution_count": 30,
   "id": "6dd5e174",
   "metadata": {
    "execution": {
     "iopub.execute_input": "2024-04-20T11:58:18.808028Z",
     "iopub.status.busy": "2024-04-20T11:58:18.807598Z",
     "iopub.status.idle": "2024-04-20T11:58:18.919181Z",
     "shell.execute_reply": "2024-04-20T11:58:18.917877Z"
    },
    "papermill": {
     "duration": 0.151316,
     "end_time": "2024-04-20T11:58:18.922025",
     "exception": false,
     "start_time": "2024-04-20T11:58:18.770709",
     "status": "completed"
    },
    "tags": []
   },
   "outputs": [],
   "source": [
    "from sklearn.linear_model import LogisticRegression\n",
    "from sklearn.linear_model import Perceptron\n",
    "from sklearn.linear_model import SGDClassifier\n",
    "\n",
    "from sklearn.svm import LinearSVC\n",
    "from sklearn.svm import SVC\n",
    "\n",
    "from sklearn.ensemble import RandomForestClassifier\n",
    "\n",
    "#evaluation metric\n",
    "from sklearn.metrics import hinge_loss,log_loss\n",
    "from sklearn.metrics import ConfusionMatrixDisplay, confusion_matrix, precision_recall_curve,precision_score,recall_score,classification_report,accuracy_score\n",
    "from sklearn.metrics import make_scorer\n",
    "from sklearn.model_selection import cross_validate, cross_val_predict,GridSearchCV\n"
   ]
  },
  {
   "cell_type": "code",
   "execution_count": 31,
   "id": "5a890d0b",
   "metadata": {
    "execution": {
     "iopub.execute_input": "2024-04-20T11:58:18.993370Z",
     "iopub.status.busy": "2024-04-20T11:58:18.992303Z",
     "iopub.status.idle": "2024-04-20T11:58:18.998045Z",
     "shell.execute_reply": "2024-04-20T11:58:18.996596Z"
    },
    "papermill": {
     "duration": 0.044426,
     "end_time": "2024-04-20T11:58:19.000368",
     "exception": false,
     "start_time": "2024-04-20T11:58:18.955942",
     "status": "completed"
    },
    "tags": []
   },
   "outputs": [],
   "source": [
    "# xgb_clf.score(x_train,y_train)"
   ]
  },
  {
   "cell_type": "markdown",
   "id": "714ff5c1",
   "metadata": {
    "papermill": {
     "duration": 0.033808,
     "end_time": "2024-04-20T11:58:19.068206",
     "exception": false,
     "start_time": "2024-04-20T11:58:19.034398",
     "status": "completed"
    },
    "tags": []
   },
   "source": [
    "## 1. Logistic Regression without HPT\n",
    "\n",
    "**LogisticRegression is a machine learning model used for binary and multiclass classifications tasks. It's a type of regression model that is used to estimate the probability that an instance belongs to a particular class. Despite its name, LogisticRegression is actually a classification algorithm, not a regression algorithm.  \n",
    "in python it is imported from Sklearn.linear_model api**\n",
    "\n",
    "**First i have tried with LogisticRegession without Hpt.it is just cross the cutoff by scoring `77.8`**"
   ]
  },
  {
   "cell_type": "code",
   "execution_count": 32,
   "id": "a20c6421",
   "metadata": {
    "execution": {
     "iopub.execute_input": "2024-04-20T11:58:19.139881Z",
     "iopub.status.busy": "2024-04-20T11:58:19.139447Z",
     "iopub.status.idle": "2024-04-20T11:58:30.664489Z",
     "shell.execute_reply": "2024-04-20T11:58:30.663051Z"
    },
    "papermill": {
     "duration": 11.566263,
     "end_time": "2024-04-20T11:58:30.668353",
     "exception": false,
     "start_time": "2024-04-20T11:58:19.102090",
     "status": "completed"
    },
    "tags": []
   },
   "outputs": [
    {
     "data": {
      "text/html": [
       "<style>#sk-container-id-2 {color: black;background-color: white;}#sk-container-id-2 pre{padding: 0;}#sk-container-id-2 div.sk-toggleable {background-color: white;}#sk-container-id-2 label.sk-toggleable__label {cursor: pointer;display: block;width: 100%;margin-bottom: 0;padding: 0.3em;box-sizing: border-box;text-align: center;}#sk-container-id-2 label.sk-toggleable__label-arrow:before {content: \"▸\";float: left;margin-right: 0.25em;color: #696969;}#sk-container-id-2 label.sk-toggleable__label-arrow:hover:before {color: black;}#sk-container-id-2 div.sk-estimator:hover label.sk-toggleable__label-arrow:before {color: black;}#sk-container-id-2 div.sk-toggleable__content {max-height: 0;max-width: 0;overflow: hidden;text-align: left;background-color: #f0f8ff;}#sk-container-id-2 div.sk-toggleable__content pre {margin: 0.2em;color: black;border-radius: 0.25em;background-color: #f0f8ff;}#sk-container-id-2 input.sk-toggleable__control:checked~div.sk-toggleable__content {max-height: 200px;max-width: 100%;overflow: auto;}#sk-container-id-2 input.sk-toggleable__control:checked~label.sk-toggleable__label-arrow:before {content: \"▾\";}#sk-container-id-2 div.sk-estimator input.sk-toggleable__control:checked~label.sk-toggleable__label {background-color: #d4ebff;}#sk-container-id-2 div.sk-label input.sk-toggleable__control:checked~label.sk-toggleable__label {background-color: #d4ebff;}#sk-container-id-2 input.sk-hidden--visually {border: 0;clip: rect(1px 1px 1px 1px);clip: rect(1px, 1px, 1px, 1px);height: 1px;margin: -1px;overflow: hidden;padding: 0;position: absolute;width: 1px;}#sk-container-id-2 div.sk-estimator {font-family: monospace;background-color: #f0f8ff;border: 1px dotted black;border-radius: 0.25em;box-sizing: border-box;margin-bottom: 0.5em;}#sk-container-id-2 div.sk-estimator:hover {background-color: #d4ebff;}#sk-container-id-2 div.sk-parallel-item::after {content: \"\";width: 100%;border-bottom: 1px solid gray;flex-grow: 1;}#sk-container-id-2 div.sk-label:hover label.sk-toggleable__label {background-color: #d4ebff;}#sk-container-id-2 div.sk-serial::before {content: \"\";position: absolute;border-left: 1px solid gray;box-sizing: border-box;top: 0;bottom: 0;left: 50%;z-index: 0;}#sk-container-id-2 div.sk-serial {display: flex;flex-direction: column;align-items: center;background-color: white;padding-right: 0.2em;padding-left: 0.2em;position: relative;}#sk-container-id-2 div.sk-item {position: relative;z-index: 1;}#sk-container-id-2 div.sk-parallel {display: flex;align-items: stretch;justify-content: center;background-color: white;position: relative;}#sk-container-id-2 div.sk-item::before, #sk-container-id-2 div.sk-parallel-item::before {content: \"\";position: absolute;border-left: 1px solid gray;box-sizing: border-box;top: 0;bottom: 0;left: 50%;z-index: -1;}#sk-container-id-2 div.sk-parallel-item {display: flex;flex-direction: column;z-index: 1;position: relative;background-color: white;}#sk-container-id-2 div.sk-parallel-item:first-child::after {align-self: flex-end;width: 50%;}#sk-container-id-2 div.sk-parallel-item:last-child::after {align-self: flex-start;width: 50%;}#sk-container-id-2 div.sk-parallel-item:only-child::after {width: 0;}#sk-container-id-2 div.sk-dashed-wrapped {border: 1px dashed gray;margin: 0 0.4em 0.5em 0.4em;box-sizing: border-box;padding-bottom: 0.4em;background-color: white;}#sk-container-id-2 div.sk-label label {font-family: monospace;font-weight: bold;display: inline-block;line-height: 1.2em;}#sk-container-id-2 div.sk-label-container {text-align: center;}#sk-container-id-2 div.sk-container {/* jupyter's `normalize.less` sets `[hidden] { display: none; }` but bootstrap.min.css set `[hidden] { display: none !important; }` so we also need the `!important` here to be able to override the default hidden behavior on the sphinx rendered scikit-learn.org. See: https://github.com/scikit-learn/scikit-learn/issues/21755 */display: inline-block !important;position: relative;}#sk-container-id-2 div.sk-text-repr-fallback {display: none;}</style><div id=\"sk-container-id-2\" class=\"sk-top-container\"><div class=\"sk-text-repr-fallback\"><pre>Pipeline(steps=[(&#x27;log_reg&#x27;, LogisticRegression(max_iter=1500))])</pre><b>In a Jupyter environment, please rerun this cell to show the HTML representation or trust the notebook. <br />On GitHub, the HTML representation is unable to render, please try loading this page with nbviewer.org.</b></div><div class=\"sk-container\" hidden><div class=\"sk-item sk-dashed-wrapped\"><div class=\"sk-label-container\"><div class=\"sk-label sk-toggleable\"><input class=\"sk-toggleable__control sk-hidden--visually\" id=\"sk-estimator-id-7\" type=\"checkbox\" ><label for=\"sk-estimator-id-7\" class=\"sk-toggleable__label sk-toggleable__label-arrow\">Pipeline</label><div class=\"sk-toggleable__content\"><pre>Pipeline(steps=[(&#x27;log_reg&#x27;, LogisticRegression(max_iter=1500))])</pre></div></div></div><div class=\"sk-serial\"><div class=\"sk-item\"><div class=\"sk-estimator sk-toggleable\"><input class=\"sk-toggleable__control sk-hidden--visually\" id=\"sk-estimator-id-8\" type=\"checkbox\" ><label for=\"sk-estimator-id-8\" class=\"sk-toggleable__label sk-toggleable__label-arrow\">LogisticRegression</label><div class=\"sk-toggleable__content\"><pre>LogisticRegression(max_iter=1500)</pre></div></div></div></div></div></div></div>"
      ],
      "text/plain": [
       "Pipeline(steps=[('log_reg', LogisticRegression(max_iter=1500))])"
      ]
     },
     "execution_count": 32,
     "metadata": {},
     "output_type": "execute_result"
    }
   ],
   "source": [
    "from sklearn.linear_model import LogisticRegression\n",
    "\n",
    "lr = Pipeline([(\"log_reg\",LogisticRegression(max_iter=1500))])\n",
    "\n",
    "lr.fit(x_train, y_train)"
   ]
  },
  {
   "cell_type": "code",
   "execution_count": 33,
   "id": "bbf8afd1",
   "metadata": {
    "execution": {
     "iopub.execute_input": "2024-04-20T11:58:30.787126Z",
     "iopub.status.busy": "2024-04-20T11:58:30.786759Z",
     "iopub.status.idle": "2024-04-20T11:58:30.805181Z",
     "shell.execute_reply": "2024-04-20T11:58:30.804054Z"
    },
    "papermill": {
     "duration": 0.055808,
     "end_time": "2024-04-20T11:58:30.807561",
     "exception": false,
     "start_time": "2024-04-20T11:58:30.751753",
     "status": "completed"
    },
    "tags": []
   },
   "outputs": [
    {
     "name": "stdout",
     "output_type": "stream",
     "text": [
      "Accuarcy Score on Validation data for LogisticRegression : 0.7854785478547854\n"
     ]
    }
   ],
   "source": [
    "ypred_test = lr.predict(x_test)\n",
    "ypred_train = lr.predict(x_train)\n",
    "y_final_pred = lr.predict(df_test_transform)\n",
    "\n",
    "accuarcy_lr_clf = accuracy_score(y_test,ypred_test)\n",
    "print('Accuarcy Score on Validation data for LogisticRegression :',accuarcy_lr_clf)"
   ]
  },
  {
   "cell_type": "markdown",
   "id": "2ec6adc6",
   "metadata": {
    "papermill": {
     "duration": 0.03364,
     "end_time": "2024-04-20T11:58:30.875090",
     "exception": false,
     "start_time": "2024-04-20T11:58:30.841450",
     "status": "completed"
    },
    "tags": []
   },
   "source": [
    "**Lets see the classification report for LogisticRegression Model**"
   ]
  },
  {
   "cell_type": "code",
   "execution_count": 34,
   "id": "69715281",
   "metadata": {
    "execution": {
     "iopub.execute_input": "2024-04-20T11:58:30.946078Z",
     "iopub.status.busy": "2024-04-20T11:58:30.945618Z",
     "iopub.status.idle": "2024-04-20T11:58:30.964658Z",
     "shell.execute_reply": "2024-04-20T11:58:30.963185Z"
    },
    "papermill": {
     "duration": 0.058125,
     "end_time": "2024-04-20T11:58:30.967283",
     "exception": false,
     "start_time": "2024-04-20T11:58:30.909158",
     "status": "completed"
    },
    "tags": []
   },
   "outputs": [
    {
     "name": "stdout",
     "output_type": "stream",
     "text": [
      "              precision    recall  f1-score   support\n",
      "\n",
      "           0       0.57      0.18      0.27       238\n",
      "           1       0.50      0.02      0.05        41\n",
      "           2       0.25      0.03      0.05        40\n",
      "           3       0.56      0.12      0.19        78\n",
      "           4       0.43      0.12      0.18       248\n",
      "           5       0.80      0.99      0.89      2082\n",
      "\n",
      "    accuracy                           0.79      2727\n",
      "   macro avg       0.52      0.24      0.27      2727\n",
      "weighted avg       0.73      0.79      0.72      2727\n",
      "\n"
     ]
    }
   ],
   "source": [
    "print(classification_report(y_test,ypred_test))"
   ]
  },
  {
   "cell_type": "markdown",
   "id": "c7e01dd4",
   "metadata": {
    "papermill": {
     "duration": 0.034299,
     "end_time": "2024-04-20T11:58:31.037211",
     "exception": false,
     "start_time": "2024-04-20T11:58:31.002912",
     "status": "completed"
    },
    "tags": []
   },
   "source": [
    "Confustion Matrix"
   ]
  },
  {
   "cell_type": "code",
   "execution_count": 35,
   "id": "9be0be71",
   "metadata": {
    "execution": {
     "iopub.execute_input": "2024-04-20T11:58:31.107824Z",
     "iopub.status.busy": "2024-04-20T11:58:31.107386Z",
     "iopub.status.idle": "2024-04-20T11:58:31.434064Z",
     "shell.execute_reply": "2024-04-20T11:58:31.432802Z"
    },
    "papermill": {
     "duration": 0.365819,
     "end_time": "2024-04-20T11:58:31.437063",
     "exception": false,
     "start_time": "2024-04-20T11:58:31.071244",
     "status": "completed"
    },
    "tags": []
   },
   "outputs": [
    {
     "data": {
      "image/png": "[encoded data removed]",
      "text/plain": [
       "<Figure size 640x480 with 2 Axes>"
      ]
     },
     "metadata": {},
     "output_type": "display_data"
    }
   ],
   "source": [
    "ConfusionMatrixDisplay.from_predictions(y_test,ypred_test)\n",
    "plt.show()"
   ]
  },
  {
   "cell_type": "markdown",
   "id": "9a0e8330",
   "metadata": {
    "papermill": {
     "duration": 0.034459,
     "end_time": "2024-04-20T11:58:31.507516",
     "exception": false,
     "start_time": "2024-04-20T11:58:31.473057",
     "status": "completed"
    },
    "tags": []
   },
   "source": [
    "## Tuning the Hyper parameter of LogisticRegression with GridSearchCV\n",
    "**thorugh the Hyperparameter tuning we got  highest accuarcy score aroung `78.94`**"
   ]
  },
  {
   "cell_type": "code",
   "execution_count": 36,
   "id": "0eba0afe",
   "metadata": {
    "execution": {
     "iopub.execute_input": "2024-04-20T11:58:31.579115Z",
     "iopub.status.busy": "2024-04-20T11:58:31.578710Z",
     "iopub.status.idle": "2024-04-20T12:06:55.291028Z",
     "shell.execute_reply": "2024-04-20T12:06:55.289483Z"
    },
    "papermill": {
     "duration": 503.82795,
     "end_time": "2024-04-20T12:06:55.370509",
     "exception": false,
     "start_time": "2024-04-20T11:58:31.542559",
     "status": "completed"
    },
    "tags": []
   },
   "outputs": [
    {
     "data": {
      "text/html": [
       "<style>#sk-container-id-3 {color: black;background-color: white;}#sk-container-id-3 pre{padding: 0;}#sk-container-id-3 div.sk-toggleable {background-color: white;}#sk-container-id-3 label.sk-toggleable__label {cursor: pointer;display: block;width: 100%;margin-bottom: 0;padding: 0.3em;box-sizing: border-box;text-align: center;}#sk-container-id-3 label.sk-toggleable__label-arrow:before {content: \"▸\";float: left;margin-right: 0.25em;color: #696969;}#sk-container-id-3 label.sk-toggleable__label-arrow:hover:before {color: black;}#sk-container-id-3 div.sk-estimator:hover label.sk-toggleable__label-arrow:before {color: black;}#sk-container-id-3 div.sk-toggleable__content {max-height: 0;max-width: 0;overflow: hidden;text-align: left;background-color: #f0f8ff;}#sk-container-id-3 div.sk-toggleable__content pre {margin: 0.2em;color: black;border-radius: 0.25em;background-color: #f0f8ff;}#sk-container-id-3 input.sk-toggleable__control:checked~div.sk-toggleable__content {max-height: 200px;max-width: 100%;overflow: auto;}#sk-container-id-3 input.sk-toggleable__control:checked~label.sk-toggleable__label-arrow:before {content: \"▾\";}#sk-container-id-3 div.sk-estimator input.sk-toggleable__control:checked~label.sk-toggleable__label {background-color: #d4ebff;}#sk-container-id-3 div.sk-label input.sk-toggleable__control:checked~label.sk-toggleable__label {background-color: #d4ebff;}#sk-container-id-3 input.sk-hidden--visually {border: 0;clip: rect(1px 1px 1px 1px);clip: rect(1px, 1px, 1px, 1px);height: 1px;margin: -1px;overflow: hidden;padding: 0;position: absolute;width: 1px;}#sk-container-id-3 div.sk-estimator {font-family: monospace;background-color: #f0f8ff;border: 1px dotted black;border-radius: 0.25em;box-sizing: border-box;margin-bottom: 0.5em;}#sk-container-id-3 div.sk-estimator:hover {background-color: #d4ebff;}#sk-container-id-3 div.sk-parallel-item::after {content: \"\";width: 100%;border-bottom: 1px solid gray;flex-grow: 1;}#sk-container-id-3 div.sk-label:hover label.sk-toggleable__label {background-color: #d4ebff;}#sk-container-id-3 div.sk-serial::before {content: \"\";position: absolute;border-left: 1px solid gray;box-sizing: border-box;top: 0;bottom: 0;left: 50%;z-index: 0;}#sk-container-id-3 div.sk-serial {display: flex;flex-direction: column;align-items: center;background-color: white;padding-right: 0.2em;padding-left: 0.2em;position: relative;}#sk-container-id-3 div.sk-item {position: relative;z-index: 1;}#sk-container-id-3 div.sk-parallel {display: flex;align-items: stretch;justify-content: center;background-color: white;position: relative;}#sk-container-id-3 div.sk-item::before, #sk-container-id-3 div.sk-parallel-item::before {content: \"\";position: absolute;border-left: 1px solid gray;box-sizing: border-box;top: 0;bottom: 0;left: 50%;z-index: -1;}#sk-container-id-3 div.sk-parallel-item {display: flex;flex-direction: column;z-index: 1;position: relative;background-color: white;}#sk-container-id-3 div.sk-parallel-item:first-child::after {align-self: flex-end;width: 50%;}#sk-container-id-3 div.sk-parallel-item:last-child::after {align-self: flex-start;width: 50%;}#sk-container-id-3 div.sk-parallel-item:only-child::after {width: 0;}#sk-container-id-3 div.sk-dashed-wrapped {border: 1px dashed gray;margin: 0 0.4em 0.5em 0.4em;box-sizing: border-box;padding-bottom: 0.4em;background-color: white;}#sk-container-id-3 div.sk-label label {font-family: monospace;font-weight: bold;display: inline-block;line-height: 1.2em;}#sk-container-id-3 div.sk-label-container {text-align: center;}#sk-container-id-3 div.sk-container {/* jupyter's `normalize.less` sets `[hidden] { display: none; }` but bootstrap.min.css set `[hidden] { display: none !important; }` so we also need the `!important` here to be able to override the default hidden behavior on the sphinx rendered scikit-learn.org. See: https://github.com/scikit-learn/scikit-learn/issues/21755 */display: inline-block !important;position: relative;}#sk-container-id-3 div.sk-text-repr-fallback {display: none;}</style><div id=\"sk-container-id-3\" class=\"sk-top-container\"><div class=\"sk-text-repr-fallback\"><pre>GridSearchCV(cv=5,\n",
       "             estimator=Pipeline(steps=[(&#x27;log_reg&#x27;,\n",
       "                                        LogisticRegression(max_iter=1500))]),\n",
       "             param_grid={&#x27;log_reg__C&#x27;: [0.001, 0.01, 0.1, 1, 10, 100],\n",
       "                         &#x27;log_reg__solver&#x27;: [&#x27;liblinear&#x27;, &#x27;saga&#x27;]},\n",
       "             scoring=&#x27;accuracy&#x27;)</pre><b>In a Jupyter environment, please rerun this cell to show the HTML representation or trust the notebook. <br />On GitHub, the HTML representation is unable to render, please try loading this page with nbviewer.org.</b></div><div class=\"sk-container\" hidden><div class=\"sk-item sk-dashed-wrapped\"><div class=\"sk-label-container\"><div class=\"sk-label sk-toggleable\"><input class=\"sk-toggleable__control sk-hidden--visually\" id=\"sk-estimator-id-9\" type=\"checkbox\" ><label for=\"sk-estimator-id-9\" class=\"sk-toggleable__label sk-toggleable__label-arrow\">GridSearchCV</label><div class=\"sk-toggleable__content\"><pre>GridSearchCV(cv=5,\n",
       "             estimator=Pipeline(steps=[(&#x27;log_reg&#x27;,\n",
       "                                        LogisticRegression(max_iter=1500))]),\n",
       "             param_grid={&#x27;log_reg__C&#x27;: [0.001, 0.01, 0.1, 1, 10, 100],\n",
       "                         &#x27;log_reg__solver&#x27;: [&#x27;liblinear&#x27;, &#x27;saga&#x27;]},\n",
       "             scoring=&#x27;accuracy&#x27;)</pre></div></div></div><div class=\"sk-parallel\"><div class=\"sk-parallel-item\"><div class=\"sk-item\"><div class=\"sk-label-container\"><div class=\"sk-label sk-toggleable\"><input class=\"sk-toggleable__control sk-hidden--visually\" id=\"sk-estimator-id-10\" type=\"checkbox\" ><label for=\"sk-estimator-id-10\" class=\"sk-toggleable__label sk-toggleable__label-arrow\">estimator: Pipeline</label><div class=\"sk-toggleable__content\"><pre>Pipeline(steps=[(&#x27;log_reg&#x27;, LogisticRegression(max_iter=1500))])</pre></div></div></div><div class=\"sk-serial\"><div class=\"sk-item\"><div class=\"sk-serial\"><div class=\"sk-item\"><div class=\"sk-estimator sk-toggleable\"><input class=\"sk-toggleable__control sk-hidden--visually\" id=\"sk-estimator-id-11\" type=\"checkbox\" ><label for=\"sk-estimator-id-11\" class=\"sk-toggleable__label sk-toggleable__label-arrow\">LogisticRegression</label><div class=\"sk-toggleable__content\"><pre>LogisticRegression(max_iter=1500)</pre></div></div></div></div></div></div></div></div></div></div></div></div>"
      ],
      "text/plain": [
       "GridSearchCV(cv=5,\n",
       "             estimator=Pipeline(steps=[('log_reg',\n",
       "                                        LogisticRegression(max_iter=1500))]),\n",
       "             param_grid={'log_reg__C': [0.001, 0.01, 0.1, 1, 10, 100],\n",
       "                         'log_reg__solver': ['liblinear', 'saga']},\n",
       "             scoring='accuracy')"
      ]
     },
     "execution_count": 36,
     "metadata": {},
     "output_type": "execute_result"
    }
   ],
   "source": [
    "from sklearn.model_selection import GridSearchCV\n",
    "\n",
    "param_grid = {\n",
    "    'log_reg__C': [0.001, 0.01, 0.1, 1, 10, 100],\n",
    "    'log_reg__solver': ['liblinear', 'saga']\n",
    "}\n",
    "\n",
    "# Perform Grid Search Cross Validation\n",
    "grid_search = GridSearchCV(lr, param_grid, cv=5, scoring='accuracy')\n",
    "grid_search.fit(x_train, y_train)"
   ]
  },
  {
   "cell_type": "code",
   "execution_count": 37,
   "id": "983a98de",
   "metadata": {
    "execution": {
     "iopub.execute_input": "2024-04-20T12:06:55.446818Z",
     "iopub.status.busy": "2024-04-20T12:06:55.446396Z",
     "iopub.status.idle": "2024-04-20T12:06:55.459159Z",
     "shell.execute_reply": "2024-04-20T12:06:55.457964Z"
    },
    "papermill": {
     "duration": 0.051711,
     "end_time": "2024-04-20T12:06:55.461565",
     "exception": false,
     "start_time": "2024-04-20T12:06:55.409854",
     "status": "completed"
    },
    "tags": []
   },
   "outputs": [
    {
     "data": {
      "text/html": [
       "<style>#sk-container-id-4 {color: black;background-color: white;}#sk-container-id-4 pre{padding: 0;}#sk-container-id-4 div.sk-toggleable {background-color: white;}#sk-container-id-4 label.sk-toggleable__label {cursor: pointer;display: block;width: 100%;margin-bottom: 0;padding: 0.3em;box-sizing: border-box;text-align: center;}#sk-container-id-4 label.sk-toggleable__label-arrow:before {content: \"▸\";float: left;margin-right: 0.25em;color: #696969;}#sk-container-id-4 label.sk-toggleable__label-arrow:hover:before {color: black;}#sk-container-id-4 div.sk-estimator:hover label.sk-toggleable__label-arrow:before {color: black;}#sk-container-id-4 div.sk-toggleable__content {max-height: 0;max-width: 0;overflow: hidden;text-align: left;background-color: #f0f8ff;}#sk-container-id-4 div.sk-toggleable__content pre {margin: 0.2em;color: black;border-radius: 0.25em;background-color: #f0f8ff;}#sk-container-id-4 input.sk-toggleable__control:checked~div.sk-toggleable__content {max-height: 200px;max-width: 100%;overflow: auto;}#sk-container-id-4 input.sk-toggleable__control:checked~label.sk-toggleable__label-arrow:before {content: \"▾\";}#sk-container-id-4 div.sk-estimator input.sk-toggleable__control:checked~label.sk-toggleable__label {background-color: #d4ebff;}#sk-container-id-4 div.sk-label input.sk-toggleable__control:checked~label.sk-toggleable__label {background-color: #d4ebff;}#sk-container-id-4 input.sk-hidden--visually {border: 0;clip: rect(1px 1px 1px 1px);clip: rect(1px, 1px, 1px, 1px);height: 1px;margin: -1px;overflow: hidden;padding: 0;position: absolute;width: 1px;}#sk-container-id-4 div.sk-estimator {font-family: monospace;background-color: #f0f8ff;border: 1px dotted black;border-radius: 0.25em;box-sizing: border-box;margin-bottom: 0.5em;}#sk-container-id-4 div.sk-estimator:hover {background-color: #d4ebff;}#sk-container-id-4 div.sk-parallel-item::after {content: \"\";width: 100%;border-bottom: 1px solid gray;flex-grow: 1;}#sk-container-id-4 div.sk-label:hover label.sk-toggleable__label {background-color: #d4ebff;}#sk-container-id-4 div.sk-serial::before {content: \"\";position: absolute;border-left: 1px solid gray;box-sizing: border-box;top: 0;bottom: 0;left: 50%;z-index: 0;}#sk-container-id-4 div.sk-serial {display: flex;flex-direction: column;align-items: center;background-color: white;padding-right: 0.2em;padding-left: 0.2em;position: relative;}#sk-container-id-4 div.sk-item {position: relative;z-index: 1;}#sk-container-id-4 div.sk-parallel {display: flex;align-items: stretch;justify-content: center;background-color: white;position: relative;}#sk-container-id-4 div.sk-item::before, #sk-container-id-4 div.sk-parallel-item::before {content: \"\";position: absolute;border-left: 1px solid gray;box-sizing: border-box;top: 0;bottom: 0;left: 50%;z-index: -1;}#sk-container-id-4 div.sk-parallel-item {display: flex;flex-direction: column;z-index: 1;position: relative;background-color: white;}#sk-container-id-4 div.sk-parallel-item:first-child::after {align-self: flex-end;width: 50%;}#sk-container-id-4 div.sk-parallel-item:last-child::after {align-self: flex-start;width: 50%;}#sk-container-id-4 div.sk-parallel-item:only-child::after {width: 0;}#sk-container-id-4 div.sk-dashed-wrapped {border: 1px dashed gray;margin: 0 0.4em 0.5em 0.4em;box-sizing: border-box;padding-bottom: 0.4em;background-color: white;}#sk-container-id-4 div.sk-label label {font-family: monospace;font-weight: bold;display: inline-block;line-height: 1.2em;}#sk-container-id-4 div.sk-label-container {text-align: center;}#sk-container-id-4 div.sk-container {/* jupyter's `normalize.less` sets `[hidden] { display: none; }` but bootstrap.min.css set `[hidden] { display: none !important; }` so we also need the `!important` here to be able to override the default hidden behavior on the sphinx rendered scikit-learn.org. See: https://github.com/scikit-learn/scikit-learn/issues/21755 */display: inline-block !important;position: relative;}#sk-container-id-4 div.sk-text-repr-fallback {display: none;}</style><div id=\"sk-container-id-4\" class=\"sk-top-container\"><div class=\"sk-text-repr-fallback\"><pre>Pipeline(steps=[(&#x27;log_reg&#x27;,\n",
       "                 LogisticRegression(C=10, max_iter=1500, solver=&#x27;liblinear&#x27;))])</pre><b>In a Jupyter environment, please rerun this cell to show the HTML representation or trust the notebook. <br />On GitHub, the HTML representation is unable to render, please try loading this page with nbviewer.org.</b></div><div class=\"sk-container\" hidden><div class=\"sk-item sk-dashed-wrapped\"><div class=\"sk-label-container\"><div class=\"sk-label sk-toggleable\"><input class=\"sk-toggleable__control sk-hidden--visually\" id=\"sk-estimator-id-12\" type=\"checkbox\" ><label for=\"sk-estimator-id-12\" class=\"sk-toggleable__label sk-toggleable__label-arrow\">Pipeline</label><div class=\"sk-toggleable__content\"><pre>Pipeline(steps=[(&#x27;log_reg&#x27;,\n",
       "                 LogisticRegression(C=10, max_iter=1500, solver=&#x27;liblinear&#x27;))])</pre></div></div></div><div class=\"sk-serial\"><div class=\"sk-item\"><div class=\"sk-estimator sk-toggleable\"><input class=\"sk-toggleable__control sk-hidden--visually\" id=\"sk-estimator-id-13\" type=\"checkbox\" ><label for=\"sk-estimator-id-13\" class=\"sk-toggleable__label sk-toggleable__label-arrow\">LogisticRegression</label><div class=\"sk-toggleable__content\"><pre>LogisticRegression(C=10, max_iter=1500, solver=&#x27;liblinear&#x27;)</pre></div></div></div></div></div></div></div>"
      ],
      "text/plain": [
       "Pipeline(steps=[('log_reg',\n",
       "                 LogisticRegression(C=10, max_iter=1500, solver='liblinear'))])"
      ]
     },
     "execution_count": 37,
     "metadata": {},
     "output_type": "execute_result"
    }
   ],
   "source": [
    "grid_search.best_estimator_"
   ]
  },
  {
   "cell_type": "code",
   "execution_count": 38,
   "id": "3f3c08ba",
   "metadata": {
    "execution": {
     "iopub.execute_input": "2024-04-20T12:06:55.537196Z",
     "iopub.status.busy": "2024-04-20T12:06:55.536757Z",
     "iopub.status.idle": "2024-04-20T12:06:55.555874Z",
     "shell.execute_reply": "2024-04-20T12:06:55.554476Z"
    },
    "papermill": {
     "duration": 0.060427,
     "end_time": "2024-04-20T12:06:55.558682",
     "exception": false,
     "start_time": "2024-04-20T12:06:55.498255",
     "status": "completed"
    },
    "tags": []
   },
   "outputs": [
    {
     "name": "stdout",
     "output_type": "stream",
     "text": [
      "The accuracy score on the validation dataset for logistic regression with hpt:  0.7902456912357902\n"
     ]
    }
   ],
   "source": [
    "ypred__test = grid_search.best_estimator_.predict(x_test)\n",
    "ypred___train = grid_search.best_estimator_.predict(x_train)\n",
    "y_final___pred = grid_search.best_estimator_.predict(df_test_transform)\n",
    "\n",
    "accuracy_lr_HPT = accuracy_score(y_test,ypred__test)\n",
    "print('The accuracy score on the validation dataset for logistic regression with hpt: ',accuracy_lr_HPT)"
   ]
  },
  {
   "cell_type": "code",
   "execution_count": 39,
   "id": "6b1ba457",
   "metadata": {
    "execution": {
     "iopub.execute_input": "2024-04-20T12:06:55.633375Z",
     "iopub.status.busy": "2024-04-20T12:06:55.632722Z",
     "iopub.status.idle": "2024-04-20T12:06:55.650114Z",
     "shell.execute_reply": "2024-04-20T12:06:55.648915Z"
    },
    "papermill": {
     "duration": 0.057516,
     "end_time": "2024-04-20T12:06:55.652646",
     "exception": false,
     "start_time": "2024-04-20T12:06:55.595130",
     "status": "completed"
    },
    "tags": []
   },
   "outputs": [
    {
     "name": "stdout",
     "output_type": "stream",
     "text": [
      "              precision    recall  f1-score   support\n",
      "\n",
      "           0       0.56      0.23      0.33       238\n",
      "           1       0.56      0.12      0.20        41\n",
      "           2       0.29      0.05      0.09        40\n",
      "           3       0.43      0.13      0.20        78\n",
      "           4       0.42      0.18      0.25       248\n",
      "           5       0.82      0.98      0.89      2082\n",
      "\n",
      "    accuracy                           0.79      2727\n",
      "   macro avg       0.51      0.28      0.33      2727\n",
      "weighted avg       0.74      0.79      0.74      2727\n",
      "\n"
     ]
    }
   ],
   "source": [
    "print(classification_report(y_test,ypred__test))"
   ]
  },
  {
   "cell_type": "code",
   "execution_count": 40,
   "id": "fe176fd2",
   "metadata": {
    "execution": {
     "iopub.execute_input": "2024-04-20T12:06:55.726187Z",
     "iopub.status.busy": "2024-04-20T12:06:55.725809Z",
     "iopub.status.idle": "2024-04-20T12:06:56.047820Z",
     "shell.execute_reply": "2024-04-20T12:06:56.046657Z"
    },
    "papermill": {
     "duration": 0.361536,
     "end_time": "2024-04-20T12:06:56.050128",
     "exception": false,
     "start_time": "2024-04-20T12:06:55.688592",
     "status": "completed"
    },
    "tags": []
   },
   "outputs": [
    {
     "data": {
      "image/png": "[encoded data removed]",
      "text/plain": [
       "<Figure size 640x480 with 2 Axes>"
      ]
     },
     "metadata": {},
     "output_type": "display_data"
    }
   ],
   "source": [
    "ConfusionMatrixDisplay.from_predictions(y_test,ypred__test)\n",
    "plt.show()"
   ]
  },
  {
   "cell_type": "code",
   "execution_count": 41,
   "id": "e1261556",
   "metadata": {
    "execution": {
     "iopub.execute_input": "2024-04-20T12:06:56.124449Z",
     "iopub.status.busy": "2024-04-20T12:06:56.123995Z",
     "iopub.status.idle": "2024-04-20T12:06:56.139523Z",
     "shell.execute_reply": "2024-04-20T12:06:56.138330Z"
    },
    "papermill": {
     "duration": 0.056455,
     "end_time": "2024-04-20T12:06:56.142776",
     "exception": false,
     "start_time": "2024-04-20T12:06:56.086321",
     "status": "completed"
    },
    "tags": []
   },
   "outputs": [],
   "source": [
    "submission = pd.DataFrame({\"ID\": range(1,4547), \n",
    "                           \"total_amount\": y_final___pred}) \n",
    "\n",
    "submission.to_csv('submission.csv',index=False)"
   ]
  },
  {
   "cell_type": "markdown",
   "id": "4e798286",
   "metadata": {
    "papermill": {
     "duration": 0.036207,
     "end_time": "2024-04-20T12:06:56.215816",
     "exception": false,
     "start_time": "2024-04-20T12:06:56.179609",
     "status": "completed"
    },
    "tags": []
   },
   "source": [
    "## 2. Linear SVM  algorithm\n",
    "\n",
    "**it gives accuracy score `78.54` without hpt**"
   ]
  },
  {
   "cell_type": "code",
   "execution_count": 42,
   "id": "870250a5",
   "metadata": {
    "execution": {
     "iopub.execute_input": "2024-04-20T12:06:56.290769Z",
     "iopub.status.busy": "2024-04-20T12:06:56.290328Z",
     "iopub.status.idle": "2024-04-20T12:06:57.645889Z",
     "shell.execute_reply": "2024-04-20T12:06:57.644478Z"
    },
    "papermill": {
     "duration": 1.396249,
     "end_time": "2024-04-20T12:06:57.648620",
     "exception": false,
     "start_time": "2024-04-20T12:06:56.252371",
     "status": "completed"
    },
    "tags": []
   },
   "outputs": [
    {
     "data": {
      "text/html": [
       "<style>#sk-container-id-5 {color: black;background-color: white;}#sk-container-id-5 pre{padding: 0;}#sk-container-id-5 div.sk-toggleable {background-color: white;}#sk-container-id-5 label.sk-toggleable__label {cursor: pointer;display: block;width: 100%;margin-bottom: 0;padding: 0.3em;box-sizing: border-box;text-align: center;}#sk-container-id-5 label.sk-toggleable__label-arrow:before {content: \"▸\";float: left;margin-right: 0.25em;color: #696969;}#sk-container-id-5 label.sk-toggleable__label-arrow:hover:before {color: black;}#sk-container-id-5 div.sk-estimator:hover label.sk-toggleable__label-arrow:before {color: black;}#sk-container-id-5 div.sk-toggleable__content {max-height: 0;max-width: 0;overflow: hidden;text-align: left;background-color: #f0f8ff;}#sk-container-id-5 div.sk-toggleable__content pre {margin: 0.2em;color: black;border-radius: 0.25em;background-color: #f0f8ff;}#sk-container-id-5 input.sk-toggleable__control:checked~div.sk-toggleable__content {max-height: 200px;max-width: 100%;overflow: auto;}#sk-container-id-5 input.sk-toggleable__control:checked~label.sk-toggleable__label-arrow:before {content: \"▾\";}#sk-container-id-5 div.sk-estimator input.sk-toggleable__control:checked~label.sk-toggleable__label {background-color: #d4ebff;}#sk-container-id-5 div.sk-label input.sk-toggleable__control:checked~label.sk-toggleable__label {background-color: #d4ebff;}#sk-container-id-5 input.sk-hidden--visually {border: 0;clip: rect(1px 1px 1px 1px);clip: rect(1px, 1px, 1px, 1px);height: 1px;margin: -1px;overflow: hidden;padding: 0;position: absolute;width: 1px;}#sk-container-id-5 div.sk-estimator {font-family: monospace;background-color: #f0f8ff;border: 1px dotted black;border-radius: 0.25em;box-sizing: border-box;margin-bottom: 0.5em;}#sk-container-id-5 div.sk-estimator:hover {background-color: #d4ebff;}#sk-container-id-5 div.sk-parallel-item::after {content: \"\";width: 100%;border-bottom: 1px solid gray;flex-grow: 1;}#sk-container-id-5 div.sk-label:hover label.sk-toggleable__label {background-color: #d4ebff;}#sk-container-id-5 div.sk-serial::before {content: \"\";position: absolute;border-left: 1px solid gray;box-sizing: border-box;top: 0;bottom: 0;left: 50%;z-index: 0;}#sk-container-id-5 div.sk-serial {display: flex;flex-direction: column;align-items: center;background-color: white;padding-right: 0.2em;padding-left: 0.2em;position: relative;}#sk-container-id-5 div.sk-item {position: relative;z-index: 1;}#sk-container-id-5 div.sk-parallel {display: flex;align-items: stretch;justify-content: center;background-color: white;position: relative;}#sk-container-id-5 div.sk-item::before, #sk-container-id-5 div.sk-parallel-item::before {content: \"\";position: absolute;border-left: 1px solid gray;box-sizing: border-box;top: 0;bottom: 0;left: 50%;z-index: -1;}#sk-container-id-5 div.sk-parallel-item {display: flex;flex-direction: column;z-index: 1;position: relative;background-color: white;}#sk-container-id-5 div.sk-parallel-item:first-child::after {align-self: flex-end;width: 50%;}#sk-container-id-5 div.sk-parallel-item:last-child::after {align-self: flex-start;width: 50%;}#sk-container-id-5 div.sk-parallel-item:only-child::after {width: 0;}#sk-container-id-5 div.sk-dashed-wrapped {border: 1px dashed gray;margin: 0 0.4em 0.5em 0.4em;box-sizing: border-box;padding-bottom: 0.4em;background-color: white;}#sk-container-id-5 div.sk-label label {font-family: monospace;font-weight: bold;display: inline-block;line-height: 1.2em;}#sk-container-id-5 div.sk-label-container {text-align: center;}#sk-container-id-5 div.sk-container {/* jupyter's `normalize.less` sets `[hidden] { display: none; }` but bootstrap.min.css set `[hidden] { display: none !important; }` so we also need the `!important` here to be able to override the default hidden behavior on the sphinx rendered scikit-learn.org. See: https://github.com/scikit-learn/scikit-learn/issues/21755 */display: inline-block !important;position: relative;}#sk-container-id-5 div.sk-text-repr-fallback {display: none;}</style><div id=\"sk-container-id-5\" class=\"sk-top-container\"><div class=\"sk-text-repr-fallback\"><pre>LinearSVC(max_iter=1500)</pre><b>In a Jupyter environment, please rerun this cell to show the HTML representation or trust the notebook. <br />On GitHub, the HTML representation is unable to render, please try loading this page with nbviewer.org.</b></div><div class=\"sk-container\" hidden><div class=\"sk-item\"><div class=\"sk-estimator sk-toggleable\"><input class=\"sk-toggleable__control sk-hidden--visually\" id=\"sk-estimator-id-14\" type=\"checkbox\" checked><label for=\"sk-estimator-id-14\" class=\"sk-toggleable__label sk-toggleable__label-arrow\">LinearSVC</label><div class=\"sk-toggleable__content\"><pre>LinearSVC(max_iter=1500)</pre></div></div></div></div></div>"
      ],
      "text/plain": [
       "LinearSVC(max_iter=1500)"
      ]
     },
     "execution_count": 42,
     "metadata": {},
     "output_type": "execute_result"
    }
   ],
   "source": [
    "from sklearn.svm import LinearSVC\n",
    "\n",
    "lin_svc = LinearSVC(max_iter=1500)\n",
    "lin_svc.fit(x_train,y_train)"
   ]
  },
  {
   "cell_type": "code",
   "execution_count": 43,
   "id": "4748275f",
   "metadata": {
    "execution": {
     "iopub.execute_input": "2024-04-20T12:06:57.725757Z",
     "iopub.status.busy": "2024-04-20T12:06:57.725315Z",
     "iopub.status.idle": "2024-04-20T12:06:57.743913Z",
     "shell.execute_reply": "2024-04-20T12:06:57.742489Z"
    },
    "papermill": {
     "duration": 0.059375,
     "end_time": "2024-04-20T12:06:57.746423",
     "exception": false,
     "start_time": "2024-04-20T12:06:57.687048",
     "status": "completed"
    },
    "tags": []
   },
   "outputs": [
    {
     "name": "stdout",
     "output_type": "stream",
     "text": [
      "Accuarcy Score on validation data for Linear SVM model:  0.7851118445177852\n"
     ]
    }
   ],
   "source": [
    "ypred_test = lin_svc.predict(x_test)\n",
    "ypred_train = lin_svc.predict(x_train)\n",
    "y_final_pred = lin_svc.predict(df_test_transform)\n",
    "\n",
    "accuracy_linsvc = accuracy_score(y_test,ypred_test)\n",
    "print('Accuarcy Score on validation data for Linear SVM model: ',accuracy_linsvc)"
   ]
  },
  {
   "cell_type": "markdown",
   "id": "33f2b12a",
   "metadata": {
    "papermill": {
     "duration": 0.036529,
     "end_time": "2024-04-20T12:06:57.819658",
     "exception": false,
     "start_time": "2024-04-20T12:06:57.783129",
     "status": "completed"
    },
    "tags": []
   },
   "source": [
    "## Linear SVC Tuning the HyperParameter\n",
    "**it is also give same result not increase to much accuracy score 78.76**\n",
    "1. this algorithm is second best performer"
   ]
  },
  {
   "cell_type": "code",
   "execution_count": 44,
   "id": "6295db3a",
   "metadata": {
    "execution": {
     "iopub.execute_input": "2024-04-20T12:06:57.896421Z",
     "iopub.status.busy": "2024-04-20T12:06:57.896006Z",
     "iopub.status.idle": "2024-04-20T12:09:07.159126Z",
     "shell.execute_reply": "2024-04-20T12:09:07.157825Z"
    },
    "papermill": {
     "duration": 129.342663,
     "end_time": "2024-04-20T12:09:07.199247",
     "exception": false,
     "start_time": "2024-04-20T12:06:57.856584",
     "status": "completed"
    },
    "tags": []
   },
   "outputs": [
    {
     "name": "stderr",
     "output_type": "stream",
     "text": [
      "/opt/conda/lib/python3.10/site-packages/sklearn/svm/_base.py:1244: ConvergenceWarning: Liblinear failed to converge, increase the number of iterations.\n",
      "  warnings.warn(\n"
     ]
    },
    {
     "data": {
      "text/html": [
       "<style>#sk-container-id-6 {color: black;background-color: white;}#sk-container-id-6 pre{padding: 0;}#sk-container-id-6 div.sk-toggleable {background-color: white;}#sk-container-id-6 label.sk-toggleable__label {cursor: pointer;display: block;width: 100%;margin-bottom: 0;padding: 0.3em;box-sizing: border-box;text-align: center;}#sk-container-id-6 label.sk-toggleable__label-arrow:before {content: \"▸\";float: left;margin-right: 0.25em;color: #696969;}#sk-container-id-6 label.sk-toggleable__label-arrow:hover:before {color: black;}#sk-container-id-6 div.sk-estimator:hover label.sk-toggleable__label-arrow:before {color: black;}#sk-container-id-6 div.sk-toggleable__content {max-height: 0;max-width: 0;overflow: hidden;text-align: left;background-color: #f0f8ff;}#sk-container-id-6 div.sk-toggleable__content pre {margin: 0.2em;color: black;border-radius: 0.25em;background-color: #f0f8ff;}#sk-container-id-6 input.sk-toggleable__control:checked~div.sk-toggleable__content {max-height: 200px;max-width: 100%;overflow: auto;}#sk-container-id-6 input.sk-toggleable__control:checked~label.sk-toggleable__label-arrow:before {content: \"▾\";}#sk-container-id-6 div.sk-estimator input.sk-toggleable__control:checked~label.sk-toggleable__label {background-color: #d4ebff;}#sk-container-id-6 div.sk-label input.sk-toggleable__control:checked~label.sk-toggleable__label {background-color: #d4ebff;}#sk-container-id-6 input.sk-hidden--visually {border: 0;clip: rect(1px 1px 1px 1px);clip: rect(1px, 1px, 1px, 1px);height: 1px;margin: -1px;overflow: hidden;padding: 0;position: absolute;width: 1px;}#sk-container-id-6 div.sk-estimator {font-family: monospace;background-color: #f0f8ff;border: 1px dotted black;border-radius: 0.25em;box-sizing: border-box;margin-bottom: 0.5em;}#sk-container-id-6 div.sk-estimator:hover {background-color: #d4ebff;}#sk-container-id-6 div.sk-parallel-item::after {content: \"\";width: 100%;border-bottom: 1px solid gray;flex-grow: 1;}#sk-container-id-6 div.sk-label:hover label.sk-toggleable__label {background-color: #d4ebff;}#sk-container-id-6 div.sk-serial::before {content: \"\";position: absolute;border-left: 1px solid gray;box-sizing: border-box;top: 0;bottom: 0;left: 50%;z-index: 0;}#sk-container-id-6 div.sk-serial {display: flex;flex-direction: column;align-items: center;background-color: white;padding-right: 0.2em;padding-left: 0.2em;position: relative;}#sk-container-id-6 div.sk-item {position: relative;z-index: 1;}#sk-container-id-6 div.sk-parallel {display: flex;align-items: stretch;justify-content: center;background-color: white;position: relative;}#sk-container-id-6 div.sk-item::before, #sk-container-id-6 div.sk-parallel-item::before {content: \"\";position: absolute;border-left: 1px solid gray;box-sizing: border-box;top: 0;bottom: 0;left: 50%;z-index: -1;}#sk-container-id-6 div.sk-parallel-item {display: flex;flex-direction: column;z-index: 1;position: relative;background-color: white;}#sk-container-id-6 div.sk-parallel-item:first-child::after {align-self: flex-end;width: 50%;}#sk-container-id-6 div.sk-parallel-item:last-child::after {align-self: flex-start;width: 50%;}#sk-container-id-6 div.sk-parallel-item:only-child::after {width: 0;}#sk-container-id-6 div.sk-dashed-wrapped {border: 1px dashed gray;margin: 0 0.4em 0.5em 0.4em;box-sizing: border-box;padding-bottom: 0.4em;background-color: white;}#sk-container-id-6 div.sk-label label {font-family: monospace;font-weight: bold;display: inline-block;line-height: 1.2em;}#sk-container-id-6 div.sk-label-container {text-align: center;}#sk-container-id-6 div.sk-container {/* jupyter's `normalize.less` sets `[hidden] { display: none; }` but bootstrap.min.css set `[hidden] { display: none !important; }` so we also need the `!important` here to be able to override the default hidden behavior on the sphinx rendered scikit-learn.org. See: https://github.com/scikit-learn/scikit-learn/issues/21755 */display: inline-block !important;position: relative;}#sk-container-id-6 div.sk-text-repr-fallback {display: none;}</style><div id=\"sk-container-id-6\" class=\"sk-top-container\"><div class=\"sk-text-repr-fallback\"><pre>GridSearchCV(cv=5, estimator=LinearSVC(max_iter=1500),\n",
       "             param_grid={&#x27;C&#x27;: [0.001, 0.01, 0.1, 1, 10],\n",
       "                         &#x27;loss&#x27;: [&#x27;hinge&#x27;, &#x27;squared_hinge&#x27;],\n",
       "                         &#x27;tol&#x27;: [0.0001, 0.001, 0.01]},\n",
       "             scoring=&#x27;accuracy&#x27;)</pre><b>In a Jupyter environment, please rerun this cell to show the HTML representation or trust the notebook. <br />On GitHub, the HTML representation is unable to render, please try loading this page with nbviewer.org.</b></div><div class=\"sk-container\" hidden><div class=\"sk-item sk-dashed-wrapped\"><div class=\"sk-label-container\"><div class=\"sk-label sk-toggleable\"><input class=\"sk-toggleable__control sk-hidden--visually\" id=\"sk-estimator-id-15\" type=\"checkbox\" ><label for=\"sk-estimator-id-15\" class=\"sk-toggleable__label sk-toggleable__label-arrow\">GridSearchCV</label><div class=\"sk-toggleable__content\"><pre>GridSearchCV(cv=5, estimator=LinearSVC(max_iter=1500),\n",
       "             param_grid={&#x27;C&#x27;: [0.001, 0.01, 0.1, 1, 10],\n",
       "                         &#x27;loss&#x27;: [&#x27;hinge&#x27;, &#x27;squared_hinge&#x27;],\n",
       "                         &#x27;tol&#x27;: [0.0001, 0.001, 0.01]},\n",
       "             scoring=&#x27;accuracy&#x27;)</pre></div></div></div><div class=\"sk-parallel\"><div class=\"sk-parallel-item\"><div class=\"sk-item\"><div class=\"sk-label-container\"><div class=\"sk-label sk-toggleable\"><input class=\"sk-toggleable__control sk-hidden--visually\" id=\"sk-estimator-id-16\" type=\"checkbox\" ><label for=\"sk-estimator-id-16\" class=\"sk-toggleable__label sk-toggleable__label-arrow\">estimator: LinearSVC</label><div class=\"sk-toggleable__content\"><pre>LinearSVC(max_iter=1500)</pre></div></div></div><div class=\"sk-serial\"><div class=\"sk-item\"><div class=\"sk-estimator sk-toggleable\"><input class=\"sk-toggleable__control sk-hidden--visually\" id=\"sk-estimator-id-17\" type=\"checkbox\" ><label for=\"sk-estimator-id-17\" class=\"sk-toggleable__label sk-toggleable__label-arrow\">LinearSVC</label><div class=\"sk-toggleable__content\"><pre>LinearSVC(max_iter=1500)</pre></div></div></div></div></div></div></div></div></div></div>"
      ],
      "text/plain": [
       "GridSearchCV(cv=5, estimator=LinearSVC(max_iter=1500),\n",
       "             param_grid={'C': [0.001, 0.01, 0.1, 1, 10],\n",
       "                         'loss': ['hinge', 'squared_hinge'],\n",
       "                         'tol': [0.0001, 0.001, 0.01]},\n",
       "             scoring='accuracy')"
      ]
     },
     "execution_count": 44,
     "metadata": {},
     "output_type": "execute_result"
    }
   ],
   "source": [
    "from sklearn.model_selection import GridSearchCV\n",
    "param_dist = {'C':[0.001,0.01,0.1,1,10],\n",
    "           'loss':['hinge','squared_hinge'],\n",
    "            'tol': [1e-4, 1e-3, 1e-2]\n",
    "           }\n",
    "\n",
    "gscv_svm = GridSearchCV(lin_svc,param_grid=param_dist,\n",
    "                        cv=5,scoring='accuracy')\n",
    "gscv_svm.fit(x_train,y_train)"
   ]
  },
  {
   "cell_type": "code",
   "execution_count": 45,
   "id": "020fa8a7",
   "metadata": {
    "execution": {
     "iopub.execute_input": "2024-04-20T12:09:07.274967Z",
     "iopub.status.busy": "2024-04-20T12:09:07.274339Z",
     "iopub.status.idle": "2024-04-20T12:09:07.283476Z",
     "shell.execute_reply": "2024-04-20T12:09:07.282241Z"
    },
    "papermill": {
     "duration": 0.050097,
     "end_time": "2024-04-20T12:09:07.286136",
     "exception": false,
     "start_time": "2024-04-20T12:09:07.236039",
     "status": "completed"
    },
    "tags": []
   },
   "outputs": [
    {
     "data": {
      "text/html": [
       "<style>#sk-container-id-7 {color: black;background-color: white;}#sk-container-id-7 pre{padding: 0;}#sk-container-id-7 div.sk-toggleable {background-color: white;}#sk-container-id-7 label.sk-toggleable__label {cursor: pointer;display: block;width: 100%;margin-bottom: 0;padding: 0.3em;box-sizing: border-box;text-align: center;}#sk-container-id-7 label.sk-toggleable__label-arrow:before {content: \"▸\";float: left;margin-right: 0.25em;color: #696969;}#sk-container-id-7 label.sk-toggleable__label-arrow:hover:before {color: black;}#sk-container-id-7 div.sk-estimator:hover label.sk-toggleable__label-arrow:before {color: black;}#sk-container-id-7 div.sk-toggleable__content {max-height: 0;max-width: 0;overflow: hidden;text-align: left;background-color: #f0f8ff;}#sk-container-id-7 div.sk-toggleable__content pre {margin: 0.2em;color: black;border-radius: 0.25em;background-color: #f0f8ff;}#sk-container-id-7 input.sk-toggleable__control:checked~div.sk-toggleable__content {max-height: 200px;max-width: 100%;overflow: auto;}#sk-container-id-7 input.sk-toggleable__control:checked~label.sk-toggleable__label-arrow:before {content: \"▾\";}#sk-container-id-7 div.sk-estimator input.sk-toggleable__control:checked~label.sk-toggleable__label {background-color: #d4ebff;}#sk-container-id-7 div.sk-label input.sk-toggleable__control:checked~label.sk-toggleable__label {background-color: #d4ebff;}#sk-container-id-7 input.sk-hidden--visually {border: 0;clip: rect(1px 1px 1px 1px);clip: rect(1px, 1px, 1px, 1px);height: 1px;margin: -1px;overflow: hidden;padding: 0;position: absolute;width: 1px;}#sk-container-id-7 div.sk-estimator {font-family: monospace;background-color: #f0f8ff;border: 1px dotted black;border-radius: 0.25em;box-sizing: border-box;margin-bottom: 0.5em;}#sk-container-id-7 div.sk-estimator:hover {background-color: #d4ebff;}#sk-container-id-7 div.sk-parallel-item::after {content: \"\";width: 100%;border-bottom: 1px solid gray;flex-grow: 1;}#sk-container-id-7 div.sk-label:hover label.sk-toggleable__label {background-color: #d4ebff;}#sk-container-id-7 div.sk-serial::before {content: \"\";position: absolute;border-left: 1px solid gray;box-sizing: border-box;top: 0;bottom: 0;left: 50%;z-index: 0;}#sk-container-id-7 div.sk-serial {display: flex;flex-direction: column;align-items: center;background-color: white;padding-right: 0.2em;padding-left: 0.2em;position: relative;}#sk-container-id-7 div.sk-item {position: relative;z-index: 1;}#sk-container-id-7 div.sk-parallel {display: flex;align-items: stretch;justify-content: center;background-color: white;position: relative;}#sk-container-id-7 div.sk-item::before, #sk-container-id-7 div.sk-parallel-item::before {content: \"\";position: absolute;border-left: 1px solid gray;box-sizing: border-box;top: 0;bottom: 0;left: 50%;z-index: -1;}#sk-container-id-7 div.sk-parallel-item {display: flex;flex-direction: column;z-index: 1;position: relative;background-color: white;}#sk-container-id-7 div.sk-parallel-item:first-child::after {align-self: flex-end;width: 50%;}#sk-container-id-7 div.sk-parallel-item:last-child::after {align-self: flex-start;width: 50%;}#sk-container-id-7 div.sk-parallel-item:only-child::after {width: 0;}#sk-container-id-7 div.sk-dashed-wrapped {border: 1px dashed gray;margin: 0 0.4em 0.5em 0.4em;box-sizing: border-box;padding-bottom: 0.4em;background-color: white;}#sk-container-id-7 div.sk-label label {font-family: monospace;font-weight: bold;display: inline-block;line-height: 1.2em;}#sk-container-id-7 div.sk-label-container {text-align: center;}#sk-container-id-7 div.sk-container {/* jupyter's `normalize.less` sets `[hidden] { display: none; }` but bootstrap.min.css set `[hidden] { display: none !important; }` so we also need the `!important` here to be able to override the default hidden behavior on the sphinx rendered scikit-learn.org. See: https://github.com/scikit-learn/scikit-learn/issues/21755 */display: inline-block !important;position: relative;}#sk-container-id-7 div.sk-text-repr-fallback {display: none;}</style><div id=\"sk-container-id-7\" class=\"sk-top-container\"><div class=\"sk-text-repr-fallback\"><pre>LinearSVC(C=1, loss=&#x27;hinge&#x27;, max_iter=1500)</pre><b>In a Jupyter environment, please rerun this cell to show the HTML representation or trust the notebook. <br />On GitHub, the HTML representation is unable to render, please try loading this page with nbviewer.org.</b></div><div class=\"sk-container\" hidden><div class=\"sk-item\"><div class=\"sk-estimator sk-toggleable\"><input class=\"sk-toggleable__control sk-hidden--visually\" id=\"sk-estimator-id-18\" type=\"checkbox\" checked><label for=\"sk-estimator-id-18\" class=\"sk-toggleable__label sk-toggleable__label-arrow\">LinearSVC</label><div class=\"sk-toggleable__content\"><pre>LinearSVC(C=1, loss=&#x27;hinge&#x27;, max_iter=1500)</pre></div></div></div></div></div>"
      ],
      "text/plain": [
       "LinearSVC(C=1, loss='hinge', max_iter=1500)"
      ]
     },
     "execution_count": 45,
     "metadata": {},
     "output_type": "execute_result"
    }
   ],
   "source": [
    "gscv_svm.best_estimator_"
   ]
  },
  {
   "cell_type": "code",
   "execution_count": 46,
   "id": "dc725c67",
   "metadata": {
    "execution": {
     "iopub.execute_input": "2024-04-20T12:09:07.364350Z",
     "iopub.status.busy": "2024-04-20T12:09:07.363955Z",
     "iopub.status.idle": "2024-04-20T12:09:07.383117Z",
     "shell.execute_reply": "2024-04-20T12:09:07.381791Z"
    },
    "papermill": {
     "duration": 0.060936,
     "end_time": "2024-04-20T12:09:07.385550",
     "exception": false,
     "start_time": "2024-04-20T12:09:07.324614",
     "status": "completed"
    },
    "tags": []
   },
   "outputs": [
    {
     "name": "stdout",
     "output_type": "stream",
     "text": [
      "Accuracy Score on validation data for linear SVM with hpt:  0.7876787678767877\n"
     ]
    }
   ],
   "source": [
    "ypred_test = gscv_svm.best_estimator_.predict(x_test)\n",
    "ypred_train = gscv_svm.best_estimator_.predict(x_train)\n",
    "y_final_pred = gscv_svm.best_estimator_.predict(df_test_transform)\n",
    "\n",
    "accuracy_linsvc_hpt = accuracy_score(y_test,ypred_test)\n",
    "print('Accuracy Score on validation data for linear SVM with hpt: ',accuracy_linsvc_hpt)"
   ]
  },
  {
   "cell_type": "markdown",
   "id": "f0a45c93",
   "metadata": {
    "papermill": {
     "duration": 0.038377,
     "end_time": "2024-04-20T12:09:07.461154",
     "exception": false,
     "start_time": "2024-04-20T12:09:07.422777",
     "status": "completed"
    },
    "tags": []
   },
   "source": [
    "## 3. Perceptron algorithm \n",
    "\n",
    "**this algorithm gives accuracy around 77.6**"
   ]
  },
  {
   "cell_type": "code",
   "execution_count": 47,
   "id": "8e0dc154",
   "metadata": {
    "execution": {
     "iopub.execute_input": "2024-04-20T12:09:07.537702Z",
     "iopub.status.busy": "2024-04-20T12:09:07.537281Z",
     "iopub.status.idle": "2024-04-20T12:09:08.001173Z",
     "shell.execute_reply": "2024-04-20T12:09:07.999663Z"
    },
    "papermill": {
     "duration": 0.504928,
     "end_time": "2024-04-20T12:09:08.004140",
     "exception": false,
     "start_time": "2024-04-20T12:09:07.499212",
     "status": "completed"
    },
    "tags": []
   },
   "outputs": [
    {
     "data": {
      "text/html": [
       "<style>#sk-container-id-8 {color: black;background-color: white;}#sk-container-id-8 pre{padding: 0;}#sk-container-id-8 div.sk-toggleable {background-color: white;}#sk-container-id-8 label.sk-toggleable__label {cursor: pointer;display: block;width: 100%;margin-bottom: 0;padding: 0.3em;box-sizing: border-box;text-align: center;}#sk-container-id-8 label.sk-toggleable__label-arrow:before {content: \"▸\";float: left;margin-right: 0.25em;color: #696969;}#sk-container-id-8 label.sk-toggleable__label-arrow:hover:before {color: black;}#sk-container-id-8 div.sk-estimator:hover label.sk-toggleable__label-arrow:before {color: black;}#sk-container-id-8 div.sk-toggleable__content {max-height: 0;max-width: 0;overflow: hidden;text-align: left;background-color: #f0f8ff;}#sk-container-id-8 div.sk-toggleable__content pre {margin: 0.2em;color: black;border-radius: 0.25em;background-color: #f0f8ff;}#sk-container-id-8 input.sk-toggleable__control:checked~div.sk-toggleable__content {max-height: 200px;max-width: 100%;overflow: auto;}#sk-container-id-8 input.sk-toggleable__control:checked~label.sk-toggleable__label-arrow:before {content: \"▾\";}#sk-container-id-8 div.sk-estimator input.sk-toggleable__control:checked~label.sk-toggleable__label {background-color: #d4ebff;}#sk-container-id-8 div.sk-label input.sk-toggleable__control:checked~label.sk-toggleable__label {background-color: #d4ebff;}#sk-container-id-8 input.sk-hidden--visually {border: 0;clip: rect(1px 1px 1px 1px);clip: rect(1px, 1px, 1px, 1px);height: 1px;margin: -1px;overflow: hidden;padding: 0;position: absolute;width: 1px;}#sk-container-id-8 div.sk-estimator {font-family: monospace;background-color: #f0f8ff;border: 1px dotted black;border-radius: 0.25em;box-sizing: border-box;margin-bottom: 0.5em;}#sk-container-id-8 div.sk-estimator:hover {background-color: #d4ebff;}#sk-container-id-8 div.sk-parallel-item::after {content: \"\";width: 100%;border-bottom: 1px solid gray;flex-grow: 1;}#sk-container-id-8 div.sk-label:hover label.sk-toggleable__label {background-color: #d4ebff;}#sk-container-id-8 div.sk-serial::before {content: \"\";position: absolute;border-left: 1px solid gray;box-sizing: border-box;top: 0;bottom: 0;left: 50%;z-index: 0;}#sk-container-id-8 div.sk-serial {display: flex;flex-direction: column;align-items: center;background-color: white;padding-right: 0.2em;padding-left: 0.2em;position: relative;}#sk-container-id-8 div.sk-item {position: relative;z-index: 1;}#sk-container-id-8 div.sk-parallel {display: flex;align-items: stretch;justify-content: center;background-color: white;position: relative;}#sk-container-id-8 div.sk-item::before, #sk-container-id-8 div.sk-parallel-item::before {content: \"\";position: absolute;border-left: 1px solid gray;box-sizing: border-box;top: 0;bottom: 0;left: 50%;z-index: -1;}#sk-container-id-8 div.sk-parallel-item {display: flex;flex-direction: column;z-index: 1;position: relative;background-color: white;}#sk-container-id-8 div.sk-parallel-item:first-child::after {align-self: flex-end;width: 50%;}#sk-container-id-8 div.sk-parallel-item:last-child::after {align-self: flex-start;width: 50%;}#sk-container-id-8 div.sk-parallel-item:only-child::after {width: 0;}#sk-container-id-8 div.sk-dashed-wrapped {border: 1px dashed gray;margin: 0 0.4em 0.5em 0.4em;box-sizing: border-box;padding-bottom: 0.4em;background-color: white;}#sk-container-id-8 div.sk-label label {font-family: monospace;font-weight: bold;display: inline-block;line-height: 1.2em;}#sk-container-id-8 div.sk-label-container {text-align: center;}#sk-container-id-8 div.sk-container {/* jupyter's `normalize.less` sets `[hidden] { display: none; }` but bootstrap.min.css set `[hidden] { display: none !important; }` so we also need the `!important` here to be able to override the default hidden behavior on the sphinx rendered scikit-learn.org. See: https://github.com/scikit-learn/scikit-learn/issues/21755 */display: inline-block !important;position: relative;}#sk-container-id-8 div.sk-text-repr-fallback {display: none;}</style><div id=\"sk-container-id-8\" class=\"sk-top-container\"><div class=\"sk-text-repr-fallback\"><pre>Perceptron()</pre><b>In a Jupyter environment, please rerun this cell to show the HTML representation or trust the notebook. <br />On GitHub, the HTML representation is unable to render, please try loading this page with nbviewer.org.</b></div><div class=\"sk-container\" hidden><div class=\"sk-item\"><div class=\"sk-estimator sk-toggleable\"><input class=\"sk-toggleable__control sk-hidden--visually\" id=\"sk-estimator-id-19\" type=\"checkbox\" checked><label for=\"sk-estimator-id-19\" class=\"sk-toggleable__label sk-toggleable__label-arrow\">Perceptron</label><div class=\"sk-toggleable__content\"><pre>Perceptron()</pre></div></div></div></div></div>"
      ],
      "text/plain": [
       "Perceptron()"
      ]
     },
     "execution_count": 47,
     "metadata": {},
     "output_type": "execute_result"
    }
   ],
   "source": [
    "from sklearn.linear_model import Perceptron\n",
    "pp_clf = Perceptron()\n",
    "pp_clf.fit(x_train,y_train)"
   ]
  },
  {
   "cell_type": "code",
   "execution_count": 48,
   "id": "f3c247d1",
   "metadata": {
    "execution": {
     "iopub.execute_input": "2024-04-20T12:09:08.081646Z",
     "iopub.status.busy": "2024-04-20T12:09:08.080627Z",
     "iopub.status.idle": "2024-04-20T12:09:08.099841Z",
     "shell.execute_reply": "2024-04-20T12:09:08.098491Z"
    },
    "papermill": {
     "duration": 0.060489,
     "end_time": "2024-04-20T12:09:08.102227",
     "exception": false,
     "start_time": "2024-04-20T12:09:08.041738",
     "status": "completed"
    },
    "tags": []
   },
   "outputs": [
    {
     "name": "stdout",
     "output_type": "stream",
     "text": [
      "Accuarcy score of Perceptron algorithm on validation data:{0:} 0.7711771177117712\n"
     ]
    }
   ],
   "source": [
    "ypred_test = pp_clf.predict(x_test)\n",
    "ypred_train = pp_clf.predict(x_train)\n",
    "y_final_pred = pp_clf.predict(df_test_transform)\n",
    "\n",
    "accuracy_perceptron = accuracy_score(y_test,ypred_test)\n",
    "print('Accuarcy score of Perceptron algorithm on validation data:{0:}',accuracy_perceptron)"
   ]
  },
  {
   "cell_type": "markdown",
   "id": "193e8792",
   "metadata": {
    "papermill": {
     "duration": 0.03779,
     "end_time": "2024-04-20T12:09:08.177388",
     "exception": false,
     "start_time": "2024-04-20T12:09:08.139598",
     "status": "completed"
    },
    "tags": []
   },
   "source": [
    "**Tuning the HPT of Percpetron**"
   ]
  },
  {
   "cell_type": "code",
   "execution_count": 49,
   "id": "92beebcc",
   "metadata": {
    "execution": {
     "iopub.execute_input": "2024-04-20T12:09:08.255461Z",
     "iopub.status.busy": "2024-04-20T12:09:08.255052Z",
     "iopub.status.idle": "2024-04-20T12:10:12.817873Z",
     "shell.execute_reply": "2024-04-20T12:10:12.816486Z"
    },
    "papermill": {
     "duration": 64.640965,
     "end_time": "2024-04-20T12:10:12.856341",
     "exception": false,
     "start_time": "2024-04-20T12:09:08.215376",
     "status": "completed"
    },
    "tags": []
   },
   "outputs": [
    {
     "data": {
      "text/html": [
       "<style>#sk-container-id-9 {color: black;background-color: white;}#sk-container-id-9 pre{padding: 0;}#sk-container-id-9 div.sk-toggleable {background-color: white;}#sk-container-id-9 label.sk-toggleable__label {cursor: pointer;display: block;width: 100%;margin-bottom: 0;padding: 0.3em;box-sizing: border-box;text-align: center;}#sk-container-id-9 label.sk-toggleable__label-arrow:before {content: \"▸\";float: left;margin-right: 0.25em;color: #696969;}#sk-container-id-9 label.sk-toggleable__label-arrow:hover:before {color: black;}#sk-container-id-9 div.sk-estimator:hover label.sk-toggleable__label-arrow:before {color: black;}#sk-container-id-9 div.sk-toggleable__content {max-height: 0;max-width: 0;overflow: hidden;text-align: left;background-color: #f0f8ff;}#sk-container-id-9 div.sk-toggleable__content pre {margin: 0.2em;color: black;border-radius: 0.25em;background-color: #f0f8ff;}#sk-container-id-9 input.sk-toggleable__control:checked~div.sk-toggleable__content {max-height: 200px;max-width: 100%;overflow: auto;}#sk-container-id-9 input.sk-toggleable__control:checked~label.sk-toggleable__label-arrow:before {content: \"▾\";}#sk-container-id-9 div.sk-estimator input.sk-toggleable__control:checked~label.sk-toggleable__label {background-color: #d4ebff;}#sk-container-id-9 div.sk-label input.sk-toggleable__control:checked~label.sk-toggleable__label {background-color: #d4ebff;}#sk-container-id-9 input.sk-hidden--visually {border: 0;clip: rect(1px 1px 1px 1px);clip: rect(1px, 1px, 1px, 1px);height: 1px;margin: -1px;overflow: hidden;padding: 0;position: absolute;width: 1px;}#sk-container-id-9 div.sk-estimator {font-family: monospace;background-color: #f0f8ff;border: 1px dotted black;border-radius: 0.25em;box-sizing: border-box;margin-bottom: 0.5em;}#sk-container-id-9 div.sk-estimator:hover {background-color: #d4ebff;}#sk-container-id-9 div.sk-parallel-item::after {content: \"\";width: 100%;border-bottom: 1px solid gray;flex-grow: 1;}#sk-container-id-9 div.sk-label:hover label.sk-toggleable__label {background-color: #d4ebff;}#sk-container-id-9 div.sk-serial::before {content: \"\";position: absolute;border-left: 1px solid gray;box-sizing: border-box;top: 0;bottom: 0;left: 50%;z-index: 0;}#sk-container-id-9 div.sk-serial {display: flex;flex-direction: column;align-items: center;background-color: white;padding-right: 0.2em;padding-left: 0.2em;position: relative;}#sk-container-id-9 div.sk-item {position: relative;z-index: 1;}#sk-container-id-9 div.sk-parallel {display: flex;align-items: stretch;justify-content: center;background-color: white;position: relative;}#sk-container-id-9 div.sk-item::before, #sk-container-id-9 div.sk-parallel-item::before {content: \"\";position: absolute;border-left: 1px solid gray;box-sizing: border-box;top: 0;bottom: 0;left: 50%;z-index: -1;}#sk-container-id-9 div.sk-parallel-item {display: flex;flex-direction: column;z-index: 1;position: relative;background-color: white;}#sk-container-id-9 div.sk-parallel-item:first-child::after {align-self: flex-end;width: 50%;}#sk-container-id-9 div.sk-parallel-item:last-child::after {align-self: flex-start;width: 50%;}#sk-container-id-9 div.sk-parallel-item:only-child::after {width: 0;}#sk-container-id-9 div.sk-dashed-wrapped {border: 1px dashed gray;margin: 0 0.4em 0.5em 0.4em;box-sizing: border-box;padding-bottom: 0.4em;background-color: white;}#sk-container-id-9 div.sk-label label {font-family: monospace;font-weight: bold;display: inline-block;line-height: 1.2em;}#sk-container-id-9 div.sk-label-container {text-align: center;}#sk-container-id-9 div.sk-container {/* jupyter's `normalize.less` sets `[hidden] { display: none; }` but bootstrap.min.css set `[hidden] { display: none !important; }` so we also need the `!important` here to be able to override the default hidden behavior on the sphinx rendered scikit-learn.org. See: https://github.com/scikit-learn/scikit-learn/issues/21755 */display: inline-block !important;position: relative;}#sk-container-id-9 div.sk-text-repr-fallback {display: none;}</style><div id=\"sk-container-id-9\" class=\"sk-top-container\"><div class=\"sk-text-repr-fallback\"><pre>GridSearchCV(cv=5, estimator=Perceptron(),\n",
       "             param_grid={&#x27;alpha&#x27;: [0.0001, 0.001, 0.01],\n",
       "                         &#x27;max_iter&#x27;: [100, 500, 1000],\n",
       "                         &#x27;tol&#x27;: [0.001, 0.0001, 1e-05]},\n",
       "             scoring=&#x27;accuracy&#x27;)</pre><b>In a Jupyter environment, please rerun this cell to show the HTML representation or trust the notebook. <br />On GitHub, the HTML representation is unable to render, please try loading this page with nbviewer.org.</b></div><div class=\"sk-container\" hidden><div class=\"sk-item sk-dashed-wrapped\"><div class=\"sk-label-container\"><div class=\"sk-label sk-toggleable\"><input class=\"sk-toggleable__control sk-hidden--visually\" id=\"sk-estimator-id-20\" type=\"checkbox\" ><label for=\"sk-estimator-id-20\" class=\"sk-toggleable__label sk-toggleable__label-arrow\">GridSearchCV</label><div class=\"sk-toggleable__content\"><pre>GridSearchCV(cv=5, estimator=Perceptron(),\n",
       "             param_grid={&#x27;alpha&#x27;: [0.0001, 0.001, 0.01],\n",
       "                         &#x27;max_iter&#x27;: [100, 500, 1000],\n",
       "                         &#x27;tol&#x27;: [0.001, 0.0001, 1e-05]},\n",
       "             scoring=&#x27;accuracy&#x27;)</pre></div></div></div><div class=\"sk-parallel\"><div class=\"sk-parallel-item\"><div class=\"sk-item\"><div class=\"sk-label-container\"><div class=\"sk-label sk-toggleable\"><input class=\"sk-toggleable__control sk-hidden--visually\" id=\"sk-estimator-id-21\" type=\"checkbox\" ><label for=\"sk-estimator-id-21\" class=\"sk-toggleable__label sk-toggleable__label-arrow\">estimator: Perceptron</label><div class=\"sk-toggleable__content\"><pre>Perceptron()</pre></div></div></div><div class=\"sk-serial\"><div class=\"sk-item\"><div class=\"sk-estimator sk-toggleable\"><input class=\"sk-toggleable__control sk-hidden--visually\" id=\"sk-estimator-id-22\" type=\"checkbox\" ><label for=\"sk-estimator-id-22\" class=\"sk-toggleable__label sk-toggleable__label-arrow\">Perceptron</label><div class=\"sk-toggleable__content\"><pre>Perceptron()</pre></div></div></div></div></div></div></div></div></div></div>"
      ],
      "text/plain": [
       "GridSearchCV(cv=5, estimator=Perceptron(),\n",
       "             param_grid={'alpha': [0.0001, 0.001, 0.01],\n",
       "                         'max_iter': [100, 500, 1000],\n",
       "                         'tol': [0.001, 0.0001, 1e-05]},\n",
       "             scoring='accuracy')"
      ]
     },
     "execution_count": 49,
     "metadata": {},
     "output_type": "execute_result"
    }
   ],
   "source": [
    "from sklearn.model_selection import GridSearchCV\n",
    "\n",
    "param_grid = {\n",
    "    'alpha': [0.0001, 0.001, 0.01],\n",
    "    'max_iter': [100, 500, 1000],\n",
    "    'tol': [1e-3, 1e-4, 1e-5]\n",
    "}\n",
    "\n",
    "# Create the Perceptron classifier\n",
    "pp_clf = Perceptron()\n",
    "\n",
    "gscv_pp = GridSearchCV(pp_clf, param_grid, cv=5, scoring='accuracy')\n",
    "gscv_pp.fit(x_train, y_train)"
   ]
  },
  {
   "cell_type": "code",
   "execution_count": 50,
   "id": "07859e81",
   "metadata": {
    "execution": {
     "iopub.execute_input": "2024-04-20T12:10:12.933901Z",
     "iopub.status.busy": "2024-04-20T12:10:12.933519Z",
     "iopub.status.idle": "2024-04-20T12:10:12.940688Z",
     "shell.execute_reply": "2024-04-20T12:10:12.939899Z"
    },
    "papermill": {
     "duration": 0.049011,
     "end_time": "2024-04-20T12:10:12.943274",
     "exception": false,
     "start_time": "2024-04-20T12:10:12.894263",
     "status": "completed"
    },
    "tags": []
   },
   "outputs": [
    {
     "data": {
      "text/html": [
       "<style>#sk-container-id-10 {color: black;background-color: white;}#sk-container-id-10 pre{padding: 0;}#sk-container-id-10 div.sk-toggleable {background-color: white;}#sk-container-id-10 label.sk-toggleable__label {cursor: pointer;display: block;width: 100%;margin-bottom: 0;padding: 0.3em;box-sizing: border-box;text-align: center;}#sk-container-id-10 label.sk-toggleable__label-arrow:before {content: \"▸\";float: left;margin-right: 0.25em;color: #696969;}#sk-container-id-10 label.sk-toggleable__label-arrow:hover:before {color: black;}#sk-container-id-10 div.sk-estimator:hover label.sk-toggleable__label-arrow:before {color: black;}#sk-container-id-10 div.sk-toggleable__content {max-height: 0;max-width: 0;overflow: hidden;text-align: left;background-color: #f0f8ff;}#sk-container-id-10 div.sk-toggleable__content pre {margin: 0.2em;color: black;border-radius: 0.25em;background-color: #f0f8ff;}#sk-container-id-10 input.sk-toggleable__control:checked~div.sk-toggleable__content {max-height: 200px;max-width: 100%;overflow: auto;}#sk-container-id-10 input.sk-toggleable__control:checked~label.sk-toggleable__label-arrow:before {content: \"▾\";}#sk-container-id-10 div.sk-estimator input.sk-toggleable__control:checked~label.sk-toggleable__label {background-color: #d4ebff;}#sk-container-id-10 div.sk-label input.sk-toggleable__control:checked~label.sk-toggleable__label {background-color: #d4ebff;}#sk-container-id-10 input.sk-hidden--visually {border: 0;clip: rect(1px 1px 1px 1px);clip: rect(1px, 1px, 1px, 1px);height: 1px;margin: -1px;overflow: hidden;padding: 0;position: absolute;width: 1px;}#sk-container-id-10 div.sk-estimator {font-family: monospace;background-color: #f0f8ff;border: 1px dotted black;border-radius: 0.25em;box-sizing: border-box;margin-bottom: 0.5em;}#sk-container-id-10 div.sk-estimator:hover {background-color: #d4ebff;}#sk-container-id-10 div.sk-parallel-item::after {content: \"\";width: 100%;border-bottom: 1px solid gray;flex-grow: 1;}#sk-container-id-10 div.sk-label:hover label.sk-toggleable__label {background-color: #d4ebff;}#sk-container-id-10 div.sk-serial::before {content: \"\";position: absolute;border-left: 1px solid gray;box-sizing: border-box;top: 0;bottom: 0;left: 50%;z-index: 0;}#sk-container-id-10 div.sk-serial {display: flex;flex-direction: column;align-items: center;background-color: white;padding-right: 0.2em;padding-left: 0.2em;position: relative;}#sk-container-id-10 div.sk-item {position: relative;z-index: 1;}#sk-container-id-10 div.sk-parallel {display: flex;align-items: stretch;justify-content: center;background-color: white;position: relative;}#sk-container-id-10 div.sk-item::before, #sk-container-id-10 div.sk-parallel-item::before {content: \"\";position: absolute;border-left: 1px solid gray;box-sizing: border-box;top: 0;bottom: 0;left: 50%;z-index: -1;}#sk-container-id-10 div.sk-parallel-item {display: flex;flex-direction: column;z-index: 1;position: relative;background-color: white;}#sk-container-id-10 div.sk-parallel-item:first-child::after {align-self: flex-end;width: 50%;}#sk-container-id-10 div.sk-parallel-item:last-child::after {align-self: flex-start;width: 50%;}#sk-container-id-10 div.sk-parallel-item:only-child::after {width: 0;}#sk-container-id-10 div.sk-dashed-wrapped {border: 1px dashed gray;margin: 0 0.4em 0.5em 0.4em;box-sizing: border-box;padding-bottom: 0.4em;background-color: white;}#sk-container-id-10 div.sk-label label {font-family: monospace;font-weight: bold;display: inline-block;line-height: 1.2em;}#sk-container-id-10 div.sk-label-container {text-align: center;}#sk-container-id-10 div.sk-container {/* jupyter's `normalize.less` sets `[hidden] { display: none; }` but bootstrap.min.css set `[hidden] { display: none !important; }` so we also need the `!important` here to be able to override the default hidden behavior on the sphinx rendered scikit-learn.org. See: https://github.com/scikit-learn/scikit-learn/issues/21755 */display: inline-block !important;position: relative;}#sk-container-id-10 div.sk-text-repr-fallback {display: none;}</style><div id=\"sk-container-id-10\" class=\"sk-top-container\"><div class=\"sk-text-repr-fallback\"><pre>Perceptron(max_iter=100, tol=1e-05)</pre><b>In a Jupyter environment, please rerun this cell to show the HTML representation or trust the notebook. <br />On GitHub, the HTML representation is unable to render, please try loading this page with nbviewer.org.</b></div><div class=\"sk-container\" hidden><div class=\"sk-item\"><div class=\"sk-estimator sk-toggleable\"><input class=\"sk-toggleable__control sk-hidden--visually\" id=\"sk-estimator-id-23\" type=\"checkbox\" checked><label for=\"sk-estimator-id-23\" class=\"sk-toggleable__label sk-toggleable__label-arrow\">Perceptron</label><div class=\"sk-toggleable__content\"><pre>Perceptron(max_iter=100, tol=1e-05)</pre></div></div></div></div></div>"
      ],
      "text/plain": [
       "Perceptron(max_iter=100, tol=1e-05)"
      ]
     },
     "execution_count": 50,
     "metadata": {},
     "output_type": "execute_result"
    }
   ],
   "source": [
    "gscv_pp.best_estimator_"
   ]
  },
  {
   "cell_type": "code",
   "execution_count": 51,
   "id": "ccfc77a5",
   "metadata": {
    "execution": {
     "iopub.execute_input": "2024-04-20T12:10:13.020578Z",
     "iopub.status.busy": "2024-04-20T12:10:13.019943Z",
     "iopub.status.idle": "2024-04-20T12:10:13.039602Z",
     "shell.execute_reply": "2024-04-20T12:10:13.038182Z"
    },
    "papermill": {
     "duration": 0.061457,
     "end_time": "2024-04-20T12:10:13.042217",
     "exception": false,
     "start_time": "2024-04-20T12:10:12.980760",
     "status": "completed"
    },
    "tags": []
   },
   "outputs": [
    {
     "name": "stdout",
     "output_type": "stream",
     "text": [
      "accuracy Score of Perceptron algortihm with hpt on validation data : 0.77007700770077\n"
     ]
    }
   ],
   "source": [
    "ypred_test = gscv_pp.best_estimator_.predict(x_test)\n",
    "ypred_train = gscv_pp.best_estimator_.predict(x_train)\n",
    "y_final_pred = gscv_pp.best_estimator_.predict(df_test_transform)\n",
    "\n",
    "accuracy_perceptron_hpt = accuracy_score(y_test,ypred_test)\n",
    "print('accuracy Score of Perceptron algortihm with hpt on validation data :',accuracy_perceptron_hpt)"
   ]
  },
  {
   "cell_type": "markdown",
   "id": "de02d509",
   "metadata": {
    "papermill": {
     "duration": 0.037586,
     "end_time": "2024-04-20T12:10:13.117797",
     "exception": false,
     "start_time": "2024-04-20T12:10:13.080211",
     "status": "completed"
    },
    "tags": []
   },
   "source": [
    "## 4. RandomForestClassifier\n",
    "\n",
    "The RandomForestClassifier is a popular ensemble learning method used for classification tasks.\n",
    "\n",
    "This approach improves robustness and reduces overfitting compared to individual decision trees. RandomForestClassifier is known for its effectiveness across various datasets and problem domains.\"\n",
    "\n",
    "it is implemented by `sklearn.ensemble api`.\n",
    "\n",
    "**this algorithm gives only accuarcy of 77.012**"
   ]
  },
  {
   "cell_type": "code",
   "execution_count": 52,
   "id": "52f2f801",
   "metadata": {
    "execution": {
     "iopub.execute_input": "2024-04-20T12:10:13.197759Z",
     "iopub.status.busy": "2024-04-20T12:10:13.197306Z",
     "iopub.status.idle": "2024-04-20T12:10:46.940053Z",
     "shell.execute_reply": "2024-04-20T12:10:46.938696Z"
    },
    "papermill": {
     "duration": 33.825342,
     "end_time": "2024-04-20T12:10:46.981078",
     "exception": false,
     "start_time": "2024-04-20T12:10:13.155736",
     "status": "completed"
    },
    "tags": []
   },
   "outputs": [
    {
     "data": {
      "text/html": [
       "<style>#sk-container-id-11 {color: black;background-color: white;}#sk-container-id-11 pre{padding: 0;}#sk-container-id-11 div.sk-toggleable {background-color: white;}#sk-container-id-11 label.sk-toggleable__label {cursor: pointer;display: block;width: 100%;margin-bottom: 0;padding: 0.3em;box-sizing: border-box;text-align: center;}#sk-container-id-11 label.sk-toggleable__label-arrow:before {content: \"▸\";float: left;margin-right: 0.25em;color: #696969;}#sk-container-id-11 label.sk-toggleable__label-arrow:hover:before {color: black;}#sk-container-id-11 div.sk-estimator:hover label.sk-toggleable__label-arrow:before {color: black;}#sk-container-id-11 div.sk-toggleable__content {max-height: 0;max-width: 0;overflow: hidden;text-align: left;background-color: #f0f8ff;}#sk-container-id-11 div.sk-toggleable__content pre {margin: 0.2em;color: black;border-radius: 0.25em;background-color: #f0f8ff;}#sk-container-id-11 input.sk-toggleable__control:checked~div.sk-toggleable__content {max-height: 200px;max-width: 100%;overflow: auto;}#sk-container-id-11 input.sk-toggleable__control:checked~label.sk-toggleable__label-arrow:before {content: \"▾\";}#sk-container-id-11 div.sk-estimator input.sk-toggleable__control:checked~label.sk-toggleable__label {background-color: #d4ebff;}#sk-container-id-11 div.sk-label input.sk-toggleable__control:checked~label.sk-toggleable__label {background-color: #d4ebff;}#sk-container-id-11 input.sk-hidden--visually {border: 0;clip: rect(1px 1px 1px 1px);clip: rect(1px, 1px, 1px, 1px);height: 1px;margin: -1px;overflow: hidden;padding: 0;position: absolute;width: 1px;}#sk-container-id-11 div.sk-estimator {font-family: monospace;background-color: #f0f8ff;border: 1px dotted black;border-radius: 0.25em;box-sizing: border-box;margin-bottom: 0.5em;}#sk-container-id-11 div.sk-estimator:hover {background-color: #d4ebff;}#sk-container-id-11 div.sk-parallel-item::after {content: \"\";width: 100%;border-bottom: 1px solid gray;flex-grow: 1;}#sk-container-id-11 div.sk-label:hover label.sk-toggleable__label {background-color: #d4ebff;}#sk-container-id-11 div.sk-serial::before {content: \"\";position: absolute;border-left: 1px solid gray;box-sizing: border-box;top: 0;bottom: 0;left: 50%;z-index: 0;}#sk-container-id-11 div.sk-serial {display: flex;flex-direction: column;align-items: center;background-color: white;padding-right: 0.2em;padding-left: 0.2em;position: relative;}#sk-container-id-11 div.sk-item {position: relative;z-index: 1;}#sk-container-id-11 div.sk-parallel {display: flex;align-items: stretch;justify-content: center;background-color: white;position: relative;}#sk-container-id-11 div.sk-item::before, #sk-container-id-11 div.sk-parallel-item::before {content: \"\";position: absolute;border-left: 1px solid gray;box-sizing: border-box;top: 0;bottom: 0;left: 50%;z-index: -1;}#sk-container-id-11 div.sk-parallel-item {display: flex;flex-direction: column;z-index: 1;position: relative;background-color: white;}#sk-container-id-11 div.sk-parallel-item:first-child::after {align-self: flex-end;width: 50%;}#sk-container-id-11 div.sk-parallel-item:last-child::after {align-self: flex-start;width: 50%;}#sk-container-id-11 div.sk-parallel-item:only-child::after {width: 0;}#sk-container-id-11 div.sk-dashed-wrapped {border: 1px dashed gray;margin: 0 0.4em 0.5em 0.4em;box-sizing: border-box;padding-bottom: 0.4em;background-color: white;}#sk-container-id-11 div.sk-label label {font-family: monospace;font-weight: bold;display: inline-block;line-height: 1.2em;}#sk-container-id-11 div.sk-label-container {text-align: center;}#sk-container-id-11 div.sk-container {/* jupyter's `normalize.less` sets `[hidden] { display: none; }` but bootstrap.min.css set `[hidden] { display: none !important; }` so we also need the `!important` here to be able to override the default hidden behavior on the sphinx rendered scikit-learn.org. See: https://github.com/scikit-learn/scikit-learn/issues/21755 */display: inline-block !important;position: relative;}#sk-container-id-11 div.sk-text-repr-fallback {display: none;}</style><div id=\"sk-container-id-11\" class=\"sk-top-container\"><div class=\"sk-text-repr-fallback\"><pre>RandomForestClassifier()</pre><b>In a Jupyter environment, please rerun this cell to show the HTML representation or trust the notebook. <br />On GitHub, the HTML representation is unable to render, please try loading this page with nbviewer.org.</b></div><div class=\"sk-container\" hidden><div class=\"sk-item\"><div class=\"sk-estimator sk-toggleable\"><input class=\"sk-toggleable__control sk-hidden--visually\" id=\"sk-estimator-id-24\" type=\"checkbox\" checked><label for=\"sk-estimator-id-24\" class=\"sk-toggleable__label sk-toggleable__label-arrow\">RandomForestClassifier</label><div class=\"sk-toggleable__content\"><pre>RandomForestClassifier()</pre></div></div></div></div></div>"
      ],
      "text/plain": [
       "RandomForestClassifier()"
      ]
     },
     "execution_count": 52,
     "metadata": {},
     "output_type": "execute_result"
    }
   ],
   "source": [
    "from sklearn.ensemble import RandomForestClassifier\n",
    "\n",
    "randomf_clf = RandomForestClassifier()\n",
    "randomf_clf.fit(x_train,y_train)"
   ]
  },
  {
   "cell_type": "code",
   "execution_count": 53,
   "id": "ad1ddf0f",
   "metadata": {
    "execution": {
     "iopub.execute_input": "2024-04-20T12:10:47.060069Z",
     "iopub.status.busy": "2024-04-20T12:10:47.059671Z",
     "iopub.status.idle": "2024-04-20T12:10:48.846989Z",
     "shell.execute_reply": "2024-04-20T12:10:48.846065Z"
    },
    "papermill": {
     "duration": 1.830116,
     "end_time": "2024-04-20T12:10:48.849346",
     "exception": false,
     "start_time": "2024-04-20T12:10:47.019230",
     "status": "completed"
    },
    "tags": []
   },
   "outputs": [
    {
     "name": "stdout",
     "output_type": "stream",
     "text": [
      "Accuracy Score of random forest algorithm on validation data:  0.7708104143747708\n"
     ]
    }
   ],
   "source": [
    "ypred_test = randomf_clf.predict(x_test)\n",
    "ypred_train = randomf_clf.predict(x_train)\n",
    "y_final_pred = randomf_clf.predict(df_test_transform)\n",
    "\n",
    "accuracy_randomF = accuracy_score(y_test,ypred_test)\n",
    "print('Accuracy Score of random forest algorithm on validation data: ',accuracy_randomF)"
   ]
  },
  {
   "cell_type": "markdown",
   "id": "d19c6c42",
   "metadata": {
    "papermill": {
     "duration": 0.038831,
     "end_time": "2024-04-20T12:10:48.927218",
     "exception": false,
     "start_time": "2024-04-20T12:10:48.888387",
     "status": "completed"
    },
    "tags": []
   },
   "source": [
    "**tuning the hyperParameter of RandomForestClassifier**\n",
    "**this algorithm gives only `76.088`**"
   ]
  },
  {
   "cell_type": "code",
   "execution_count": 54,
   "id": "81256d64",
   "metadata": {
    "execution": {
     "iopub.execute_input": "2024-04-20T12:10:49.007476Z",
     "iopub.status.busy": "2024-04-20T12:10:49.006800Z",
     "iopub.status.idle": "2024-04-20T12:15:42.958660Z",
     "shell.execute_reply": "2024-04-20T12:15:42.957469Z"
    },
    "papermill": {
     "duration": 294.034159,
     "end_time": "2024-04-20T12:15:42.999765",
     "exception": false,
     "start_time": "2024-04-20T12:10:48.965606",
     "status": "completed"
    },
    "tags": []
   },
   "outputs": [
    {
     "data": {
      "text/html": [
       "<style>#sk-container-id-12 {color: black;background-color: white;}#sk-container-id-12 pre{padding: 0;}#sk-container-id-12 div.sk-toggleable {background-color: white;}#sk-container-id-12 label.sk-toggleable__label {cursor: pointer;display: block;width: 100%;margin-bottom: 0;padding: 0.3em;box-sizing: border-box;text-align: center;}#sk-container-id-12 label.sk-toggleable__label-arrow:before {content: \"▸\";float: left;margin-right: 0.25em;color: #696969;}#sk-container-id-12 label.sk-toggleable__label-arrow:hover:before {color: black;}#sk-container-id-12 div.sk-estimator:hover label.sk-toggleable__label-arrow:before {color: black;}#sk-container-id-12 div.sk-toggleable__content {max-height: 0;max-width: 0;overflow: hidden;text-align: left;background-color: #f0f8ff;}#sk-container-id-12 div.sk-toggleable__content pre {margin: 0.2em;color: black;border-radius: 0.25em;background-color: #f0f8ff;}#sk-container-id-12 input.sk-toggleable__control:checked~div.sk-toggleable__content {max-height: 200px;max-width: 100%;overflow: auto;}#sk-container-id-12 input.sk-toggleable__control:checked~label.sk-toggleable__label-arrow:before {content: \"▾\";}#sk-container-id-12 div.sk-estimator input.sk-toggleable__control:checked~label.sk-toggleable__label {background-color: #d4ebff;}#sk-container-id-12 div.sk-label input.sk-toggleable__control:checked~label.sk-toggleable__label {background-color: #d4ebff;}#sk-container-id-12 input.sk-hidden--visually {border: 0;clip: rect(1px 1px 1px 1px);clip: rect(1px, 1px, 1px, 1px);height: 1px;margin: -1px;overflow: hidden;padding: 0;position: absolute;width: 1px;}#sk-container-id-12 div.sk-estimator {font-family: monospace;background-color: #f0f8ff;border: 1px dotted black;border-radius: 0.25em;box-sizing: border-box;margin-bottom: 0.5em;}#sk-container-id-12 div.sk-estimator:hover {background-color: #d4ebff;}#sk-container-id-12 div.sk-parallel-item::after {content: \"\";width: 100%;border-bottom: 1px solid gray;flex-grow: 1;}#sk-container-id-12 div.sk-label:hover label.sk-toggleable__label {background-color: #d4ebff;}#sk-container-id-12 div.sk-serial::before {content: \"\";position: absolute;border-left: 1px solid gray;box-sizing: border-box;top: 0;bottom: 0;left: 50%;z-index: 0;}#sk-container-id-12 div.sk-serial {display: flex;flex-direction: column;align-items: center;background-color: white;padding-right: 0.2em;padding-left: 0.2em;position: relative;}#sk-container-id-12 div.sk-item {position: relative;z-index: 1;}#sk-container-id-12 div.sk-parallel {display: flex;align-items: stretch;justify-content: center;background-color: white;position: relative;}#sk-container-id-12 div.sk-item::before, #sk-container-id-12 div.sk-parallel-item::before {content: \"\";position: absolute;border-left: 1px solid gray;box-sizing: border-box;top: 0;bottom: 0;left: 50%;z-index: -1;}#sk-container-id-12 div.sk-parallel-item {display: flex;flex-direction: column;z-index: 1;position: relative;background-color: white;}#sk-container-id-12 div.sk-parallel-item:first-child::after {align-self: flex-end;width: 50%;}#sk-container-id-12 div.sk-parallel-item:last-child::after {align-self: flex-start;width: 50%;}#sk-container-id-12 div.sk-parallel-item:only-child::after {width: 0;}#sk-container-id-12 div.sk-dashed-wrapped {border: 1px dashed gray;margin: 0 0.4em 0.5em 0.4em;box-sizing: border-box;padding-bottom: 0.4em;background-color: white;}#sk-container-id-12 div.sk-label label {font-family: monospace;font-weight: bold;display: inline-block;line-height: 1.2em;}#sk-container-id-12 div.sk-label-container {text-align: center;}#sk-container-id-12 div.sk-container {/* jupyter's `normalize.less` sets `[hidden] { display: none; }` but bootstrap.min.css set `[hidden] { display: none !important; }` so we also need the `!important` here to be able to override the default hidden behavior on the sphinx rendered scikit-learn.org. See: https://github.com/scikit-learn/scikit-learn/issues/21755 */display: inline-block !important;position: relative;}#sk-container-id-12 div.sk-text-repr-fallback {display: none;}</style><div id=\"sk-container-id-12\" class=\"sk-top-container\"><div class=\"sk-text-repr-fallback\"><pre>GridSearchCV(cv=5, estimator=RandomForestClassifier(),\n",
       "             param_grid={&#x27;max_depth&#x27;: [10, 20],\n",
       "                         &#x27;max_features&#x27;: [&#x27;auto&#x27;, &#x27;sqrt&#x27;, &#x27;log2&#x27;],\n",
       "                         &#x27;min_samples_leaf&#x27;: [1, 2, 4],\n",
       "                         &#x27;n_estimators&#x27;: [50, 100]},\n",
       "             scoring=&#x27;accuracy&#x27;)</pre><b>In a Jupyter environment, please rerun this cell to show the HTML representation or trust the notebook. <br />On GitHub, the HTML representation is unable to render, please try loading this page with nbviewer.org.</b></div><div class=\"sk-container\" hidden><div class=\"sk-item sk-dashed-wrapped\"><div class=\"sk-label-container\"><div class=\"sk-label sk-toggleable\"><input class=\"sk-toggleable__control sk-hidden--visually\" id=\"sk-estimator-id-25\" type=\"checkbox\" ><label for=\"sk-estimator-id-25\" class=\"sk-toggleable__label sk-toggleable__label-arrow\">GridSearchCV</label><div class=\"sk-toggleable__content\"><pre>GridSearchCV(cv=5, estimator=RandomForestClassifier(),\n",
       "             param_grid={&#x27;max_depth&#x27;: [10, 20],\n",
       "                         &#x27;max_features&#x27;: [&#x27;auto&#x27;, &#x27;sqrt&#x27;, &#x27;log2&#x27;],\n",
       "                         &#x27;min_samples_leaf&#x27;: [1, 2, 4],\n",
       "                         &#x27;n_estimators&#x27;: [50, 100]},\n",
       "             scoring=&#x27;accuracy&#x27;)</pre></div></div></div><div class=\"sk-parallel\"><div class=\"sk-parallel-item\"><div class=\"sk-item\"><div class=\"sk-label-container\"><div class=\"sk-label sk-toggleable\"><input class=\"sk-toggleable__control sk-hidden--visually\" id=\"sk-estimator-id-26\" type=\"checkbox\" ><label for=\"sk-estimator-id-26\" class=\"sk-toggleable__label sk-toggleable__label-arrow\">estimator: RandomForestClassifier</label><div class=\"sk-toggleable__content\"><pre>RandomForestClassifier()</pre></div></div></div><div class=\"sk-serial\"><div class=\"sk-item\"><div class=\"sk-estimator sk-toggleable\"><input class=\"sk-toggleable__control sk-hidden--visually\" id=\"sk-estimator-id-27\" type=\"checkbox\" ><label for=\"sk-estimator-id-27\" class=\"sk-toggleable__label sk-toggleable__label-arrow\">RandomForestClassifier</label><div class=\"sk-toggleable__content\"><pre>RandomForestClassifier()</pre></div></div></div></div></div></div></div></div></div></div>"
      ],
      "text/plain": [
       "GridSearchCV(cv=5, estimator=RandomForestClassifier(),\n",
       "             param_grid={'max_depth': [10, 20],\n",
       "                         'max_features': ['auto', 'sqrt', 'log2'],\n",
       "                         'min_samples_leaf': [1, 2, 4],\n",
       "                         'n_estimators': [50, 100]},\n",
       "             scoring='accuracy')"
      ]
     },
     "execution_count": 54,
     "metadata": {},
     "output_type": "execute_result"
    }
   ],
   "source": [
    "import warnings\n",
    "\n",
    "# Disable all warnings\n",
    "warnings.filterwarnings(\"ignore\")\n",
    "\n",
    "from sklearn.model_selection import GridSearchCV\n",
    "\n",
    "# Define the parameter grid\n",
    "param_grid = {\n",
    "    'n_estimators': [50, 100],                  \n",
    "    'max_depth': [10, 20],                      \n",
    "    'min_samples_leaf': [1, 2, 4],           \n",
    "    'max_features': ['auto', 'sqrt', 'log2']       \n",
    "}\n",
    "\n",
    "# Instantiate the RandomForestClassifier\n",
    "randomf_clf = RandomForestClassifier()\n",
    "\n",
    "# Instantiate GridSearchCV\n",
    "gscv_randomf= GridSearchCV(randomf_clf, param_grid, cv=5, scoring='accuracy')\n",
    "\n",
    "# Fit the GridSearchCV object to the training data\n",
    "gscv_randomf.fit(x_train, y_train)"
   ]
  },
  {
   "cell_type": "code",
   "execution_count": 55,
   "id": "4c7f8e22",
   "metadata": {
    "execution": {
     "iopub.execute_input": "2024-04-20T12:15:43.079250Z",
     "iopub.status.busy": "2024-04-20T12:15:43.078811Z",
     "iopub.status.idle": "2024-04-20T12:15:43.087175Z",
     "shell.execute_reply": "2024-04-20T12:15:43.085933Z"
    },
    "papermill": {
     "duration": 0.051211,
     "end_time": "2024-04-20T12:15:43.089774",
     "exception": false,
     "start_time": "2024-04-20T12:15:43.038563",
     "status": "completed"
    },
    "tags": []
   },
   "outputs": [
    {
     "data": {
      "text/html": [
       "<style>#sk-container-id-13 {color: black;background-color: white;}#sk-container-id-13 pre{padding: 0;}#sk-container-id-13 div.sk-toggleable {background-color: white;}#sk-container-id-13 label.sk-toggleable__label {cursor: pointer;display: block;width: 100%;margin-bottom: 0;padding: 0.3em;box-sizing: border-box;text-align: center;}#sk-container-id-13 label.sk-toggleable__label-arrow:before {content: \"▸\";float: left;margin-right: 0.25em;color: #696969;}#sk-container-id-13 label.sk-toggleable__label-arrow:hover:before {color: black;}#sk-container-id-13 div.sk-estimator:hover label.sk-toggleable__label-arrow:before {color: black;}#sk-container-id-13 div.sk-toggleable__content {max-height: 0;max-width: 0;overflow: hidden;text-align: left;background-color: #f0f8ff;}#sk-container-id-13 div.sk-toggleable__content pre {margin: 0.2em;color: black;border-radius: 0.25em;background-color: #f0f8ff;}#sk-container-id-13 input.sk-toggleable__control:checked~div.sk-toggleable__content {max-height: 200px;max-width: 100%;overflow: auto;}#sk-container-id-13 input.sk-toggleable__control:checked~label.sk-toggleable__label-arrow:before {content: \"▾\";}#sk-container-id-13 div.sk-estimator input.sk-toggleable__control:checked~label.sk-toggleable__label {background-color: #d4ebff;}#sk-container-id-13 div.sk-label input.sk-toggleable__control:checked~label.sk-toggleable__label {background-color: #d4ebff;}#sk-container-id-13 input.sk-hidden--visually {border: 0;clip: rect(1px 1px 1px 1px);clip: rect(1px, 1px, 1px, 1px);height: 1px;margin: -1px;overflow: hidden;padding: 0;position: absolute;width: 1px;}#sk-container-id-13 div.sk-estimator {font-family: monospace;background-color: #f0f8ff;border: 1px dotted black;border-radius: 0.25em;box-sizing: border-box;margin-bottom: 0.5em;}#sk-container-id-13 div.sk-estimator:hover {background-color: #d4ebff;}#sk-container-id-13 div.sk-parallel-item::after {content: \"\";width: 100%;border-bottom: 1px solid gray;flex-grow: 1;}#sk-container-id-13 div.sk-label:hover label.sk-toggleable__label {background-color: #d4ebff;}#sk-container-id-13 div.sk-serial::before {content: \"\";position: absolute;border-left: 1px solid gray;box-sizing: border-box;top: 0;bottom: 0;left: 50%;z-index: 0;}#sk-container-id-13 div.sk-serial {display: flex;flex-direction: column;align-items: center;background-color: white;padding-right: 0.2em;padding-left: 0.2em;position: relative;}#sk-container-id-13 div.sk-item {position: relative;z-index: 1;}#sk-container-id-13 div.sk-parallel {display: flex;align-items: stretch;justify-content: center;background-color: white;position: relative;}#sk-container-id-13 div.sk-item::before, #sk-container-id-13 div.sk-parallel-item::before {content: \"\";position: absolute;border-left: 1px solid gray;box-sizing: border-box;top: 0;bottom: 0;left: 50%;z-index: -1;}#sk-container-id-13 div.sk-parallel-item {display: flex;flex-direction: column;z-index: 1;position: relative;background-color: white;}#sk-container-id-13 div.sk-parallel-item:first-child::after {align-self: flex-end;width: 50%;}#sk-container-id-13 div.sk-parallel-item:last-child::after {align-self: flex-start;width: 50%;}#sk-container-id-13 div.sk-parallel-item:only-child::after {width: 0;}#sk-container-id-13 div.sk-dashed-wrapped {border: 1px dashed gray;margin: 0 0.4em 0.5em 0.4em;box-sizing: border-box;padding-bottom: 0.4em;background-color: white;}#sk-container-id-13 div.sk-label label {font-family: monospace;font-weight: bold;display: inline-block;line-height: 1.2em;}#sk-container-id-13 div.sk-label-container {text-align: center;}#sk-container-id-13 div.sk-container {/* jupyter's `normalize.less` sets `[hidden] { display: none; }` but bootstrap.min.css set `[hidden] { display: none !important; }` so we also need the `!important` here to be able to override the default hidden behavior on the sphinx rendered scikit-learn.org. See: https://github.com/scikit-learn/scikit-learn/issues/21755 */display: inline-block !important;position: relative;}#sk-container-id-13 div.sk-text-repr-fallback {display: none;}</style><div id=\"sk-container-id-13\" class=\"sk-top-container\"><div class=\"sk-text-repr-fallback\"><pre>RandomForestClassifier(max_depth=10, max_features=&#x27;auto&#x27;, n_estimators=50)</pre><b>In a Jupyter environment, please rerun this cell to show the HTML representation or trust the notebook. <br />On GitHub, the HTML representation is unable to render, please try loading this page with nbviewer.org.</b></div><div class=\"sk-container\" hidden><div class=\"sk-item\"><div class=\"sk-estimator sk-toggleable\"><input class=\"sk-toggleable__control sk-hidden--visually\" id=\"sk-estimator-id-28\" type=\"checkbox\" checked><label for=\"sk-estimator-id-28\" class=\"sk-toggleable__label sk-toggleable__label-arrow\">RandomForestClassifier</label><div class=\"sk-toggleable__content\"><pre>RandomForestClassifier(max_depth=10, max_features=&#x27;auto&#x27;, n_estimators=50)</pre></div></div></div></div></div>"
      ],
      "text/plain": [
       "RandomForestClassifier(max_depth=10, max_features='auto', n_estimators=50)"
      ]
     },
     "execution_count": 55,
     "metadata": {},
     "output_type": "execute_result"
    }
   ],
   "source": [
    "gscv_randomf.best_estimator_"
   ]
  },
  {
   "cell_type": "code",
   "execution_count": 56,
   "id": "4eb2ef82",
   "metadata": {
    "execution": {
     "iopub.execute_input": "2024-04-20T12:15:43.170986Z",
     "iopub.status.busy": "2024-04-20T12:15:43.170221Z",
     "iopub.status.idle": "2024-04-20T12:15:43.506525Z",
     "shell.execute_reply": "2024-04-20T12:15:43.504992Z"
    },
    "papermill": {
     "duration": 0.380053,
     "end_time": "2024-04-20T12:15:43.509102",
     "exception": false,
     "start_time": "2024-04-20T12:15:43.129049",
     "status": "completed"
    },
    "tags": []
   },
   "outputs": [
    {
     "name": "stdout",
     "output_type": "stream",
     "text": [
      "Accuarcy Score of Random forest algorithm with hpt on validation data:  0.7708104143747708\n"
     ]
    }
   ],
   "source": [
    "ypred = gscv_randomf.best_estimator_.predict(x_test)\n",
    "ypred_train = gscv_randomf.best_estimator_.predict(x_train)\n",
    "y_final_pred = gscv_randomf.best_estimator_.predict(df_test_transform)\n",
    "\n",
    "accuracy_randomF_hpt = accuracy_score(y_test,ypred_test)\n",
    "print('Accuarcy Score of Random forest algorithm with hpt on validation data: ',accuracy_randomF_hpt)"
   ]
  },
  {
   "cell_type": "markdown",
   "id": "176e5728",
   "metadata": {
    "papermill": {
     "duration": 0.039799,
     "end_time": "2024-04-20T12:15:43.589351",
     "exception": false,
     "start_time": "2024-04-20T12:15:43.549552",
     "status": "completed"
    },
    "tags": []
   },
   "source": [
    "# XGB Classifier."
   ]
  },
  {
   "cell_type": "code",
   "execution_count": 57,
   "id": "a0605877",
   "metadata": {
    "execution": {
     "iopub.execute_input": "2024-04-20T12:15:43.670076Z",
     "iopub.status.busy": "2024-04-20T12:15:43.668914Z",
     "iopub.status.idle": "2024-04-20T12:17:14.243191Z",
     "shell.execute_reply": "2024-04-20T12:17:14.241965Z"
    },
    "papermill": {
     "duration": 90.657125,
     "end_time": "2024-04-20T12:17:14.285587",
     "exception": false,
     "start_time": "2024-04-20T12:15:43.628462",
     "status": "completed"
    },
    "tags": []
   },
   "outputs": [
    {
     "data": {
      "text/html": [
       "<style>#sk-container-id-14 {color: black;background-color: white;}#sk-container-id-14 pre{padding: 0;}#sk-container-id-14 div.sk-toggleable {background-color: white;}#sk-container-id-14 label.sk-toggleable__label {cursor: pointer;display: block;width: 100%;margin-bottom: 0;padding: 0.3em;box-sizing: border-box;text-align: center;}#sk-container-id-14 label.sk-toggleable__label-arrow:before {content: \"▸\";float: left;margin-right: 0.25em;color: #696969;}#sk-container-id-14 label.sk-toggleable__label-arrow:hover:before {color: black;}#sk-container-id-14 div.sk-estimator:hover label.sk-toggleable__label-arrow:before {color: black;}#sk-container-id-14 div.sk-toggleable__content {max-height: 0;max-width: 0;overflow: hidden;text-align: left;background-color: #f0f8ff;}#sk-container-id-14 div.sk-toggleable__content pre {margin: 0.2em;color: black;border-radius: 0.25em;background-color: #f0f8ff;}#sk-container-id-14 input.sk-toggleable__control:checked~div.sk-toggleable__content {max-height: 200px;max-width: 100%;overflow: auto;}#sk-container-id-14 input.sk-toggleable__control:checked~label.sk-toggleable__label-arrow:before {content: \"▾\";}#sk-container-id-14 div.sk-estimator input.sk-toggleable__control:checked~label.sk-toggleable__label {background-color: #d4ebff;}#sk-container-id-14 div.sk-label input.sk-toggleable__control:checked~label.sk-toggleable__label {background-color: #d4ebff;}#sk-container-id-14 input.sk-hidden--visually {border: 0;clip: rect(1px 1px 1px 1px);clip: rect(1px, 1px, 1px, 1px);height: 1px;margin: -1px;overflow: hidden;padding: 0;position: absolute;width: 1px;}#sk-container-id-14 div.sk-estimator {font-family: monospace;background-color: #f0f8ff;border: 1px dotted black;border-radius: 0.25em;box-sizing: border-box;margin-bottom: 0.5em;}#sk-container-id-14 div.sk-estimator:hover {background-color: #d4ebff;}#sk-container-id-14 div.sk-parallel-item::after {content: \"\";width: 100%;border-bottom: 1px solid gray;flex-grow: 1;}#sk-container-id-14 div.sk-label:hover label.sk-toggleable__label {background-color: #d4ebff;}#sk-container-id-14 div.sk-serial::before {content: \"\";position: absolute;border-left: 1px solid gray;box-sizing: border-box;top: 0;bottom: 0;left: 50%;z-index: 0;}#sk-container-id-14 div.sk-serial {display: flex;flex-direction: column;align-items: center;background-color: white;padding-right: 0.2em;padding-left: 0.2em;position: relative;}#sk-container-id-14 div.sk-item {position: relative;z-index: 1;}#sk-container-id-14 div.sk-parallel {display: flex;align-items: stretch;justify-content: center;background-color: white;position: relative;}#sk-container-id-14 div.sk-item::before, #sk-container-id-14 div.sk-parallel-item::before {content: \"\";position: absolute;border-left: 1px solid gray;box-sizing: border-box;top: 0;bottom: 0;left: 50%;z-index: -1;}#sk-container-id-14 div.sk-parallel-item {display: flex;flex-direction: column;z-index: 1;position: relative;background-color: white;}#sk-container-id-14 div.sk-parallel-item:first-child::after {align-self: flex-end;width: 50%;}#sk-container-id-14 div.sk-parallel-item:last-child::after {align-self: flex-start;width: 50%;}#sk-container-id-14 div.sk-parallel-item:only-child::after {width: 0;}#sk-container-id-14 div.sk-dashed-wrapped {border: 1px dashed gray;margin: 0 0.4em 0.5em 0.4em;box-sizing: border-box;padding-bottom: 0.4em;background-color: white;}#sk-container-id-14 div.sk-label label {font-family: monospace;font-weight: bold;display: inline-block;line-height: 1.2em;}#sk-container-id-14 div.sk-label-container {text-align: center;}#sk-container-id-14 div.sk-container {/* jupyter's `normalize.less` sets `[hidden] { display: none; }` but bootstrap.min.css set `[hidden] { display: none !important; }` so we also need the `!important` here to be able to override the default hidden behavior on the sphinx rendered scikit-learn.org. See: https://github.com/scikit-learn/scikit-learn/issues/21755 */display: inline-block !important;position: relative;}#sk-container-id-14 div.sk-text-repr-fallback {display: none;}</style><div id=\"sk-container-id-14\" class=\"sk-top-container\"><div class=\"sk-text-repr-fallback\"><pre>XGBClassifier(base_score=None, booster=None, callbacks=None,\n",
       "              colsample_bylevel=None, colsample_bynode=None,\n",
       "              colsample_bytree=None, device=None, early_stopping_rounds=None,\n",
       "              enable_categorical=False, eval_metric=None, feature_types=None,\n",
       "              gamma=None, grow_policy=None, importance_type=None,\n",
       "              interaction_constraints=None, learning_rate=None, max_bin=None,\n",
       "              max_cat_threshold=None, max_cat_to_onehot=None,\n",
       "              max_delta_step=None, max_depth=None, max_leaves=None,\n",
       "              min_child_weight=None, missing=nan, monotone_constraints=None,\n",
       "              multi_strategy=None, n_estimators=None, n_jobs=None,\n",
       "              num_parallel_tree=None, objective=&#x27;multi:softprob&#x27;, ...)</pre><b>In a Jupyter environment, please rerun this cell to show the HTML representation or trust the notebook. <br />On GitHub, the HTML representation is unable to render, please try loading this page with nbviewer.org.</b></div><div class=\"sk-container\" hidden><div class=\"sk-item\"><div class=\"sk-estimator sk-toggleable\"><input class=\"sk-toggleable__control sk-hidden--visually\" id=\"sk-estimator-id-29\" type=\"checkbox\" checked><label for=\"sk-estimator-id-29\" class=\"sk-toggleable__label sk-toggleable__label-arrow\">XGBClassifier</label><div class=\"sk-toggleable__content\"><pre>XGBClassifier(base_score=None, booster=None, callbacks=None,\n",
       "              colsample_bylevel=None, colsample_bynode=None,\n",
       "              colsample_bytree=None, device=None, early_stopping_rounds=None,\n",
       "              enable_categorical=False, eval_metric=None, feature_types=None,\n",
       "              gamma=None, grow_policy=None, importance_type=None,\n",
       "              interaction_constraints=None, learning_rate=None, max_bin=None,\n",
       "              max_cat_threshold=None, max_cat_to_onehot=None,\n",
       "              max_delta_step=None, max_depth=None, max_leaves=None,\n",
       "              min_child_weight=None, missing=nan, monotone_constraints=None,\n",
       "              multi_strategy=None, n_estimators=None, n_jobs=None,\n",
       "              num_parallel_tree=None, objective=&#x27;multi:softprob&#x27;, ...)</pre></div></div></div></div></div>"
      ],
      "text/plain": [
       "XGBClassifier(base_score=None, booster=None, callbacks=None,\n",
       "              colsample_bylevel=None, colsample_bynode=None,\n",
       "              colsample_bytree=None, device=None, early_stopping_rounds=None,\n",
       "              enable_categorical=False, eval_metric=None, feature_types=None,\n",
       "              gamma=None, grow_policy=None, importance_type=None,\n",
       "              interaction_constraints=None, learning_rate=None, max_bin=None,\n",
       "              max_cat_threshold=None, max_cat_to_onehot=None,\n",
       "              max_delta_step=None, max_depth=None, max_leaves=None,\n",
       "              min_child_weight=None, missing=nan, monotone_constraints=None,\n",
       "              multi_strategy=None, n_estimators=None, n_jobs=None,\n",
       "              num_parallel_tree=None, objective='multi:softprob', ...)"
      ]
     },
     "execution_count": 57,
     "metadata": {},
     "output_type": "execute_result"
    }
   ],
   "source": [
    "from xgboost import XGBClassifier\n",
    "\n",
    "# Create XGBoost classifier\n",
    "xgb_clf = XGBClassifier()\n",
    "\n",
    "# Fit the classifier to the training data\n",
    "xgb_clf.fit(x_train, y_train)"
   ]
  },
  {
   "cell_type": "code",
   "execution_count": 58,
   "id": "126ac9a2",
   "metadata": {
    "execution": {
     "iopub.execute_input": "2024-04-20T12:17:14.367038Z",
     "iopub.status.busy": "2024-04-20T12:17:14.366634Z",
     "iopub.status.idle": "2024-04-20T12:17:14.424849Z",
     "shell.execute_reply": "2024-04-20T12:17:14.423843Z"
    },
    "papermill": {
     "duration": 0.102779,
     "end_time": "2024-04-20T12:17:14.427549",
     "exception": false,
     "start_time": "2024-04-20T12:17:14.324770",
     "status": "completed"
    },
    "tags": []
   },
   "outputs": [
    {
     "data": {
      "text/plain": [
       "0.7807114044737807"
      ]
     },
     "execution_count": 58,
     "metadata": {},
     "output_type": "execute_result"
    }
   ],
   "source": [
    "xgb=xgb_clf.score(x_test,y_test)\n",
    "xgb"
   ]
  },
  {
   "cell_type": "markdown",
   "id": "0412eceb",
   "metadata": {
    "papermill": {
     "duration": 0.040773,
     "end_time": "2024-04-20T12:17:14.509625",
     "exception": false,
     "start_time": "2024-04-20T12:17:14.468852",
     "status": "completed"
    },
    "tags": []
   },
   "source": [
    "# HPT OF XGB Classifier"
   ]
  },
  {
   "cell_type": "code",
   "execution_count": 59,
   "id": "db37e28d",
   "metadata": {
    "execution": {
     "iopub.execute_input": "2024-04-20T12:17:14.590081Z",
     "iopub.status.busy": "2024-04-20T12:17:14.589648Z",
     "iopub.status.idle": "2024-04-20T12:17:14.595088Z",
     "shell.execute_reply": "2024-04-20T12:17:14.593930Z"
    },
    "papermill": {
     "duration": 0.048499,
     "end_time": "2024-04-20T12:17:14.597571",
     "exception": false,
     "start_time": "2024-04-20T12:17:14.549072",
     "status": "completed"
    },
    "tags": []
   },
   "outputs": [],
   "source": [
    "# param_grid = {\n",
    "#     'max_depth': [10, 50, 100],\n",
    "#     'learning_rate': [0.1, 0.01, 0.001],\n",
    "#     'n_estimators': [100, 200, 300],\n",
    "#     'gamma': [0, 0.1, 0.2],\n",
    "#     'subsample': [0.8, 1.0],           # Fraction of samples to be used for training each tree\n",
    "#     'colsample_bytree': [0.8, 1.0],      # Fraction of features to be used for training each tree\n",
    "#     'reg_alpha': [0, 0.1, 0.5],           # L1 regularization term on weights\n",
    "#     'reg_lambda': [0, 0.1, 0.5],      # L2 regularization term on weights\n",
    "# }\n",
    "\n",
    "# # Create XGBoost classifier\n",
    "# xgb_clf = XGBClassifier()\n",
    "\n",
    "# # Perform GridSearchCV\n",
    "# grid_search = GridSearchCV(estimator=xgb_clf, param_grid=param_grid, cv=5, scoring='accuracy')\n",
    "# grid_search.fit(x_train, y_train)"
   ]
  },
  {
   "cell_type": "markdown",
   "id": "6328f33c",
   "metadata": {
    "papermill": {
     "duration": 0.038733,
     "end_time": "2024-04-20T12:17:14.675604",
     "exception": false,
     "start_time": "2024-04-20T12:17:14.636871",
     "status": "completed"
    },
    "tags": []
   },
   "source": [
    "## Model Comparision on accuracy_score for Validation data and test data"
   ]
  },
  {
   "cell_type": "code",
   "execution_count": 60,
   "id": "255081a7",
   "metadata": {
    "execution": {
     "iopub.execute_input": "2024-04-20T12:17:14.756384Z",
     "iopub.status.busy": "2024-04-20T12:17:14.755654Z",
     "iopub.status.idle": "2024-04-20T12:17:14.761967Z",
     "shell.execute_reply": "2024-04-20T12:17:14.761125Z"
    },
    "papermill": {
     "duration": 0.049248,
     "end_time": "2024-04-20T12:17:14.764229",
     "exception": false,
     "start_time": "2024-04-20T12:17:14.714981",
     "status": "completed"
    },
    "tags": []
   },
   "outputs": [],
   "source": [
    "A = round(accuracy_randomF, 2)\n",
    "B = round(accuracy_perceptron_hpt, 2)\n",
    "C = round(accuracy_linsvc, 2)\n",
    "D = round(accuracy_linsvc_hpt, 2)\n",
    "E = round(accuarcy_lr_clf, 2)\n",
    "F = round(accuracy_lr_HPT, 2)\n",
    "G = round(xgb,2)"
   ]
  },
  {
   "cell_type": "code",
   "execution_count": 61,
   "id": "5185d1e4",
   "metadata": {
    "execution": {
     "iopub.execute_input": "2024-04-20T12:17:14.844586Z",
     "iopub.status.busy": "2024-04-20T12:17:14.844174Z",
     "iopub.status.idle": "2024-04-20T12:17:15.041363Z",
     "shell.execute_reply": "2024-04-20T12:17:15.040028Z"
    },
    "papermill": {
     "duration": 0.240648,
     "end_time": "2024-04-20T12:17:15.044044",
     "exception": false,
     "start_time": "2024-04-20T12:17:14.803396",
     "status": "completed"
    },
    "tags": []
   },
   "outputs": [
    {
     "data": {
      "image/png": "[encoded data removed]",
      "text/plain": [
       "<Figure size 640x480 with 1 Axes>"
      ]
     },
     "metadata": {},
     "output_type": "display_data"
    }
   ],
   "source": [
    "model_name = ['RandomF','pp_HPT','Lin_svm','Lin_svm_hpt','Lg','lg_HPT','xgb']\n",
    "accuracy_score = [A,B,C,D,E,F,G]\n",
    "\n",
    "# plt.figure(figsize=(8,6))\n",
    "sns.barplot(x=model_name,y=accuracy_score)\n",
    "plt.ylim(0.7, 0.8)\n",
    "plt.show()\n"
   ]
  },
  {
   "cell_type": "markdown",
   "id": "5326c98e",
   "metadata": {
    "papermill": {
     "duration": 0.040108,
     "end_time": "2024-04-20T12:17:15.125508",
     "exception": false,
     "start_time": "2024-04-20T12:17:15.085400",
     "status": "completed"
    },
    "tags": []
   },
   "source": [
    "Compare the model on the final accuarcy rate"
   ]
  },
  {
   "cell_type": "code",
   "execution_count": 62,
   "id": "e8959aea",
   "metadata": {
    "execution": {
     "iopub.execute_input": "2024-04-20T12:17:15.211485Z",
     "iopub.status.busy": "2024-04-20T12:17:15.211044Z",
     "iopub.status.idle": "2024-04-20T12:17:15.405664Z",
     "shell.execute_reply": "2024-04-20T12:17:15.404455Z"
    },
    "papermill": {
     "duration": 0.241124,
     "end_time": "2024-04-20T12:17:15.408172",
     "exception": false,
     "start_time": "2024-04-20T12:17:15.167048",
     "status": "completed"
    },
    "tags": []
   },
   "outputs": [
    {
     "data": {
      "image/png": "[encoded data removed]",
      "text/plain": [
       "<Figure size 640x480 with 1 Axes>"
      ]
     },
     "metadata": {},
     "output_type": "display_data"
    }
   ],
   "source": [
    "sns.barplot(x=['RandomF', 'pp_HPT', 'Lin_svm', 'Lin_svm_hpt', 'Lg', 'lg_HPT','Xgb_hpt'], y=[77.012, 77.76, 78.5, 78.64, 77.8, 78.94,78.02])\n",
    "plt.ylim(70, 80)  # Set the y-axis range from 70 to 80\n",
    "plt.show()"
   ]
  }
 ],
 "metadata": {
  "kaggle": {
   "accelerator": "none",
   "dataSources": [
    {
     "databundleVersionId": 7452256,
     "sourceId": 67079,
     "sourceType": "competition"
    }
   ],
   "dockerImageVersionId": 30646,
   "isGpuEnabled": false,
   "isInternetEnabled": true,
   "language": "python",
   "sourceType": "notebook"
  },
  "kernelspec": {
   "display_name": "Python 3",
   "language": "python",
   "name": "python3"
  },
  "language_info": {
   "codemirror_mode": {
    "name": "ipython",
    "version": 3
   },
   "file_extension": ".py",
   "mimetype": "text/x-python",
   "name": "python",
   "nbconvert_exporter": "python",
   "pygments_lexer": "ipython3",
   "version": "3.10.13"
  },
  "papermill": {
   "default_parameters": {},
   "duration": 1160.383973,
   "end_time": "2024-04-20T12:17:16.375832",
   "environment_variables": {},
   "exception": null,
   "input_path": "__notebook__.ipynb",
   "output_path": "__notebook__.ipynb",
   "parameters": {},
   "start_time": "2024-04-20T11:57:55.991859",
   "version": "2.5.0"
  }
 },
 "nbformat": 4,
 "nbformat_minor": 5
}
